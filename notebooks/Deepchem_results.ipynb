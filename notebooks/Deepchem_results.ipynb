{
 "cells": [
  {
   "cell_type": "code",
   "execution_count": 1,
   "metadata": {},
   "outputs": [],
   "source": [
    "%matplotlib widget"
   ]
  },
  {
   "cell_type": "code",
   "execution_count": 2,
   "metadata": {},
   "outputs": [],
   "source": [
    "import os\n",
    "import pickle as pk\n",
    "\n",
    "import matplotlib.pyplot as plt\n",
    "plt.ioff()"
   ]
  },
  {
   "cell_type": "code",
   "execution_count": 3,
   "metadata": {},
   "outputs": [],
   "source": [
    "ROOT = os.path.join(os.path.pardir, \"logs\", \"GIN\")\n",
    "DEEP_CHEM = \"DeepChem_20200707\"\n",
    "JAK123 = \"JAK123_20200706\""
   ]
  },
  {
   "cell_type": "code",
   "execution_count": 18,
   "metadata": {},
   "outputs": [],
   "source": [
    "bace_dir = os.path.join(ROOT, DEEP_CHEM, \"20200707_011659\")\n",
    "bbbp_dir = os.path.join(ROOT, DEEP_CHEM, \"20200707_014942\")\n",
    "clintox_dir = os.path.join(ROOT, DEEP_CHEM, \"20200707_022206\")\n",
    "hiv_dir = os.path.join(ROOT, DEEP_CHEM, \"20200707_024306\")\n",
    "sider_dir = os.path.join(ROOT, DEEP_CHEM, \"20200707_151221\")\n",
    "met_fname = \"classifier_metrics.pk\""
   ]
  },
  {
   "cell_type": "code",
   "execution_count": 20,
   "metadata": {},
   "outputs": [
    {
     "name": "stdout",
     "output_type": "stream",
     "text": [
      "(3,)\n"
     ]
    },
    {
     "data": {
      "application/vnd.jupyter.widget-view+json": {
       "model_id": "5420122f141c43bebfa0c822f05627ef",
       "version_major": 2,
       "version_minor": 0
      },
      "text/plain": [
       "Canvas(toolbar=Toolbar(toolitems=[('Home', 'Reset original view', 'home', 'home'), ('Back', 'Back to previous …"
      ]
     },
     "metadata": {},
     "output_type": "display_data"
    }
   ],
   "source": [
    "path = sider_dir\n",
    "fig, axe = plt.subplots(ncols=3, nrows=1, figsize=[24, 6])\n",
    "print(axe.shape)\n",
    "for d in os.scandir(path):\n",
    "    for i, r in enumerate(os.scandir(d.path)):\n",
    "        ax_idx = int(int(i/2) % 3)\n",
    "        met = pk.load(open(os.path.join(r.path, met_fname), \"rb\"))\n",
    "        axe[ax_idx].plot(range(len(met[\"validating_ROC_AUC\"])), met[\"validating_ROC_AUC\"], label=f\"{r.name}_ROC\")\n",
    "        axe[ax_idx].legend()\n",
    "fig.show()\n",
    "fig.savefig(os.path.join(path, \"sider_roc.png\"))"
   ]
  },
  {
   "cell_type": "code",
   "execution_count": null,
   "metadata": {},
   "outputs": [],
   "source": []
  }
 ],
 "metadata": {
  "kernelspec": {
   "display_name": "Python 3",
   "language": "python",
   "name": "python3"
  },
  "language_info": {
   "codemirror_mode": {
    "name": "ipython",
    "version": 3
   },
   "file_extension": ".py",
   "mimetype": "text/x-python",
   "name": "python",
   "nbconvert_exporter": "python",
   "pygments_lexer": "ipython3",
   "version": "3.6.9"
  }
 },
 "nbformat": 4,
 "nbformat_minor": 4
}

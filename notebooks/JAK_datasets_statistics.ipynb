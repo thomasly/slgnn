{
 "cells": [
  {
   "cell_type": "code",
   "execution_count": 1,
   "metadata": {},
   "outputs": [],
   "source": [
    "import os.path as osp"
   ]
  },
  {
   "cell_type": "code",
   "execution_count": 2,
   "metadata": {},
   "outputs": [],
   "source": [
    "name = \"JAK1\"\n",
    "path = osp.join(\"..\", \"data\", \"JAK\", \"graphs\", name, \"raw\", f\"{name}_graph_labels.txt\")\n",
    "with open(path, \"r\") as f:\n",
    "    counter = [0, 0, 0]\n",
    "    for line in f.readlines():\n",
    "        counter[int(line)+1] += 1"
   ]
  },
  {
   "cell_type": "code",
   "execution_count": 3,
   "metadata": {},
   "outputs": [
    {
     "data": {
      "text/plain": [
       "[205, 198, 3314]"
      ]
     },
     "execution_count": 3,
     "metadata": {},
     "output_type": "execute_result"
    }
   ],
   "source": [
    "counter"
   ]
  },
  {
   "cell_type": "code",
   "execution_count": 4,
   "metadata": {},
   "outputs": [
    {
     "name": "stdout",
     "output_type": "stream",
     "text": [
      "[400, 1020, 4433]\n"
     ]
    }
   ],
   "source": [
    "name = \"JAK2\"\n",
    "path = osp.join(\"..\", \"data\", \"JAK\", \"graphs\", name, \"raw\", f\"{name}_graph_labels.txt\")\n",
    "with open(path, \"r\") as f:\n",
    "    counter = [0, 0, 0]\n",
    "    for line in f.readlines():\n",
    "        counter[int(line)+1] += 1\n",
    "print(counter)"
   ]
  },
  {
   "cell_type": "code",
   "execution_count": 5,
   "metadata": {},
   "outputs": [
    {
     "name": "stdout",
     "output_type": "stream",
     "text": [
      "[454, 661, 2405]\n"
     ]
    }
   ],
   "source": [
    "name = \"JAK3\"\n",
    "path = osp.join(\"..\", \"data\", \"JAK\", \"graphs\", name, \"raw\", f\"{name}_graph_labels.txt\")\n",
    "with open(path, \"r\") as f:\n",
    "    counter = [0, 0, 0]\n",
    "    for line in f.readlines():\n",
    "        counter[int(line)+1] += 1\n",
    "print(counter)"
   ]
  },
  {
   "cell_type": "code",
   "execution_count": null,
   "metadata": {},
   "outputs": [],
   "source": []
  }
 ],
 "metadata": {
  "kernelspec": {
   "display_name": "Python 3.6.10 64-bit ('pytorch': conda)",
   "language": "python",
   "name": "python361064bitpytorchconda8caf37ff959b48d19abf0e5dbf63b277"
  },
  "language_info": {
   "codemirror_mode": {
    "name": "ipython",
    "version": 3
   },
   "file_extension": ".py",
   "mimetype": "text/x-python",
   "name": "python",
   "nbconvert_exporter": "python",
   "pygments_lexer": "ipython3",
   "version": "3.6.10"
  }
 },
 "nbformat": 4,
 "nbformat_minor": 4
}

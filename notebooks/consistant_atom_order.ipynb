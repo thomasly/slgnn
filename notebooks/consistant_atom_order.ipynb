{
 "cells": [
  {
   "cell_type": "code",
   "execution_count": 1,
   "metadata": {},
   "outputs": [
    {
     "name": "stdout",
     "output_type": "stream",
     "text": [
      "2020.03.5\n"
     ]
    }
   ],
   "source": [
    "import os\n",
    "import sys\n",
    "sys.path.append(\"..\")\n",
    "\n",
    "from rdkit import Chem\n",
    "from rdkit.Chem.Draw import IPythonConsole\n",
    "from rdkit.Chem import Draw\n",
    "from rdkit.Chem.Draw import rdMolDraw2D\n",
    "from rdkit.Chem import rdDepictor\n",
    "rdDepictor.SetPreferCoordGen(True)\n",
    "from IPython.display import SVG\n",
    "import rdkit\n",
    "print(rdkit.__version__)"
   ]
  },
  {
   "cell_type": "code",
   "execution_count": 2,
   "metadata": {},
   "outputs": [],
   "source": [
    "def get_blocks(path):\n",
    "    with open(path, \"r\") as f:\n",
    "        line = f.readline()\n",
    "        while line:\n",
    "            block = \"\"\n",
    "            if line.startswith(\"@<TRIPOS>MOLECULE\"):\n",
    "                block += line\n",
    "                line = f.readline()\n",
    "                while not line.startswith(\"@<TRIPOS>MOLECULE\"):\n",
    "                    block += line\n",
    "                    line = f.readline()\n",
    "                yield(block)"
   ]
  },
  {
   "cell_type": "code",
   "execution_count": 3,
   "metadata": {},
   "outputs": [],
   "source": [
    "blocks = get_blocks(\"AAAAHL.xaa.mol2\")"
   ]
  },
  {
   "cell_type": "code",
   "execution_count": 20,
   "metadata": {},
   "outputs": [],
   "source": [
    "while 1:\n",
    "    b = next(blocks)\n",
    "    mol2 = Chem.rdmolfiles.MolFromMol2Block(b, removeHs=False)\n",
    "    if mol2 is None:\n",
    "        continue\n",
    "    break"
   ]
  },
  {
   "cell_type": "code",
   "execution_count": 29,
   "metadata": {},
   "outputs": [
    {
     "data": {
      "image/svg+xml": [
       "<svg baseProfile=\"full\" height=\"500px\" version=\"1.1\" viewBox=\"0 0 500 500\" width=\"500px\" xml:space=\"preserve\" xmlns=\"http://www.w3.org/2000/svg\" xmlns:rdkit=\"http://www.rdkit.org/xml\" xmlns:xlink=\"http://www.w3.org/1999/xlink\">\n",
       "<!-- END OF HEADER -->\n",
       "<rect height=\"500\" style=\"opacity:1.0;fill:#FFFFFF;stroke:none\" width=\"500\" x=\"0\" y=\"0\"> </rect>\n",
       "<path class=\"bond-0\" d=\"M 365.01,116.502 L 365.458,152.065\" style=\"fill:none;fill-rule:evenodd;stroke:#0000FF;stroke-width:2px;stroke-linecap:butt;stroke-linejoin:miter;stroke-opacity:1\"/>\n",
       "<path class=\"bond-0\" d=\"M 365.458,152.065 L 365.907,187.628\" style=\"fill:none;fill-rule:evenodd;stroke:#000000;stroke-width:2px;stroke-linecap:butt;stroke-linejoin:miter;stroke-opacity:1\"/>\n",
       "<path class=\"bond-1\" d=\"M 378.847,91.9569 L 391.824,84.2443\" style=\"fill:none;fill-rule:evenodd;stroke:#0000FF;stroke-width:2px;stroke-linecap:butt;stroke-linejoin:miter;stroke-opacity:1\"/>\n",
       "<path class=\"bond-1\" d=\"M 391.824,84.2443 L 404.801,76.5317\" style=\"fill:none;fill-rule:evenodd;stroke:#000000;stroke-width:2px;stroke-linecap:butt;stroke-linejoin:miter;stroke-opacity:1\"/>\n",
       "<path class=\"bond-2\" d=\"M 350.764,92.4298 L 337.395,84.9345\" style=\"fill:none;fill-rule:evenodd;stroke:#0000FF;stroke-width:2px;stroke-linecap:butt;stroke-linejoin:miter;stroke-opacity:1\"/>\n",
       "<path class=\"bond-2\" d=\"M 337.395,84.9345 L 324.025,77.4391\" style=\"fill:none;fill-rule:evenodd;stroke:#000000;stroke-width:2px;stroke-linecap:butt;stroke-linejoin:miter;stroke-opacity:1\"/>\n",
       "<path class=\"bond-3\" d=\"M 361.142,196.1 L 387.798,211.091\" style=\"fill:none;fill-rule:evenodd;stroke:#000000;stroke-width:2px;stroke-linecap:butt;stroke-linejoin:miter;stroke-opacity:1\"/>\n",
       "<path class=\"bond-3\" d=\"M 387.798,211.091 L 414.455,226.083\" style=\"fill:none;fill-rule:evenodd;stroke:#FF0000;stroke-width:2px;stroke-linecap:butt;stroke-linejoin:miter;stroke-opacity:1\"/>\n",
       "<path class=\"bond-3\" d=\"M 370.672,179.156 L 397.328,194.147\" style=\"fill:none;fill-rule:evenodd;stroke:#000000;stroke-width:2px;stroke-linecap:butt;stroke-linejoin:miter;stroke-opacity:1\"/>\n",
       "<path class=\"bond-3\" d=\"M 397.328,194.147 L 423.984,209.138\" style=\"fill:none;fill-rule:evenodd;stroke:#FF0000;stroke-width:2px;stroke-linecap:butt;stroke-linejoin:miter;stroke-opacity:1\"/>\n",
       "<path class=\"bond-4\" d=\"M 365.907,187.628 L 284.66,236.242\" style=\"fill:none;fill-rule:evenodd;stroke:#000000;stroke-width:2px;stroke-linecap:butt;stroke-linejoin:miter;stroke-opacity:1\"/>\n",
       "<path class=\"bond-5\" d=\"M 284.66,236.242 L 200.768,191.548\" style=\"fill:none;fill-rule:evenodd;stroke:#000000;stroke-width:2px;stroke-linecap:butt;stroke-linejoin:miter;stroke-opacity:1\"/>\n",
       "<path class=\"bond-6\" d=\"M 284.66,236.242 L 284.789,326.49\" style=\"fill:none;fill-rule:evenodd;stroke:#000000;stroke-width:2px;stroke-linecap:butt;stroke-linejoin:miter;stroke-opacity:1\"/>\n",
       "<path class=\"bond-6\" d=\"M 265.239,249.807 L 265.329,312.981\" style=\"fill:none;fill-rule:evenodd;stroke:#000000;stroke-width:2px;stroke-linecap:butt;stroke-linejoin:miter;stroke-opacity:1\"/>\n",
       "<path class=\"bond-7\" d=\"M 284.789,326.49 L 313.173,343.214\" style=\"fill:none;fill-rule:evenodd;stroke:#000000;stroke-width:2px;stroke-linecap:butt;stroke-linejoin:miter;stroke-opacity:1\"/>\n",
       "<path class=\"bond-7\" d=\"M 313.173,343.214 L 341.557,359.939\" style=\"fill:none;fill-rule:evenodd;stroke:#FF0000;stroke-width:2px;stroke-linecap:butt;stroke-linejoin:miter;stroke-opacity:1\"/>\n",
       "<path class=\"bond-8\" d=\"M 284.789,326.49 L 253.244,343.931\" style=\"fill:none;fill-rule:evenodd;stroke:#000000;stroke-width:2px;stroke-linecap:butt;stroke-linejoin:miter;stroke-opacity:1\"/>\n",
       "<path class=\"bond-8\" d=\"M 253.244,343.931 L 221.698,361.372\" style=\"fill:none;fill-rule:evenodd;stroke:#0000FF;stroke-width:2px;stroke-linecap:butt;stroke-linejoin:miter;stroke-opacity:1\"/>\n",
       "<path class=\"bond-9\" d=\"M 193.615,361.14 L 162.841,343.617\" style=\"fill:none;fill-rule:evenodd;stroke:#0000FF;stroke-width:2px;stroke-linecap:butt;stroke-linejoin:miter;stroke-opacity:1\"/>\n",
       "<path class=\"bond-9\" d=\"M 162.841,343.617 L 132.066,326.095\" style=\"fill:none;fill-rule:evenodd;stroke:#000000;stroke-width:2px;stroke-linecap:butt;stroke-linejoin:miter;stroke-opacity:1\"/>\n",
       "<path class=\"bond-10\" d=\"M 207.601,385.336 L 207.55,400.473\" style=\"fill:none;fill-rule:evenodd;stroke:#0000FF;stroke-width:2px;stroke-linecap:butt;stroke-linejoin:miter;stroke-opacity:1\"/>\n",
       "<path class=\"bond-10\" d=\"M 207.55,400.473 L 207.498,415.611\" style=\"fill:none;fill-rule:evenodd;stroke:#000000;stroke-width:2px;stroke-linecap:butt;stroke-linejoin:miter;stroke-opacity:1\"/>\n",
       "<path class=\"bond-11\" d=\"M 127,317.799 L 101.064,333.637\" style=\"fill:none;fill-rule:evenodd;stroke:#000000;stroke-width:2px;stroke-linecap:butt;stroke-linejoin:miter;stroke-opacity:1\"/>\n",
       "<path class=\"bond-11\" d=\"M 101.064,333.637 L 75.1268,349.475\" style=\"fill:none;fill-rule:evenodd;stroke:#FF0000;stroke-width:2px;stroke-linecap:butt;stroke-linejoin:miter;stroke-opacity:1\"/>\n",
       "<path class=\"bond-11\" d=\"M 137.132,334.39 L 111.195,350.228\" style=\"fill:none;fill-rule:evenodd;stroke:#000000;stroke-width:2px;stroke-linecap:butt;stroke-linejoin:miter;stroke-opacity:1\"/>\n",
       "<path class=\"bond-11\" d=\"M 111.195,350.228 L 85.2583,366.066\" style=\"fill:none;fill-rule:evenodd;stroke:#FF0000;stroke-width:2px;stroke-linecap:butt;stroke-linejoin:miter;stroke-opacity:1\"/>\n",
       "<path class=\"bond-12\" d=\"M 132.066,326.095 L 130.416,291.643\" style=\"fill:none;fill-rule:evenodd;stroke:#000000;stroke-width:2px;stroke-linecap:butt;stroke-linejoin:miter;stroke-opacity:1\"/>\n",
       "<path class=\"bond-12\" d=\"M 130.416,291.643 L 128.766,257.192\" style=\"fill:none;fill-rule:evenodd;stroke:#0000FF;stroke-width:2px;stroke-linecap:butt;stroke-linejoin:miter;stroke-opacity:1\"/>\n",
       "<path class=\"bond-13\" d=\"M 145.192,228.029 L 172.98,209.789\" style=\"fill:none;fill-rule:evenodd;stroke:#0000FF;stroke-width:2px;stroke-linecap:butt;stroke-linejoin:miter;stroke-opacity:1\"/>\n",
       "<path class=\"bond-13\" d=\"M 172.98,209.789 L 200.768,191.548\" style=\"fill:none;fill-rule:evenodd;stroke:#000000;stroke-width:2px;stroke-linecap:butt;stroke-linejoin:miter;stroke-opacity:1\"/>\n",
       "<path class=\"bond-14\" d=\"M 210.477,191.076 L 208.959,159.881\" style=\"fill:none;fill-rule:evenodd;stroke:#000000;stroke-width:2px;stroke-linecap:butt;stroke-linejoin:miter;stroke-opacity:1\"/>\n",
       "<path class=\"bond-14\" d=\"M 208.959,159.881 L 207.442,128.686\" style=\"fill:none;fill-rule:evenodd;stroke:#FF0000;stroke-width:2px;stroke-linecap:butt;stroke-linejoin:miter;stroke-opacity:1\"/>\n",
       "<path class=\"bond-14\" d=\"M 191.06,192.021 L 189.542,160.825\" style=\"fill:none;fill-rule:evenodd;stroke:#000000;stroke-width:2px;stroke-linecap:butt;stroke-linejoin:miter;stroke-opacity:1\"/>\n",
       "<path class=\"bond-14\" d=\"M 189.542,160.825 L 188.024,129.63\" style=\"fill:none;fill-rule:evenodd;stroke:#FF0000;stroke-width:2px;stroke-linecap:butt;stroke-linejoin:miter;stroke-opacity:1\"/>\n",
       "<text dominant-baseline=\"central\" style=\"font-size:32px;font-style:normal;font-weight:normal;fill-opacity:1;stroke:none;font-family:sans-serif;fill:#0000FF\" text-anchor=\"middle\" x=\"364.805\" y=\"105.162\"><tspan>N</tspan></text>\n",
       "<text dominant-baseline=\"central\" style=\"font-size:32px;font-style:normal;font-weight:normal;fill-opacity:1;stroke:none;font-family:sans-serif;fill:#FF0000\" text-anchor=\"start\" x=\"422.459\" y=\"230.98\"><tspan>O</tspan></text>\n",
       "<text dominant-baseline=\"central\" style=\"font-size:32px;font-style:normal;font-weight:normal;fill-opacity:1;stroke:none;font-family:sans-serif;fill:#FF0000\" text-anchor=\"start\" x=\"345.121\" y=\"376.108\"><tspan>O</tspan><tspan style=\"baseline-shift:super;font-size:24px;\">-</tspan><tspan/></text>\n",
       "<text dominant-baseline=\"central\" style=\"font-size:32px;font-style:normal;font-weight:normal;fill-opacity:1;stroke:none;font-family:sans-serif;fill:#0000FF\" text-anchor=\"middle\" x=\"207.657\" y=\"373.996\"><tspan>N</tspan></text>\n",
       "<text dominant-baseline=\"central\" style=\"font-size:32px;font-style:normal;font-weight:normal;fill-opacity:1;stroke:none;font-family:sans-serif;fill:#FF0000\" text-anchor=\"end\" x=\"76.9525\" y=\"371.87\"><tspan>O</tspan></text>\n",
       "<text dominant-baseline=\"central\" style=\"font-size:32px;font-style:normal;font-weight:normal;fill-opacity:1;stroke:none;font-family:sans-serif;fill:#0000FF\" text-anchor=\"end\" x=\"141.628\" y=\"244.718\"><tspan>N</tspan><tspan style=\"baseline-shift:super;font-size:24px;\">-</tspan><tspan/></text>\n",
       "<text dominant-baseline=\"central\" style=\"font-size:32px;font-style:normal;font-weight:normal;fill-opacity:1;stroke:none;font-family:sans-serif;fill:#FF0000\" text-anchor=\"start\" x=\"185.054\" y=\"117.818\"><tspan>O</tspan></text>\n",
       "<text dominant-baseline=\"central\" style=\"font-size:32px;font-style:normal;font-weight:normal;fill-opacity:1;stroke:none;font-family:sans-serif;fill:#000000\" text-anchor=\"start\" x=\"408.042\" y=\"73.0467\"><tspan>H</tspan></text>\n",
       "<text dominant-baseline=\"central\" style=\"font-size:32px;font-style:normal;font-weight:normal;fill-opacity:1;stroke:none;font-family:sans-serif;fill:#000000\" text-anchor=\"end\" x=\"320.785\" y=\"74.427\"><tspan>H</tspan></text>\n",
       "<text dominant-baseline=\"central\" style=\"font-size:32px;font-style:normal;font-weight:normal;fill-opacity:1;stroke:none;font-family:sans-serif;fill:#000000\" text-anchor=\"start\" x=\"196.641\" y=\"436.671\"><tspan>H</tspan></text>\n",
       "<text dominant-baseline=\"central\" style=\"font-size:24px;font-style:normal;font-weight:normal;fill-opacity:1;stroke:none;font-family:sans-serif;fill:#000000\" text-anchor=\"middle\" x=\"393.067\" y=\"119.792\"><tspan>0</tspan></text>\n",
       "<text dominant-baseline=\"central\" style=\"font-size:24px;font-style:normal;font-weight:normal;fill-opacity:1;stroke:none;font-family:sans-serif;fill:#000000\" text-anchor=\"middle\" x=\"393.771\" y=\"174.738\"><tspan>1</tspan></text>\n",
       "<text dominant-baseline=\"central\" style=\"font-size:24px;font-style:normal;font-weight:normal;fill-opacity:1;stroke:none;font-family:sans-serif;fill:#000000\" text-anchor=\"middle\" x=\"462.591\" y=\"245.647\"><tspan>2</tspan></text>\n",
       "<text dominant-baseline=\"central\" style=\"font-size:24px;font-style:normal;font-weight:normal;fill-opacity:1;stroke:none;font-family:sans-serif;fill:#000000\" text-anchor=\"middle\" x=\"283.855\" y=\"207.496\"><tspan>3</tspan></text>\n",
       "<text dominant-baseline=\"central\" style=\"font-size:24px;font-style:normal;font-weight:normal;fill-opacity:1;stroke:none;font-family:sans-serif;fill:#000000\" text-anchor=\"middle\" x=\"312.909\" y=\"314.039\"><tspan>4</tspan></text>\n",
       "<text dominant-baseline=\"central\" style=\"font-size:24px;font-style:normal;font-weight:normal;fill-opacity:1;stroke:none;font-family:sans-serif;fill:#000000\" text-anchor=\"middle\" x=\"387.841\" y=\"390.855\"><tspan>5</tspan></text>\n",
       "<text dominant-baseline=\"central\" style=\"font-size:24px;font-style:normal;font-weight:normal;fill-opacity:1;stroke:none;font-family:sans-serif;fill:#000000\" text-anchor=\"middle\" x=\"207.86\" y=\"340.381\"><tspan>6</tspan></text>\n",
       "<text dominant-baseline=\"central\" style=\"font-size:24px;font-style:normal;font-weight:normal;fill-opacity:1;stroke:none;font-family:sans-serif;fill:#000000\" text-anchor=\"middle\" x=\"132.562\" y=\"362.136\"><tspan>7</tspan></text>\n",
       "<text dominant-baseline=\"central\" style=\"font-size:24px;font-style:normal;font-weight:normal;fill-opacity:1;stroke:none;font-family:sans-serif;fill:#000000\" text-anchor=\"middle\" x=\"37.4094\" y=\"387.541\"><tspan>8</tspan></text>\n",
       "<text dominant-baseline=\"central\" style=\"font-size:24px;font-style:normal;font-weight:normal;fill-opacity:1;stroke:none;font-family:sans-serif;fill:#000000\" text-anchor=\"middle\" x=\"99.0404\" y=\"228.313\"><tspan>9</tspan></text>\n",
       "<text dominant-baseline=\"central\" style=\"font-size:24px;font-style:normal;font-weight:normal;fill-opacity:1;stroke:none;font-family:sans-serif;fill:#000000\" text-anchor=\"middle\" x=\"202.248\" y=\"227.56\"><tspan>10</tspan></text>\n",
       "<text dominant-baseline=\"central\" style=\"font-size:24px;font-style:normal;font-weight:normal;fill-opacity:1;stroke:none;font-family:sans-serif;fill:#000000\" text-anchor=\"middle\" x=\"195.371\" y=\"84.2405\"><tspan>11</tspan></text>\n",
       "<text dominant-baseline=\"central\" style=\"font-size:24px;font-style:normal;font-weight:normal;fill-opacity:1;stroke:none;font-family:sans-serif;fill:#000000\" text-anchor=\"middle\" x=\"418.434\" y=\"39.4338\"><tspan>12</tspan></text>\n",
       "<text dominant-baseline=\"central\" style=\"font-size:24px;font-style:normal;font-weight:normal;fill-opacity:1;stroke:none;font-family:sans-serif;fill:#000000\" text-anchor=\"middle\" x=\"277.586\" y=\"73.621\"><tspan>13</tspan></text>\n",
       "<text dominant-baseline=\"central\" style=\"font-size:24px;font-style:normal;font-weight:normal;fill-opacity:1;stroke:none;font-family:sans-serif;fill:#000000\" text-anchor=\"middle\" x=\"207.332\" y=\"467.856\"><tspan>14</tspan></text>\n",
       "</svg>"
      ],
      "text/plain": [
       "<IPython.core.display.SVG object>"
      ]
     },
     "execution_count": 29,
     "metadata": {},
     "output_type": "execute_result"
    }
   ],
   "source": [
    "d2d = rdMolDraw2D.MolDraw2DSVG(500, 500)\n",
    "d2d.drawOptions().addAtomIndices=True\n",
    "d2d.DrawMolecule(mol2)\n",
    "d2d.FinishDrawing()\n",
    "svg_text = d2d.GetDrawingText()\n",
    "SVG(svg_text)"
   ]
  },
  {
   "cell_type": "code",
   "execution_count": 32,
   "metadata": {},
   "outputs": [],
   "source": [
    "with open(\"svg_text.svg\", \"w\") as f:\n",
    "    f.write(svg_text)"
   ]
  },
  {
   "cell_type": "code",
   "execution_count": 22,
   "metadata": {},
   "outputs": [
    {
     "name": "stdout",
     "output_type": "stream",
     "text": [
      "COMPND    ZINC000013957071\n",
      "HETATM    1  N1  UNL     1      -0.015   1.343   0.018  1.00  0.00           N  \n",
      "HETATM    2  C1  UNL     1       0.002  -0.004   0.002  1.00  0.00           C  \n",
      "HETATM    3  O1  UNL     1       1.058  -0.598  -0.111  1.00  0.00           O  \n",
      "HETATM    4  C2  UNL     1      -1.252  -0.754   0.121  1.00  0.00           C  \n",
      "HETATM    5  C3  UNL     1      -1.250  -2.147   0.225  1.00  0.00           C  \n",
      "HETATM    6  O2  UNL     1      -0.090  -2.830   0.219  1.00  0.00           O1-\n",
      "HETATM    7  N2  UNL     1      -2.440  -2.805   0.334  1.00  0.00           N  \n",
      "HETATM    8  C4  UNL     1      -3.607  -2.141   0.342  1.00  0.00           C  \n",
      "HETATM    9  O3  UNL     1      -4.641  -2.772   0.441  1.00  0.00           O  \n",
      "HETATM   10  N3  UNL     1      -3.671  -0.803   0.245  1.00  0.00           N1-\n",
      "HETATM   11  C5  UNL     1      -2.546  -0.065   0.139  1.00  0.00           C  \n",
      "HETATM   12  O4  UNL     1      -2.605   1.148   0.051  1.00  0.00           O  \n",
      "HETATM   13  H1  UNL     1       0.819   1.839   0.014  1.00  0.00           H  \n",
      "HETATM   14  H2  UNL     1      -0.861   1.818   0.029  1.00  0.00           H  \n",
      "HETATM   15  H3  UNL     1      -2.443  -3.772   0.407  1.00  0.00           H  \n",
      "CONECT    1    2   13   14\n",
      "CONECT    2    3    3    4\n",
      "CONECT    4    5    5   11\n",
      "CONECT    5    6    7\n",
      "CONECT    7    8   15\n",
      "CONECT    8    9    9   10\n",
      "CONECT   10   11\n",
      "CONECT   11   12   12\n",
      "END\n",
      "\n"
     ]
    }
   ],
   "source": [
    "print(Chem.MolToPDBBlock(mol2))"
   ]
  },
  {
   "cell_type": "code",
   "execution_count": 23,
   "metadata": {},
   "outputs": [],
   "source": [
    "old2new = Chem.CanonicalRankAtoms(mol2, includeChirality=True, breakTies=True)\n",
    "new2old = {o:i for i, o in enumerate(old2new)}"
   ]
  },
  {
   "cell_type": "code",
   "execution_count": 24,
   "metadata": {},
   "outputs": [],
   "source": [
    "new_mol = Chem.rdchem.RWMol(Chem.Mol())\n",
    "for idx in range(len(old2new)):\n",
    "    new_mol.AddAtom(mol2.GetAtomWithIdx(new2old[idx]))\n",
    "bonds = mol2.GetBonds()\n",
    "for b in bonds:\n",
    "    new_mol.AddBond(old2new[b.GetBeginAtomIdx()], old2new[b.GetEndAtomIdx()], b.GetBondType())"
   ]
  },
  {
   "cell_type": "code",
   "execution_count": 25,
   "metadata": {},
   "outputs": [
    {
     "data": {
      "text/plain": [
       "0"
      ]
     },
     "execution_count": 25,
     "metadata": {},
     "output_type": "execute_result"
    }
   ],
   "source": [
    "old_conformer = mol2.GetConformer(0)\n",
    "new_conformer = Chem.Conformer(new_mol.GetNumAtoms())\n",
    "\n",
    "for idx in range(mol2.GetNumAtoms()):\n",
    "    pos = old_conformer.GetAtomPosition(new2old[idx])\n",
    "    new_conformer.SetAtomPosition(idx, pos)\n",
    "\n",
    "new_mol.AddConformer(new_conformer)"
   ]
  },
  {
   "cell_type": "code",
   "execution_count": 26,
   "metadata": {},
   "outputs": [
    {
     "name": "stdout",
     "output_type": "stream",
     "text": [
      "0 H [0.819, 1.8391, 0.0139]\n",
      "1 H [-0.8609, 1.8178, 0.0289]\n",
      "2 H [-2.4433, -3.7723, 0.4072]\n",
      "3 O [1.0583, -0.5981, -0.1107]\n",
      "4 O [-2.6053, 1.1482, 0.0512]\n",
      "5 O [-4.6405, -2.7723, 0.441]\n",
      "6 O [-0.0902, -2.8302, 0.2192]\n",
      "7 N [-3.6706, -0.8026, 0.2451]\n",
      "8 C [0.0021, -0.0041, 0.002]\n",
      "9 C [-1.2517, -0.7543, 0.1206]\n",
      "10 C [-1.2497, -2.147, 0.2253]\n",
      "11 C [-2.5463, -0.0646, 0.1391]\n",
      "12 C [-3.6065, -2.1409, 0.3422]\n",
      "13 N [-0.0149, 1.3435, 0.0178]\n",
      "14 N [-2.44, -2.8051, 0.3343]\n",
      "\n",
      "13 8 SINGLE\n",
      "13 0 SINGLE\n",
      "13 1 SINGLE\n",
      "8 3 DOUBLE\n",
      "8 9 SINGLE\n",
      "9 11 AROMATIC\n",
      "9 10 AROMATIC\n",
      "10 6 SINGLE\n",
      "10 14 AROMATIC\n",
      "14 12 AROMATIC\n",
      "14 2 SINGLE\n",
      "12 5 DOUBLE\n",
      "12 7 AROMATIC\n",
      "7 11 AROMATIC\n",
      "11 4 DOUBLE\n"
     ]
    }
   ],
   "source": [
    "con = new_mol.GetConformer(0)\n",
    "for a in new_mol.GetAtoms():\n",
    "    print(a.GetIdx(), a.GetSymbol(), list(con.GetAtomPosition(a.GetIdx())))\n",
    "print()\n",
    "for b in new_mol.GetBonds():\n",
    "    print(b.GetBeginAtomIdx(), b.GetEndAtomIdx(), b.GetBondType())"
   ]
  },
  {
   "cell_type": "code",
   "execution_count": 27,
   "metadata": {},
   "outputs": [
    {
     "data": {
      "image/svg+xml": [
       "<svg baseProfile=\"full\" height=\"500px\" version=\"1.1\" viewBox=\"0 0 500 500\" width=\"500px\" xml:space=\"preserve\" xmlns=\"http://www.w3.org/2000/svg\" xmlns:rdkit=\"http://www.rdkit.org/xml\" xmlns:xlink=\"http://www.w3.org/1999/xlink\">\n",
       "<!-- END OF HEADER -->\n",
       "<rect height=\"500\" style=\"opacity:1.0;fill:#FFFFFF;stroke:none\" width=\"500\" x=\"0\" y=\"0\"> </rect>\n",
       "<path class=\"bond-1\" d=\"M 408.973,63.7212 L 395.646,71.6416\" style=\"fill:none;fill-rule:evenodd;stroke:#000000;stroke-width:2px;stroke-linecap:butt;stroke-linejoin:miter;stroke-opacity:1\"/>\n",
       "<path class=\"bond-1\" d=\"M 395.646,71.6416 L 382.319,79.5621\" style=\"fill:none;fill-rule:evenodd;stroke:#0000FF;stroke-width:2px;stroke-linecap:butt;stroke-linejoin:miter;stroke-opacity:1\"/>\n",
       "<path class=\"bond-2\" d=\"M 326.02,64.653 L 339.75,72.3504\" style=\"fill:none;fill-rule:evenodd;stroke:#000000;stroke-width:2px;stroke-linecap:butt;stroke-linejoin:miter;stroke-opacity:1\"/>\n",
       "<path class=\"bond-2\" d=\"M 339.75,72.3504 L 353.479,80.0477\" style=\"fill:none;fill-rule:evenodd;stroke:#0000FF;stroke-width:2px;stroke-linecap:butt;stroke-linejoin:miter;stroke-opacity:1\"/>\n",
       "<path class=\"bond-10\" d=\"M 206.353,411.938 L 206.406,396.393\" style=\"fill:none;fill-rule:evenodd;stroke:#000000;stroke-width:2px;stroke-linecap:butt;stroke-linejoin:miter;stroke-opacity:1\"/>\n",
       "<path class=\"bond-10\" d=\"M 206.406,396.393 L 206.459,380.847\" style=\"fill:none;fill-rule:evenodd;stroke:#0000FF;stroke-width:2px;stroke-linecap:butt;stroke-linejoin:miter;stroke-opacity:1\"/>\n",
       "<path class=\"bond-3\" d=\"M 428.673,199.901 L 401.298,184.506\" style=\"fill:none;fill-rule:evenodd;stroke:#FF0000;stroke-width:2px;stroke-linecap:butt;stroke-linejoin:miter;stroke-opacity:1\"/>\n",
       "<path class=\"bond-3\" d=\"M 401.298,184.506 L 373.924,169.111\" style=\"fill:none;fill-rule:evenodd;stroke:#000000;stroke-width:2px;stroke-linecap:butt;stroke-linejoin:miter;stroke-opacity:1\"/>\n",
       "<path class=\"bond-3\" d=\"M 418.886,217.302 L 391.512,201.907\" style=\"fill:none;fill-rule:evenodd;stroke:#FF0000;stroke-width:2px;stroke-linecap:butt;stroke-linejoin:miter;stroke-opacity:1\"/>\n",
       "<path class=\"bond-3\" d=\"M 391.512,201.907 L 364.137,186.512\" style=\"fill:none;fill-rule:evenodd;stroke:#000000;stroke-width:2px;stroke-linecap:butt;stroke-linejoin:miter;stroke-opacity:1\"/>\n",
       "<path class=\"bond-14\" d=\"M 186.354,118.251 L 187.913,150.286\" style=\"fill:none;fill-rule:evenodd;stroke:#FF0000;stroke-width:2px;stroke-linecap:butt;stroke-linejoin:miter;stroke-opacity:1\"/>\n",
       "<path class=\"bond-14\" d=\"M 187.913,150.286 L 189.471,182.322\" style=\"fill:none;fill-rule:evenodd;stroke:#000000;stroke-width:2px;stroke-linecap:butt;stroke-linejoin:miter;stroke-opacity:1\"/>\n",
       "<path class=\"bond-14\" d=\"M 206.295,117.281 L 207.853,149.316\" style=\"fill:none;fill-rule:evenodd;stroke:#FF0000;stroke-width:2px;stroke-linecap:butt;stroke-linejoin:miter;stroke-opacity:1\"/>\n",
       "<path class=\"bond-14\" d=\"M 207.853,149.316 L 209.412,181.352\" style=\"fill:none;fill-rule:evenodd;stroke:#000000;stroke-width:2px;stroke-linecap:butt;stroke-linejoin:miter;stroke-opacity:1\"/>\n",
       "<path class=\"bond-11\" d=\"M 80.8187,361.058 L 107.454,344.794\" style=\"fill:none;fill-rule:evenodd;stroke:#FF0000;stroke-width:2px;stroke-linecap:butt;stroke-linejoin:miter;stroke-opacity:1\"/>\n",
       "<path class=\"bond-11\" d=\"M 107.454,344.794 L 134.09,328.529\" style=\"fill:none;fill-rule:evenodd;stroke:#000000;stroke-width:2px;stroke-linecap:butt;stroke-linejoin:miter;stroke-opacity:1\"/>\n",
       "<path class=\"bond-11\" d=\"M 70.4142,344.02 L 97.05,327.755\" style=\"fill:none;fill-rule:evenodd;stroke:#FF0000;stroke-width:2px;stroke-linecap:butt;stroke-linejoin:miter;stroke-opacity:1\"/>\n",
       "<path class=\"bond-11\" d=\"M 97.05,327.755 L 123.686,311.49\" style=\"fill:none;fill-rule:evenodd;stroke:#000000;stroke-width:2px;stroke-linecap:butt;stroke-linejoin:miter;stroke-opacity:1\"/>\n",
       "<path class=\"bond-7\" d=\"M 344.025,354.766 L 314.876,337.591\" style=\"fill:none;fill-rule:evenodd;stroke:#FF0000;stroke-width:2px;stroke-linecap:butt;stroke-linejoin:miter;stroke-opacity:1\"/>\n",
       "<path class=\"bond-7\" d=\"M 314.876,337.591 L 285.727,320.415\" style=\"fill:none;fill-rule:evenodd;stroke:#000000;stroke-width:2px;stroke-linecap:butt;stroke-linejoin:miter;stroke-opacity:1\"/>\n",
       "<path class=\"bond-12\" d=\"M 125.499,249.25 L 127.193,284.63\" style=\"fill:none;fill-rule:evenodd;stroke:#0000FF;stroke-width:2px;stroke-linecap:butt;stroke-linejoin:miter;stroke-opacity:1\"/>\n",
       "<path class=\"bond-12\" d=\"M 127.193,284.63 L 128.888,320.01\" style=\"fill:none;fill-rule:evenodd;stroke:#000000;stroke-width:2px;stroke-linecap:butt;stroke-linejoin:miter;stroke-opacity:1\"/>\n",
       "<path class=\"bond-13\" d=\"M 142.368,219.301 L 170.905,200.569\" style=\"fill:none;fill-rule:evenodd;stroke:#0000FF;stroke-width:2px;stroke-linecap:butt;stroke-linejoin:miter;stroke-opacity:1\"/>\n",
       "<path class=\"bond-13\" d=\"M 170.905,200.569 L 199.441,181.837\" style=\"fill:none;fill-rule:evenodd;stroke:#000000;stroke-width:2px;stroke-linecap:butt;stroke-linejoin:miter;stroke-opacity:1\"/>\n",
       "<path class=\"bond-0\" d=\"M 369.031,177.811 L 368.57,141.29\" style=\"fill:none;fill-rule:evenodd;stroke:#000000;stroke-width:2px;stroke-linecap:butt;stroke-linejoin:miter;stroke-opacity:1\"/>\n",
       "<path class=\"bond-0\" d=\"M 368.57,141.29 L 368.109,104.769\" style=\"fill:none;fill-rule:evenodd;stroke:#0000FF;stroke-width:2px;stroke-linecap:butt;stroke-linejoin:miter;stroke-opacity:1\"/>\n",
       "<path class=\"bond-4\" d=\"M 369.031,177.811 L 285.594,227.735\" style=\"fill:none;fill-rule:evenodd;stroke:#000000;stroke-width:2px;stroke-linecap:butt;stroke-linejoin:miter;stroke-opacity:1\"/>\n",
       "<path class=\"bond-5\" d=\"M 285.594,227.735 L 199.441,181.837\" style=\"fill:none;fill-rule:evenodd;stroke:#000000;stroke-width:2px;stroke-linecap:butt;stroke-linejoin:miter;stroke-opacity:1\"/>\n",
       "<path class=\"bond-6\" d=\"M 285.594,227.735 L 285.727,320.415\" style=\"fill:none;fill-rule:evenodd;stroke:#000000;stroke-width:2px;stroke-linecap:butt;stroke-linejoin:miter;stroke-opacity:1\"/>\n",
       "<path class=\"bond-6\" d=\"M 265.649,241.666 L 265.743,306.542\" style=\"fill:none;fill-rule:evenodd;stroke:#000000;stroke-width:2px;stroke-linecap:butt;stroke-linejoin:miter;stroke-opacity:1\"/>\n",
       "<path class=\"bond-8\" d=\"M 285.727,320.415 L 253.331,338.327\" style=\"fill:none;fill-rule:evenodd;stroke:#000000;stroke-width:2px;stroke-linecap:butt;stroke-linejoin:miter;stroke-opacity:1\"/>\n",
       "<path class=\"bond-8\" d=\"M 253.331,338.327 L 220.935,356.238\" style=\"fill:none;fill-rule:evenodd;stroke:#0000FF;stroke-width:2px;stroke-linecap:butt;stroke-linejoin:miter;stroke-opacity:1\"/>\n",
       "<path class=\"bond-9\" d=\"M 128.888,320.01 L 160.492,338.005\" style=\"fill:none;fill-rule:evenodd;stroke:#000000;stroke-width:2px;stroke-linecap:butt;stroke-linejoin:miter;stroke-opacity:1\"/>\n",
       "<path class=\"bond-9\" d=\"M 160.492,338.005 L 192.096,356\" style=\"fill:none;fill-rule:evenodd;stroke:#0000FF;stroke-width:2px;stroke-linecap:butt;stroke-linejoin:miter;stroke-opacity:1\"/>\n",
       "<text dominant-baseline=\"central\" style=\"font-size:33px;font-style:normal;font-weight:normal;fill-opacity:1;stroke:none;font-family:sans-serif;fill:#000000\" text-anchor=\"start\" x=\"412.301\" y=\"60.1423\"><tspan>H</tspan></text>\n",
       "<text dominant-baseline=\"central\" style=\"font-size:33px;font-style:normal;font-weight:normal;fill-opacity:1;stroke:none;font-family:sans-serif;fill:#000000\" text-anchor=\"end\" x=\"322.693\" y=\"61.5597\"><tspan>H</tspan></text>\n",
       "<text dominant-baseline=\"central\" style=\"font-size:33px;font-style:normal;font-weight:normal;fill-opacity:1;stroke:none;font-family:sans-serif;fill:#000000\" text-anchor=\"start\" x=\"195.203\" y=\"433.566\"><tspan>H</tspan></text>\n",
       "<text dominant-baseline=\"central\" style=\"font-size:33px;font-style:normal;font-weight:normal;fill-opacity:1;stroke:none;font-family:sans-serif;fill:#FF0000\" text-anchor=\"start\" x=\"427.107\" y=\"222.331\"><tspan>O</tspan></text>\n",
       "<text dominant-baseline=\"central\" style=\"font-size:33px;font-style:normal;font-weight:normal;fill-opacity:1;stroke:none;font-family:sans-serif;fill:#FF0000\" text-anchor=\"start\" x=\"183.304\" y=\"106.12\"><tspan>O</tspan></text>\n",
       "<text dominant-baseline=\"central\" style=\"font-size:33px;font-style:normal;font-weight:normal;fill-opacity:1;stroke:none;font-family:sans-serif;fill:#FF0000\" text-anchor=\"end\" x=\"72.2891\" y=\"367.019\"><tspan>O</tspan></text>\n",
       "<text dominant-baseline=\"central\" style=\"font-size:33px;font-style:normal;font-weight:normal;fill-opacity:1;stroke:none;font-family:sans-serif;fill:#FF0000\" text-anchor=\"start\" x=\"347.685\" y=\"371.371\"><tspan>O</tspan><tspan style=\"baseline-shift:super;font-size:24.75px;\">-</tspan><tspan/></text>\n",
       "<text dominant-baseline=\"central\" style=\"font-size:33px;font-style:normal;font-weight:normal;fill-opacity:1;stroke:none;font-family:sans-serif;fill:#0000FF\" text-anchor=\"end\" x=\"138.707\" y=\"236.439\"><tspan>N</tspan><tspan style=\"baseline-shift:super;font-size:24.75px;\">-</tspan><tspan/></text>\n",
       "<text dominant-baseline=\"central\" style=\"font-size:33px;font-style:normal;font-weight:normal;fill-opacity:1;stroke:none;font-family:sans-serif;fill:#0000FF\" text-anchor=\"middle\" x=\"367.899\" y=\"93.1231\"><tspan>N</tspan></text>\n",
       "<text dominant-baseline=\"central\" style=\"font-size:33px;font-style:normal;font-weight:normal;fill-opacity:1;stroke:none;font-family:sans-serif;fill:#0000FF\" text-anchor=\"middle\" x=\"206.515\" y=\"369.201\"><tspan>N</tspan></text>\n",
       "<text dominant-baseline=\"central\" style=\"font-size:24px;font-style:normal;font-weight:normal;fill-opacity:1;stroke:none;font-family:sans-serif;fill:#000000\" text-anchor=\"middle\" x=\"451.997\" y=\"41.895\"><tspan>0</tspan></text>\n",
       "<text dominant-baseline=\"central\" style=\"font-size:24px;font-style:normal;font-weight:normal;fill-opacity:1;stroke:none;font-family:sans-serif;fill:#000000\" text-anchor=\"middle\" x=\"282.577\" y=\"44.0402\"><tspan>1</tspan></text>\n",
       "<text dominant-baseline=\"central\" style=\"font-size:24px;font-style:normal;font-weight:normal;fill-opacity:1;stroke:none;font-family:sans-serif;fill:#000000\" text-anchor=\"middle\" x=\"206.182\" y=\"465.592\"><tspan>2</tspan></text>\n",
       "<text dominant-baseline=\"central\" style=\"font-size:24px;font-style:normal;font-weight:normal;fill-opacity:1;stroke:none;font-family:sans-serif;fill:#000000\" text-anchor=\"middle\" x=\"468.32\" y=\"237.394\"><tspan>3</tspan></text>\n",
       "<text dominant-baseline=\"central\" style=\"font-size:24px;font-style:normal;font-weight:normal;fill-opacity:1;stroke:none;font-family:sans-serif;fill:#000000\" text-anchor=\"middle\" x=\"193.898\" y=\"71.6377\"><tspan>4</tspan></text>\n",
       "<text dominant-baseline=\"central\" style=\"font-size:24px;font-style:normal;font-weight:normal;fill-opacity:1;stroke:none;font-family:sans-serif;fill:#000000\" text-anchor=\"middle\" x=\"31.6803\" y=\"383.112\"><tspan>5</tspan></text>\n",
       "<text dominant-baseline=\"central\" style=\"font-size:24px;font-style:normal;font-weight:normal;fill-opacity:1;stroke:none;font-family:sans-serif;fill:#000000\" text-anchor=\"middle\" x=\"391.556\" y=\"386.515\"><tspan>6</tspan></text>\n",
       "<text dominant-baseline=\"central\" style=\"font-size:24px;font-style:normal;font-weight:normal;fill-opacity:1;stroke:none;font-family:sans-serif;fill:#000000\" text-anchor=\"middle\" x=\"94.9722\" y=\"219.593\"><tspan>7</tspan></text>\n",
       "<text dominant-baseline=\"central\" style=\"font-size:24px;font-style:normal;font-weight:normal;fill-opacity:1;stroke:none;font-family:sans-serif;fill:#000000\" text-anchor=\"middle\" x=\"397.646\" y=\"164.574\"><tspan>8</tspan></text>\n",
       "<text dominant-baseline=\"central\" style=\"font-size:24px;font-style:normal;font-weight:normal;fill-opacity:1;stroke:none;font-family:sans-serif;fill:#000000\" text-anchor=\"middle\" x=\"284.767\" y=\"198.215\"><tspan>9</tspan></text>\n",
       "<text dominant-baseline=\"central\" style=\"font-size:24px;font-style:normal;font-weight:normal;fill-opacity:1;stroke:none;font-family:sans-serif;fill:#000000\" text-anchor=\"middle\" x=\"314.604\" y=\"307.629\"><tspan>10</tspan></text>\n",
       "<text dominant-baseline=\"central\" style=\"font-size:24px;font-style:normal;font-weight:normal;fill-opacity:1;stroke:none;font-family:sans-serif;fill:#000000\" text-anchor=\"middle\" x=\"200.961\" y=\"218.82\"><tspan>11</tspan></text>\n",
       "<text dominant-baseline=\"central\" style=\"font-size:24px;font-style:normal;font-weight:normal;fill-opacity:1;stroke:none;font-family:sans-serif;fill:#000000\" text-anchor=\"middle\" x=\"157.446\" y=\"306.677\"><tspan>12</tspan></text>\n",
       "<text dominant-baseline=\"central\" style=\"font-size:24px;font-style:normal;font-weight:normal;fill-opacity:1;stroke:none;font-family:sans-serif;fill:#000000\" text-anchor=\"middle\" x=\"367.479\" y=\"58.6043\"><tspan>13</tspan></text>\n",
       "<text dominant-baseline=\"central\" style=\"font-size:24px;font-style:normal;font-weight:normal;fill-opacity:1;stroke:none;font-family:sans-serif;fill:#000000\" text-anchor=\"middle\" x=\"206.724\" y=\"334.681\"><tspan>14</tspan></text>\n",
       "</svg>"
      ],
      "text/plain": [
       "<IPython.core.display.SVG object>"
      ]
     },
     "execution_count": 27,
     "metadata": {},
     "output_type": "execute_result"
    }
   ],
   "source": [
    "d2d = rdMolDraw2D.MolDraw2DSVG(500, 500)\n",
    "d2d.drawOptions().addAtomIndices=True\n",
    "d2d.DrawMolecule(new_mol)\n",
    "d2d.FinishDrawing()\n",
    "SVG(d2d.GetDrawingText())"
   ]
  },
  {
   "cell_type": "code",
   "execution_count": 28,
   "metadata": {},
   "outputs": [
    {
     "name": "stdout",
     "output_type": "stream",
     "text": [
      "HETATM    1  H1  UNL     1       0.819   1.839   0.014  1.00  0.00           H  \n",
      "HETATM    2  H2  UNL     1      -0.861   1.818   0.029  1.00  0.00           H  \n",
      "HETATM    3  H3  UNL     1      -2.443  -3.772   0.407  1.00  0.00           H  \n",
      "HETATM    4  O1  UNL     1       1.058  -0.598  -0.111  1.00  0.00           O  \n",
      "HETATM    5  O2  UNL     1      -2.605   1.148   0.051  1.00  0.00           O  \n",
      "HETATM    6  O3  UNL     1      -4.641  -2.772   0.441  1.00  0.00           O  \n",
      "HETATM    7  O4  UNL     1      -0.090  -2.830   0.219  1.00  0.00           O1-\n",
      "HETATM    8  N1  UNL     1      -3.671  -0.803   0.245  1.00  0.00           N1-\n",
      "HETATM    9  C1  UNL     1       0.002  -0.004   0.002  1.00  0.00           C  \n",
      "HETATM   10  C2  UNL     1      -1.252  -0.754   0.121  1.00  0.00           C  \n",
      "HETATM   11  C3  UNL     1      -1.250  -2.147   0.225  1.00  0.00           C  \n",
      "HETATM   12  C4  UNL     1      -2.546  -0.065   0.139  1.00  0.00           C  \n",
      "HETATM   13  C5  UNL     1      -3.607  -2.141   0.342  1.00  0.00           C  \n",
      "HETATM   14  N2  UNL     1      -0.015   1.343   0.018  1.00  0.00           N  \n",
      "HETATM   15  N3  UNL     1      -2.440  -2.805   0.334  1.00  0.00           N  \n",
      "CONECT    1   14\n",
      "CONECT    2   14\n",
      "CONECT    3   15\n",
      "CONECT    4    9    9\n",
      "CONECT    5   12   12\n",
      "CONECT    6   13   13\n",
      "CONECT    7   11\n",
      "CONECT    8   12   13\n",
      "CONECT    9   10   14\n",
      "CONECT   10   11   11   12\n",
      "CONECT   11   15\n",
      "CONECT   13   15\n",
      "END\n",
      "\n"
     ]
    }
   ],
   "source": [
    "pdb_block = Chem.MolToPDBBlock(new_mol)\n",
    "print(pdb_block)"
   ]
  },
  {
   "cell_type": "code",
   "execution_count": 233,
   "metadata": {},
   "outputs": [],
   "source": [
    "mol_from_pdb = Chem.MolFromPDBBlock(pdb_block, removeHs=False)"
   ]
  },
  {
   "cell_type": "code",
   "execution_count": 234,
   "metadata": {},
   "outputs": [
    {
     "name": "stdout",
     "output_type": "stream",
     "text": [
      "0 H [-0.72, -0.2, 0.722]\n",
      "1 N [-2.48, -4.104, 0.1]\n",
      "2 C [-0.059, -2.867, 0.141]\n",
      "3 H [-2.276, -6.618, 0.211]\n",
      "4 H [-2.116, 1.788, -1.788]\n",
      "5 O [-3.595, -2.058, -0.021]\n",
      "6 N [-0.159, -4.21, 0.193]\n",
      "7 C [-1.35, -4.806, 0.172]\n",
      "8 C [-2.453, -2.758, 0.051]\n",
      "9 H [-0.599, -6.695, 0.278]\n",
      "10 N [-1.415, -6.173, 0.226]\n",
      "11 H [-1.359, 1.808, -0.288]\n",
      "12 O [1.144, -2.274, 0.163]\n",
      "13 N [-1.726, 1.313, -1.038]\n",
      "14 C [-1.698, -0.034, -1.033]\n",
      "15 C [-1.222, -2.101, 0.065]\n",
      "16 O [-2.162, -0.655, -1.97]\n",
      "17 N [-1.156, -0.694, 0.009]\n",
      "\n",
      "0 17 SINGLE\n",
      "1 7 AROMATIC\n",
      "1 8 AROMATIC\n",
      "2 6 AROMATIC\n",
      "2 12 SINGLE\n",
      "2 15 AROMATIC\n",
      "3 10 SINGLE\n",
      "4 13 SINGLE\n",
      "5 8 DOUBLE\n",
      "6 7 AROMATIC\n",
      "7 10 SINGLE\n",
      "8 15 AROMATIC\n",
      "9 10 SINGLE\n",
      "11 13 SINGLE\n",
      "13 14 SINGLE\n",
      "14 16 DOUBLE\n",
      "14 17 SINGLE\n",
      "15 17 SINGLE\n"
     ]
    }
   ],
   "source": [
    "con = mol_from_pdb.GetConformer(0)\n",
    "for a in mol_from_pdb.GetAtoms():\n",
    "    print(a.GetIdx(), a.GetSymbol(), list(con.GetAtomPosition(a.GetIdx())))\n",
    "print()\n",
    "for b in mol_from_pdb.GetBonds():\n",
    "    print(b.GetBeginAtomIdx(), b.GetEndAtomIdx(), b.GetBondType())"
   ]
  },
  {
   "cell_type": "code",
   "execution_count": 235,
   "metadata": {},
   "outputs": [
    {
     "data": {
      "image/png": "[encoded data removed]",
      "text/plain": [
       "<rdkit.Chem.rdchem.Mol at 0x7f82fb383f80>"
      ]
     },
     "execution_count": 235,
     "metadata": {},
     "output_type": "execute_result"
    }
   ],
   "source": [
    "mol_from_pdb"
   ]
  },
  {
   "cell_type": "markdown",
   "metadata": {},
   "source": [
    "### Below is playground"
   ]
  },
  {
   "cell_type": "code",
   "execution_count": 90,
   "metadata": {},
   "outputs": [],
   "source": [
    "mol4 = Chem.MolFromMol2Block(open(\"example2.mol2\", \"r\").read(), removeHs=False)"
   ]
  },
  {
   "cell_type": "code",
   "execution_count": 91,
   "metadata": {},
   "outputs": [
    {
     "data": {
      "image/png": "[encoded data removed]",
      "text/plain": [
       "<rdkit.Chem.rdchem.Mol at 0x7f82fb6396c0>"
      ]
     },
     "execution_count": 91,
     "metadata": {},
     "output_type": "execute_result"
    }
   ],
   "source": [
    "mol4"
   ]
  },
  {
   "cell_type": "code",
   "execution_count": 92,
   "metadata": {},
   "outputs": [
    {
     "name": "stdout",
     "output_type": "stream",
     "text": [
      "0 N\n",
      "1 C\n",
      "2 C\n",
      "3 O\n",
      "4 N\n",
      "5 C\n",
      "6 H\n",
      "7 C\n",
      "8 O\n",
      "9 C\n",
      "10 O\n",
      "11 C\n",
      "12 O\n",
      "13 O\n",
      "14 H\n",
      "15 H\n",
      "16 H\n",
      "17 H\n",
      "18 H\n",
      "19 H\n",
      "20 H\n"
     ]
    }
   ],
   "source": [
    "atoms = mol4.GetAtoms()\n",
    "for a in atoms:\n",
    "    print(a.GetIdx(), a.GetSymbol())"
   ]
  },
  {
   "cell_type": "code",
   "execution_count": 103,
   "metadata": {},
   "outputs": [],
   "source": []
  },
  {
   "cell_type": "code",
   "execution_count": 104,
   "metadata": {},
   "outputs": [
    {
     "data": {
      "text/plain": [
       "[16, 18, 13, 8, 17, 20, 7, 19, 11, 14, 9, 15, 12, 10, 0, 1, 3, 4, 2, 5, 6]"
      ]
     },
     "execution_count": 104,
     "metadata": {},
     "output_type": "execute_result"
    }
   ],
   "source": [
    "list(order)"
   ]
  },
  {
   "cell_type": "code",
   "execution_count": 105,
   "metadata": {},
   "outputs": [],
   "source": [
    "conformer = mol4.GetConformer(0)"
   ]
  },
  {
   "cell_type": "code",
   "execution_count": 106,
   "metadata": {},
   "outputs": [],
   "source": [
    "pos = conformer.GetAtomPosition(6)"
   ]
  },
  {
   "cell_type": "code",
   "execution_count": 107,
   "metadata": {},
   "outputs": [
    {
     "data": {
      "text/plain": [
       "(2.5895, -1.6271, 2.685)"
      ]
     },
     "execution_count": 107,
     "metadata": {},
     "output_type": "execute_result"
    }
   ],
   "source": [
    "pos.x, pos.y, pos.z"
   ]
  },
  {
   "cell_type": "code",
   "execution_count": 112,
   "metadata": {},
   "outputs": [],
   "source": [
    "a6 = mol4.GetAtomWithIdx(6)"
   ]
  },
  {
   "cell_type": "code",
   "execution_count": 113,
   "metadata": {},
   "outputs": [
    {
     "data": {
      "text/plain": [
       "'H'"
      ]
     },
     "execution_count": 113,
     "metadata": {},
     "output_type": "execute_result"
    }
   ],
   "source": [
    "a6.GetSymbol()"
   ]
  },
  {
   "cell_type": "code",
   "execution_count": 110,
   "metadata": {},
   "outputs": [],
   "source": [
    "a6.SetAtomMapNum(20)"
   ]
  },
  {
   "cell_type": "code",
   "execution_count": 114,
   "metadata": {},
   "outputs": [
    {
     "data": {
      "text/plain": [
       "20"
      ]
     },
     "execution_count": 114,
     "metadata": {},
     "output_type": "execute_result"
    }
   ],
   "source": [
    "a6.GetAtomMapNum()"
   ]
  },
  {
   "cell_type": "code",
   "execution_count": 115,
   "metadata": {},
   "outputs": [],
   "source": [
    "a5 = mol4.GetAtomWithIdx(5)"
   ]
  },
  {
   "cell_type": "code",
   "execution_count": 116,
   "metadata": {},
   "outputs": [
    {
     "name": "stdout",
     "output_type": "stream",
     "text": [
      "C\n",
      "0\n"
     ]
    }
   ],
   "source": [
    "print(a5.GetSymbol())\n",
    "print(a5.GetAtomMapNum())"
   ]
  },
  {
   "cell_type": "code",
   "execution_count": 152,
   "metadata": {},
   "outputs": [],
   "source": [
    "new_mol = Chem.rdchem.RWMol(Chem.Mol())"
   ]
  },
  {
   "cell_type": "code",
   "execution_count": 153,
   "metadata": {},
   "outputs": [],
   "source": [
    "for idx in order:\n",
    "    new_mol.AddAtom(mol4.GetAtomWithIdx(idx))"
   ]
  },
  {
   "cell_type": "code",
   "execution_count": 154,
   "metadata": {},
   "outputs": [
    {
     "name": "stdout",
     "output_type": "stream",
     "text": [
      "0 H\n",
      "1 H\n",
      "2 O\n",
      "3 O\n",
      "4 H\n",
      "5 H\n",
      "6 C\n",
      "7 H\n",
      "8 C\n",
      "9 H\n",
      "10 C\n",
      "11 H\n",
      "12 O\n",
      "13 O\n",
      "14 N\n",
      "15 C\n",
      "16 O\n",
      "17 N\n",
      "18 C\n",
      "19 C\n",
      "20 H\n"
     ]
    }
   ],
   "source": [
    "for a in new_mol.GetAtoms():\n",
    "    print(a.GetIdx(), a.GetSymbol())"
   ]
  },
  {
   "cell_type": "code",
   "execution_count": 155,
   "metadata": {},
   "outputs": [],
   "source": [
    "bonds = mol4.GetBonds()"
   ]
  },
  {
   "cell_type": "code",
   "execution_count": 156,
   "metadata": {},
   "outputs": [],
   "source": [
    "for b in bonds:\n",
    "    new_mol.AddBond(order[b.GetBeginAtomIdx()], order[b.GetEndAtomIdx()], b.GetBondType())"
   ]
  },
  {
   "cell_type": "code",
   "execution_count": 157,
   "metadata": {},
   "outputs": [],
   "source": [
    "mol5 = Chem.MolFromSmiles(Chem.MolToSmiles(mol4, canonical=True))"
   ]
  },
  {
   "cell_type": "code",
   "execution_count": 158,
   "metadata": {},
   "outputs": [
    {
     "data": {
      "image/png": "[encoded data removed]",
      "text/plain": [
       "<rdkit.Chem.rdchem.Mol at 0x7f82fb3ed580>"
      ]
     },
     "execution_count": 158,
     "metadata": {},
     "output_type": "execute_result"
    }
   ],
   "source": [
    "mol5"
   ]
  },
  {
   "cell_type": "code",
   "execution_count": 159,
   "metadata": {},
   "outputs": [
    {
     "name": "stderr",
     "output_type": "stream",
     "text": [
      "RDKit ERROR: [14:05:01] Explicit valence for atom # 9 H, 2, is greater than permitted\n"
     ]
    }
   ],
   "source": [
    "mol5 = Chem.MolFromMolBlock(Chem.rdmolfiles.MolToMolBlock(new_mol), removeHs=False)"
   ]
  },
  {
   "cell_type": "code",
   "execution_count": 160,
   "metadata": {},
   "outputs": [
    {
     "data": {
      "image/png": "[encoded data removed]",
      "text/plain": [
       "<rdkit.Chem.rdchem.RWMol at 0x7f82fad162f0>"
      ]
     },
     "execution_count": 160,
     "metadata": {},
     "output_type": "execute_result"
    }
   ],
   "source": [
    "new_mol"
   ]
  },
  {
   "cell_type": "code",
   "execution_count": null,
   "metadata": {},
   "outputs": [],
   "source": []
  }
 ],
 "metadata": {
  "kernelspec": {
   "display_name": "Python 3",
   "language": "python",
   "name": "python3"
  },
  "language_info": {
   "codemirror_mode": {
    "name": "ipython",
    "version": 3
   },
   "file_extension": ".py",
   "mimetype": "text/x-python",
   "name": "python",
   "nbconvert_exporter": "python",
   "pygments_lexer": "ipython3",
   "version": "3.7.7"
  }
 },
 "nbformat": 4,
 "nbformat_minor": 4
}

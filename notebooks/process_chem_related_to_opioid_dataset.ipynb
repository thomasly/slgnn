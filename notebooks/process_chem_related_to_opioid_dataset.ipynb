{
 "cells": [
  {
   "cell_type": "code",
   "execution_count": 6,
   "metadata": {},
   "outputs": [],
   "source": [
    "from rdkit import Chem\n",
    "from rdkit.Chem.rdMolDescriptors import (\n",
    "    GetMorganFingerprintAsBitVect, GetMACCSKeysFingerprint)\n",
    "from PyFingerprint.All_Fingerprint import get_fingerprint\n",
    "import pandas as pd"
   ]
  },
  {
   "cell_type": "code",
   "execution_count": 2,
   "metadata": {},
   "outputs": [],
   "source": [
    "df = pd.read_csv(\"../dataset/chem_related_to_opioid.csv\")"
   ]
  },
  {
   "cell_type": "code",
   "execution_count": 3,
   "metadata": {},
   "outputs": [
    {
     "data": {
      "text/html": [
       "<div>\n",
       "<style scoped>\n",
       "    .dataframe tbody tr th:only-of-type {\n",
       "        vertical-align: middle;\n",
       "    }\n",
       "\n",
       "    .dataframe tbody tr th {\n",
       "        vertical-align: top;\n",
       "    }\n",
       "\n",
       "    .dataframe thead th {\n",
       "        text-align: right;\n",
       "    }\n",
       "</style>\n",
       "<table border=\"1\" class=\"dataframe\">\n",
       "  <thead>\n",
       "    <tr style=\"text-align: right;\">\n",
       "      <th></th>\n",
       "      <th>Unnamed: 0</th>\n",
       "      <th>InChI Key</th>\n",
       "      <th>Canonical SMILES</th>\n",
       "    </tr>\n",
       "  </thead>\n",
       "  <tbody>\n",
       "    <tr>\n",
       "      <th>0</th>\n",
       "      <td>490</td>\n",
       "      <td>AAEIJYARJYLTIS-UHFFFAOYSA-N</td>\n",
       "      <td>Cc1cc(N)c2cc(NC(=O)c3ccccc3COc4ccc(CNCCCCCCCCC...</td>\n",
       "    </tr>\n",
       "    <tr>\n",
       "      <th>1</th>\n",
       "      <td>721</td>\n",
       "      <td>AAGKZYYLJCIWKQ-VMPREFPWSA-N</td>\n",
       "      <td>Oc1ccc2O[C@H]3CN(CCc4ccc(F)cc4)CC[C@@]3(CCCCc5...</td>\n",
       "    </tr>\n",
       "    <tr>\n",
       "      <th>2</th>\n",
       "      <td>822</td>\n",
       "      <td>AAHMFTBCVJDHBJ-UHFFFAOYSA-N</td>\n",
       "      <td>COc1ccc2sc(c3ccc(cc3)S(=O)(=O)C)c(C#Cc4cncn4C)...</td>\n",
       "    </tr>\n",
       "    <tr>\n",
       "      <th>3</th>\n",
       "      <td>1316</td>\n",
       "      <td>AAMCVRWFZKNHTH-AKSNCSMTSA-N</td>\n",
       "      <td>CC[C@@H](C)[C@H]1NC(=O)[C@H](CCCN=C(N)N)NC(=O)...</td>\n",
       "    </tr>\n",
       "    <tr>\n",
       "      <th>4</th>\n",
       "      <td>1317</td>\n",
       "      <td>AAMCVRWFZKNHTH-GILCVNLZSA-N</td>\n",
       "      <td>CC[C@@H](C)[C@H]1NC(=O)[C@H](CCCN=C(N)N)NC(=O)...</td>\n",
       "    </tr>\n",
       "  </tbody>\n",
       "</table>\n",
       "</div>"
      ],
      "text/plain": [
       "   Unnamed: 0                    InChI Key  \\\n",
       "0         490  AAEIJYARJYLTIS-UHFFFAOYSA-N   \n",
       "1         721  AAGKZYYLJCIWKQ-VMPREFPWSA-N   \n",
       "2         822  AAHMFTBCVJDHBJ-UHFFFAOYSA-N   \n",
       "3        1316  AAMCVRWFZKNHTH-AKSNCSMTSA-N   \n",
       "4        1317  AAMCVRWFZKNHTH-GILCVNLZSA-N   \n",
       "\n",
       "                                    Canonical SMILES  \n",
       "0  Cc1cc(N)c2cc(NC(=O)c3ccccc3COc4ccc(CNCCCCCCCCC...  \n",
       "1  Oc1ccc2O[C@H]3CN(CCc4ccc(F)cc4)CC[C@@]3(CCCCc5...  \n",
       "2  COc1ccc2sc(c3ccc(cc3)S(=O)(=O)C)c(C#Cc4cncn4C)...  \n",
       "3  CC[C@@H](C)[C@H]1NC(=O)[C@H](CCCN=C(N)N)NC(=O)...  \n",
       "4  CC[C@@H](C)[C@H]1NC(=O)[C@H](CCCN=C(N)N)NC(=O)...  "
      ]
     },
     "execution_count": 3,
     "metadata": {},
     "output_type": "execute_result"
    }
   ],
   "source": [
    "df.head()"
   ]
  },
  {
   "cell_type": "code",
   "execution_count": 18,
   "metadata": {},
   "outputs": [],
   "source": [
    "class Smiles2Fingerprint:\n",
    "    \n",
    "    def __init__(self, fingerprint_type=\"\"):\n",
    "        self.fp_type = fingerprint_type\n",
    "        \n",
    "    def __call__(self, smiles):\n",
    "        if self.fp_type == \"ecfp\":\n",
    "            return self._get_ecfp(smiles)\n",
    "        elif self.fp_type == \"maccs\":\n",
    "            return self._get_maccs(smiles)\n",
    "        elif self.fp_type == \"pubchem\":\n",
    "            return self._get_pubchem(smiles)\n",
    "        else:\n",
    "            raise ValueError(\n",
    "                f\"Fingerprint type must in ['ecfp', 'maccs', 'pubchem'], \"\n",
    "                f\"got {self.fp_type}\"\n",
    "            )\n",
    "    \n",
    "    def _get_ecfp(self, smiles):\n",
    "        mol = Chem.MolFromSmiles(smiles)\n",
    "        if mol is None:\n",
    "            return\n",
    "        fp = GetMorganFingerprintAsBitVect(mol, 4, nBits=2048)\n",
    "        return fp\n",
    "    \n",
    "    def _get_pubchem(self, smiles):\n",
    "        try:\n",
    "            fp = get_fingerprint(smiles, fp_type=\"pubchem\", output=\"vector\")\n",
    "            return fp\n",
    "        except OSError:\n",
    "            return None\n",
    "    \n",
    "    def _get_maccs(self, smiles):\n",
    "        mol = Chem.MolFromSmiles(smiles)\n",
    "        if mol is None:\n",
    "            return\n",
    "        fp = GetMACCSKeysFingerprint(mol)\n",
    "        return fp"
   ]
  },
  {
   "cell_type": "code",
   "execution_count": 8,
   "metadata": {},
   "outputs": [],
   "source": [
    "df[\"ECFP\"] = df[\"Canonical SMILES\"].map(Smiles2Fingerprint(\"ecfp\"))"
   ]
  },
  {
   "cell_type": "code",
   "execution_count": 11,
   "metadata": {},
   "outputs": [],
   "source": [
    "df[\"maccs\"] = df[\"Canonical SMILES\"].map(Smiles2Fingerprint(\"maccs\"))"
   ]
  },
  {
   "cell_type": "code",
   "execution_count": 19,
   "metadata": {},
   "outputs": [],
   "source": [
    "df[\"pubchem\"] = df[\"Canonical SMILES\"].map(Smiles2Fingerprint(\"pubchem\"))"
   ]
  },
  {
   "cell_type": "code",
   "execution_count": 23,
   "metadata": {},
   "outputs": [],
   "source": [
    "df = df.rename(columns={\"ECFP\": \"ecfp\"})"
   ]
  },
  {
   "cell_type": "code",
   "execution_count": 24,
   "metadata": {},
   "outputs": [
    {
     "data": {
      "text/html": [
       "<div>\n",
       "<style scoped>\n",
       "    .dataframe tbody tr th:only-of-type {\n",
       "        vertical-align: middle;\n",
       "    }\n",
       "\n",
       "    .dataframe tbody tr th {\n",
       "        vertical-align: top;\n",
       "    }\n",
       "\n",
       "    .dataframe thead th {\n",
       "        text-align: right;\n",
       "    }\n",
       "</style>\n",
       "<table border=\"1\" class=\"dataframe\">\n",
       "  <thead>\n",
       "    <tr style=\"text-align: right;\">\n",
       "      <th></th>\n",
       "      <th>Unnamed: 0</th>\n",
       "      <th>InChI Key</th>\n",
       "      <th>Canonical SMILES</th>\n",
       "      <th>ecfp</th>\n",
       "      <th>maccs</th>\n",
       "      <th>pubchem</th>\n",
       "    </tr>\n",
       "  </thead>\n",
       "  <tbody>\n",
       "    <tr>\n",
       "      <th>0</th>\n",
       "      <td>490</td>\n",
       "      <td>AAEIJYARJYLTIS-UHFFFAOYSA-N</td>\n",
       "      <td>Cc1cc(N)c2cc(NC(=O)c3ccccc3COc4ccc(CNCCCCCCCCC...</td>\n",
       "      <td>[0, 0, 0, 0, 0, 0, 0, 0, 0, 0, 0, 0, 0, 0, 0, ...</td>\n",
       "      <td>[0, 0, 0, 0, 0, 0, 0, 0, 0, 0, 0, 0, 0, 0, 0, ...</td>\n",
       "      <td>[0, 0, 0, 0, 0, 0, 0, 0, 0, 1, 1, 1, 1, 1, 1, ...</td>\n",
       "    </tr>\n",
       "    <tr>\n",
       "      <th>1</th>\n",
       "      <td>721</td>\n",
       "      <td>AAGKZYYLJCIWKQ-VMPREFPWSA-N</td>\n",
       "      <td>Oc1ccc2O[C@H]3CN(CCc4ccc(F)cc4)CC[C@@]3(CCCCc5...</td>\n",
       "      <td>[0, 1, 0, 0, 0, 0, 0, 0, 0, 0, 0, 0, 0, 0, 0, ...</td>\n",
       "      <td>[0, 0, 0, 0, 0, 0, 0, 0, 0, 0, 0, 0, 0, 0, 0, ...</td>\n",
       "      <td>[0, 0, 0, 0, 0, 0, 0, 0, 0, 1, 1, 1, 1, 0, 1, ...</td>\n",
       "    </tr>\n",
       "    <tr>\n",
       "      <th>2</th>\n",
       "      <td>822</td>\n",
       "      <td>AAHMFTBCVJDHBJ-UHFFFAOYSA-N</td>\n",
       "      <td>COc1ccc2sc(c3ccc(cc3)S(=O)(=O)C)c(C#Cc4cncn4C)...</td>\n",
       "      <td>[0, 0, 0, 0, 0, 0, 0, 0, 0, 0, 0, 0, 0, 0, 0, ...</td>\n",
       "      <td>[0, 0, 0, 0, 0, 0, 0, 0, 0, 0, 0, 0, 0, 0, 0, ...</td>\n",
       "      <td>[0, 0, 0, 0, 0, 0, 0, 0, 0, 1, 1, 1, 1, 0, 1, ...</td>\n",
       "    </tr>\n",
       "    <tr>\n",
       "      <th>3</th>\n",
       "      <td>1316</td>\n",
       "      <td>AAMCVRWFZKNHTH-AKSNCSMTSA-N</td>\n",
       "      <td>CC[C@@H](C)[C@H]1NC(=O)[C@H](CCCN=C(N)N)NC(=O)...</td>\n",
       "      <td>[0, 1, 0, 0, 0, 0, 0, 0, 0, 0, 0, 0, 0, 0, 0, ...</td>\n",
       "      <td>[0, 0, 0, 0, 0, 0, 0, 0, 0, 0, 0, 0, 0, 0, 0, ...</td>\n",
       "      <td>[0, 0, 0, 0, 0, 0, 0, 0, 0, 1, 1, 1, 1, 1, 1, ...</td>\n",
       "    </tr>\n",
       "    <tr>\n",
       "      <th>4</th>\n",
       "      <td>1317</td>\n",
       "      <td>AAMCVRWFZKNHTH-GILCVNLZSA-N</td>\n",
       "      <td>CC[C@@H](C)[C@H]1NC(=O)[C@H](CCCN=C(N)N)NC(=O)...</td>\n",
       "      <td>[0, 1, 0, 0, 0, 0, 0, 0, 0, 0, 0, 0, 0, 0, 0, ...</td>\n",
       "      <td>[0, 0, 0, 0, 0, 0, 0, 0, 0, 0, 0, 0, 0, 0, 0, ...</td>\n",
       "      <td>[0, 0, 0, 0, 0, 0, 0, 0, 0, 1, 1, 1, 1, 1, 1, ...</td>\n",
       "    </tr>\n",
       "  </tbody>\n",
       "</table>\n",
       "</div>"
      ],
      "text/plain": [
       "   Unnamed: 0                    InChI Key  \\\n",
       "0         490  AAEIJYARJYLTIS-UHFFFAOYSA-N   \n",
       "1         721  AAGKZYYLJCIWKQ-VMPREFPWSA-N   \n",
       "2         822  AAHMFTBCVJDHBJ-UHFFFAOYSA-N   \n",
       "3        1316  AAMCVRWFZKNHTH-AKSNCSMTSA-N   \n",
       "4        1317  AAMCVRWFZKNHTH-GILCVNLZSA-N   \n",
       "\n",
       "                                    Canonical SMILES  \\\n",
       "0  Cc1cc(N)c2cc(NC(=O)c3ccccc3COc4ccc(CNCCCCCCCCC...   \n",
       "1  Oc1ccc2O[C@H]3CN(CCc4ccc(F)cc4)CC[C@@]3(CCCCc5...   \n",
       "2  COc1ccc2sc(c3ccc(cc3)S(=O)(=O)C)c(C#Cc4cncn4C)...   \n",
       "3  CC[C@@H](C)[C@H]1NC(=O)[C@H](CCCN=C(N)N)NC(=O)...   \n",
       "4  CC[C@@H](C)[C@H]1NC(=O)[C@H](CCCN=C(N)N)NC(=O)...   \n",
       "\n",
       "                                                ecfp  \\\n",
       "0  [0, 0, 0, 0, 0, 0, 0, 0, 0, 0, 0, 0, 0, 0, 0, ...   \n",
       "1  [0, 1, 0, 0, 0, 0, 0, 0, 0, 0, 0, 0, 0, 0, 0, ...   \n",
       "2  [0, 0, 0, 0, 0, 0, 0, 0, 0, 0, 0, 0, 0, 0, 0, ...   \n",
       "3  [0, 1, 0, 0, 0, 0, 0, 0, 0, 0, 0, 0, 0, 0, 0, ...   \n",
       "4  [0, 1, 0, 0, 0, 0, 0, 0, 0, 0, 0, 0, 0, 0, 0, ...   \n",
       "\n",
       "                                               maccs  \\\n",
       "0  [0, 0, 0, 0, 0, 0, 0, 0, 0, 0, 0, 0, 0, 0, 0, ...   \n",
       "1  [0, 0, 0, 0, 0, 0, 0, 0, 0, 0, 0, 0, 0, 0, 0, ...   \n",
       "2  [0, 0, 0, 0, 0, 0, 0, 0, 0, 0, 0, 0, 0, 0, 0, ...   \n",
       "3  [0, 0, 0, 0, 0, 0, 0, 0, 0, 0, 0, 0, 0, 0, 0, ...   \n",
       "4  [0, 0, 0, 0, 0, 0, 0, 0, 0, 0, 0, 0, 0, 0, 0, ...   \n",
       "\n",
       "                                             pubchem  \n",
       "0  [0, 0, 0, 0, 0, 0, 0, 0, 0, 1, 1, 1, 1, 1, 1, ...  \n",
       "1  [0, 0, 0, 0, 0, 0, 0, 0, 0, 1, 1, 1, 1, 0, 1, ...  \n",
       "2  [0, 0, 0, 0, 0, 0, 0, 0, 0, 1, 1, 1, 1, 0, 1, ...  \n",
       "3  [0, 0, 0, 0, 0, 0, 0, 0, 0, 1, 1, 1, 1, 1, 1, ...  \n",
       "4  [0, 0, 0, 0, 0, 0, 0, 0, 0, 1, 1, 1, 1, 1, 1, ...  "
      ]
     },
     "execution_count": 24,
     "metadata": {},
     "output_type": "execute_result"
    }
   ],
   "source": [
    "df.head()"
   ]
  },
  {
   "cell_type": "code",
   "execution_count": 25,
   "metadata": {},
   "outputs": [],
   "source": [
    "df.to_csv(\"../dataset/chem_related_to_opioid_fingerprints.csv\")"
   ]
  },
  {
   "cell_type": "code",
   "execution_count": null,
   "metadata": {},
   "outputs": [],
   "source": []
  }
 ],
 "metadata": {
  "interpreter": {
   "hash": "3074a665a4aac1650e5e08944f21eecc22151925e8dd40acfa0e88ad33b03326"
  },
  "kernelspec": {
   "display_name": "Python 3.7.7 64-bit ('py37': conda)",
   "name": "python3"
  },
  "language_info": {
   "codemirror_mode": {
    "name": "ipython",
    "version": 3
   },
   "file_extension": ".py",
   "mimetype": "text/x-python",
   "name": "python",
   "nbconvert_exporter": "python",
   "pygments_lexer": "ipython3",
   "version": "3.7.7"
  },
  "orig_nbformat": 4
 },
 "nbformat": 4,
 "nbformat_minor": 2
}
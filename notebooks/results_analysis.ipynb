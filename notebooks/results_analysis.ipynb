{
 "cells": [
  {
   "cell_type": "code",
   "execution_count": 1,
   "metadata": {},
   "outputs": [],
   "source": [
    "import os\n",
    "import statistics"
   ]
  },
  {
   "cell_type": "code",
   "execution_count": 2,
   "metadata": {},
   "outputs": [],
   "source": [
    "log_path = os.path.join(os.path.pardir, \"logs\")\n",
    "results_path = \"20201005_180159\""
   ]
  },
  {
   "cell_type": "code",
   "execution_count": 3,
   "metadata": {
    "tags": []
   },
   "outputs": [
    {
     "output_type": "stream",
     "name": "stdout",
     "text": "Dataset: BACE\nSettings: DiffPool_BACE_ScaffoldSplitter_0.8_0.1_0.1_embed300_FocalLoss_bs256_encoder_freeze5_10_15_20_25_1\n# of experiments: 5\nMean: 0.85284\nSTD: 0.008302589957356653\n====================\nDataset: BACE\nSettings: DiffPool_BACE_ScaffoldSplitter_0.8_0.1_0.1_embed300_FocalLoss_bs256_noencoder_freeze5_10_15_20_25_0\n# of experiments: 5\nMean: 0.85048\nSTD: 0.020731666599673095\n====================\nDataset: BBBP\nSettings: DiffPool_BBBP_ScaffoldSplitter_0.8_0.1_0.1_embed300_FocalLoss_bs256_encoder_freeze5_10_15_20_25_1\n# of experiments: 5\nMean: 0.8494200000000001\nSTD: 0.04090949767474542\n====================\nDataset: BBBP\nSettings: DiffPool_BBBP_ScaffoldSplitter_0.8_0.1_0.1_embed300_FocalLoss_bs256_noencoder_freeze5_10_15_20_25_0\n# of experiments: 5\nMean: 0.8297599999999999\nSTD: 0.03025678436318042\n====================\nDataset: ClinTox\nSettings: DiffPool_ClinTox_ScaffoldSplitter_0.8_0.1_0.1_embed300_BCEWithLogitsLoss_bs256_encoder_freeze5_10_15_20_25_1\n# of experiments: 5\nMean: 0.80976\nSTD: 0.10669178974972722\n====================\nDataset: ClinTox\nSettings: DiffPool_ClinTox_ScaffoldSplitter_0.8_0.1_0.1_embed300_BCEWithLogitsLoss_bs256_noencoder_freeze5_10_15_20_25_0\n# of experiments: 5\nMean: 0.66892\nSTD: 0.1649840355913262\n====================\nDataset: HIV\nSettings: DiffPool_HIV_FixedSplitter_0.8_0.1_0.1_embed300_FocalLoss_bs256_encoder_freeze5_10_15_20_25_1\n# of experiments: 5\nMean: 0.79204\nSTD: 0.018058183740343316\n====================\nDataset: HIV\nSettings: DiffPool_HIV_FixedSplitter_0.8_0.1_0.1_embed300_FocalLoss_bs256_noencoder_freeze5_10_15_20_25_0\n# of experiments: 5\nMean: 0.78956\nSTD: 0.02119511736226059\n====================\nDataset: JAK1\nSettings: DiffPool_JAK1_ScaffoldSplitter_0.8_0.1_0.1_embed300_CrossEntropyLoss_bs256_encoder_freeze5_10_15_20_25_1\n# of experiments: 5\nMean: 0.90766\nSTD: 0.022690152048851504\n====================\nDataset: JAK1\nSettings: DiffPool_JAK1_ScaffoldSplitter_0.8_0.1_0.1_embed300_CrossEntropyLoss_bs256_noencoder_freeze5_10_15_20_25_0\n# of experiments: 5\nMean: 0.9085799999999999\nSTD: 0.022753175602539557\n====================\nDataset: JAK2\nSettings: DiffPool_JAK2_ScaffoldSplitter_0.8_0.1_0.1_embed300_CrossEntropyLoss_bs256_encoder_freeze5_10_15_20_25_1\n# of experiments: 5\nMean: 0.8558800000000001\nSTD: 0.01365309488724076\n====================\nDataset: JAK2\nSettings: DiffPool_JAK2_ScaffoldSplitter_0.8_0.1_0.1_embed300_CrossEntropyLoss_bs256_noencoder_freeze5_10_15_20_25_0\n# of experiments: 5\nMean: 0.84976\nSTD: 0.011437788247733931\n====================\nDataset: JAK3\nSettings: DiffPool_JAK3_ScaffoldSplitter_0.8_0.1_0.1_embed300_CrossEntropyLoss_bs256_encoder_freeze5_10_15_20_25_1\n# of experiments: 5\nMean: 0.823\nSTD: 0.022469423668621348\n====================\nDataset: JAK3\nSettings: DiffPool_JAK3_ScaffoldSplitter_0.8_0.1_0.1_embed300_CrossEntropyLoss_bs256_noencoder_freeze5_10_15_20_25_0\n# of experiments: 5\nMean: 0.82662\nSTD: 0.01387180593866567\n====================\nDataset: Sider\nSettings: DiffPool_Sider_DataSplitter_0.8_0.1_0.1_embed300_MaskedBCEWithLogitsLoss_bs256_encoder_freeze5_10_15_20_25_1\n# of experiments: 5\nMean: 0.5976400000000001\nSTD: 0.014346881194182948\n====================\nDataset: Sider\nSettings: DiffPool_Sider_DataSplitter_0.8_0.1_0.1_embed300_MaskedBCEWithLogitsLoss_bs256_noencoder_freeze5_10_15_20_25_0\n# of experiments: 5\nMean: 0.56262\nSTD: 0.010328939926246047\n====================\n"
    }
   ],
   "source": [
    "for dataset in os.scandir(os.path.join(log_path, results_path)):\n",
    "    if dataset.is_file():\n",
    "        continue\n",
    "    for settings in os.scandir(dataset.path):\n",
    "        roc = list()\n",
    "        for random_idx in os.scandir(settings.path):\n",
    "            if random_idx.is_file():\n",
    "                continue\n",
    "            with open(os.path.join(random_idx.path, \"classifier_metrics.txt\"), \"r\") as f:\n",
    "                roc.append(float(f.readlines()[-1].split()[3]))\n",
    "        print(f\"Dataset: {dataset.name}\")\n",
    "        print(f\"Settings: {settings.name}\")\n",
    "        print(f\"# of experiments: {len(roc)}\")\n",
    "        print(f\"Mean: {statistics.mean(roc)}\")\n",
    "        print(f\"STD: {statistics.stdev(roc)}\")\n",
    "        print(\"=\"*20)"
   ]
  },
  {
   "cell_type": "code",
   "execution_count": 28,
   "metadata": {},
   "outputs": [
    {
     "data": {
      "text/plain": [
       "[0.7786, 0.7821, 0.7929, 0.8125, 0.825]"
      ]
     },
     "execution_count": 28,
     "metadata": {},
     "output_type": "execute_result"
    }
   ],
   "source": [
    "bests"
   ]
  },
  {
   "cell_type": "code",
   "execution_count": 29,
   "metadata": {},
   "outputs": [
    {
     "data": {
      "text/plain": [
       "0.79822"
      ]
     },
     "execution_count": 29,
     "metadata": {},
     "output_type": "execute_result"
    }
   ],
   "source": [
    "statistics.mean(bests)"
   ]
  },
  {
   "cell_type": "code",
   "execution_count": 8,
   "metadata": {},
   "outputs": [
    {
     "data": {
      "text/plain": [
       "0.04616134746733464"
      ]
     },
     "execution_count": 8,
     "metadata": {},
     "output_type": "execute_result"
    }
   ],
   "source": [
    "statistics.stdev(bests)"
   ]
  },
  {
   "cell_type": "code",
   "execution_count": null,
   "metadata": {},
   "outputs": [],
   "source": []
  }
 ],
 "metadata": {
  "kernelspec": {
   "display_name": "Python 3",
   "language": "python",
   "name": "python3"
  },
  "language_info": {
   "codemirror_mode": {
    "name": "ipython",
    "version": 3
   },
   "file_extension": ".py",
   "mimetype": "text/x-python",
   "name": "python",
   "nbconvert_exporter": "python",
   "pygments_lexer": "ipython3",
   "version": "3.8.5-final"
  }
 },
 "nbformat": 4,
 "nbformat_minor": 4
}
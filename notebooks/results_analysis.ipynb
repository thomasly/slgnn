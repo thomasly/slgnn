{
 "cells": [
  {
   "cell_type": "code",
   "execution_count": 1,
   "metadata": {},
   "outputs": [],
   "source": [
    "import os\n",
    "import statistics"
   ]
  },
  {
   "cell_type": "code",
   "execution_count": 2,
   "metadata": {},
   "outputs": [],
   "source": [
    "log_path = os.path.join(os.path.pardir, \"logs\")\n",
    "results_path = \"20200928_162344\""
   ]
  },
  {
   "cell_type": "code",
   "execution_count": 3,
   "metadata": {
    "tags": []
   },
   "outputs": [
    {
     "output_type": "stream",
     "name": "stdout",
     "text": "Dataset: BACE\nSettings: not_ZINC_pretrained_BACE_ScaffoldSplitter_0.8_0.1_0.1_embed300_FocalLoss_bs256_nosecondpretrain_freeze5_10_15_20_25_0\n# of experiments: 5\nMean: 0.8464\nSTD: 0.014317821063276344\n====================\nDataset: BACE\nSettings: not_ZINC_pretrained_BACE_ScaffoldSplitter_0.8_0.1_0.1_embed300_FocalLoss_bs256_secondpretrain_freeze5_10_15_20_25_1\n# of experiments: 5\nMean: 0.8578\nSTD: 0.012616061191988532\n====================\nDataset: BACE\nSettings: ZINC_pretrained_BACE_ScaffoldSplitter_0.8_0.1_0.1_embed300_FocalLoss_bs256_nosecondpretrain_freeze5_10_15_20_25_0\n# of experiments: 5\nMean: 0.87378\nSTD: 0.02381495328569845\n====================\nDataset: BACE\nSettings: ZINC_pretrained_BACE_ScaffoldSplitter_0.8_0.1_0.1_embed300_FocalLoss_bs256_secondpretrain_freeze5_10_15_20_25_1\n# of experiments: 5\nMean: 0.8800399999999999\nSTD: 0.0092718930105993\n====================\nDataset: BBBP\nSettings: not_ZINC_pretrained_BBBP_ScaffoldSplitter_0.8_0.1_0.1_embed300_FocalLoss_bs256_nosecondpretrain_freeze5_10_15_20_25_0\n# of experiments: 5\nMean: 0.8677\nSTD: 0.01905164034932428\n====================\nDataset: BBBP\nSettings: not_ZINC_pretrained_BBBP_ScaffoldSplitter_0.8_0.1_0.1_embed300_FocalLoss_bs256_secondpretrain_freeze5_10_15_20_25_1\n# of experiments: 5\nMean: 0.8862\nSTD: 0.00627773844628781\n====================\nDataset: BBBP\nSettings: ZINC_pretrained_BBBP_ScaffoldSplitter_0.8_0.1_0.1_embed300_FocalLoss_bs256_nosecondpretrain_freeze5_10_15_20_25_0\n# of experiments: 5\nMean: 0.84758\nSTD: 0.05039471202417967\n====================\nDataset: BBBP\nSettings: ZINC_pretrained_BBBP_ScaffoldSplitter_0.8_0.1_0.1_embed300_FocalLoss_bs256_secondpretrain_freeze5_10_15_20_25_1\n# of experiments: 5\nMean: 0.88238\nSTD: 0.008859006716331138\n====================\nDataset: ClinTox\nSettings: not_ZINC_pretrained_ClinTox_ScaffoldSplitter_0.8_0.1_0.1_embed300_BCEWithLogitsLoss_bs32_nosecondpretrain_freeze5_10_15_20_25_0\n# of experiments: 5\nMean: 0.8792\nSTD: 0.015440369166571127\n====================\nDataset: ClinTox\nSettings: not_ZINC_pretrained_ClinTox_ScaffoldSplitter_0.8_0.1_0.1_embed300_BCEWithLogitsLoss_bs32_secondpretrain_freeze5_10_15_20_25_1\n# of experiments: 5\nMean: 0.93184\nSTD: 0.022218640822516553\n====================\nDataset: ClinTox\nSettings: ZINC_pretrained_ClinTox_ScaffoldSplitter_0.8_0.1_0.1_embed300_BCEWithLogitsLoss_bs32_nosecondpretrain_freeze5_10_15_20_25_0\n# of experiments: 5\nMean: 0.5109400000000001\nSTD: 0.05703571687986399\n====================\nDataset: ClinTox\nSettings: ZINC_pretrained_ClinTox_ScaffoldSplitter_0.8_0.1_0.1_embed300_BCEWithLogitsLoss_bs32_secondpretrain_freeze5_10_15_20_25_1\n# of experiments: 5\nMean: 0.84214\nSTD: 0.039126499971247106\n====================\nDataset: HIV\nSettings: not_ZINC_pretrained_HIV_ScaffoldSplitter_0.8_0.1_0.1_embed300_FocalLoss_bs256_nosecondpretrain_freeze5_10_15_20_25_0\n# of experiments: 5\nMean: 0.76142\nSTD: 0.0076796484294530355\n====================\nDataset: HIV\nSettings: not_ZINC_pretrained_HIV_ScaffoldSplitter_0.8_0.1_0.1_embed300_FocalLoss_bs256_secondpretrain_freeze5_10_15_20_25_1\n# of experiments: 5\nMean: 0.7837000000000001\nSTD: 0.016609485241873098\n====================\nDataset: HIV\nSettings: ZINC_pretrained_HIV_ScaffoldSplitter_0.8_0.1_0.1_embed300_FocalLoss_bs256_nosecondpretrain_freeze5_10_15_20_25_0\n# of experiments: 5\nMean: 0.73066\nSTD: 0.007781580816260908\n====================\nDataset: HIV\nSettings: ZINC_pretrained_HIV_ScaffoldSplitter_0.8_0.1_0.1_embed300_FocalLoss_bs256_secondpretrain_freeze5_10_15_20_25_1\n# of experiments: 5\nMean: 0.76152\nSTD: 0.009490363533606072\n====================\nDataset: JAK1\nSettings: not_ZINC_pretrained_JAK1_ScaffoldSplitter_0.8_0.1_0.1_embed300_CrossEntropyLoss_bs256_nosecondpretrain_freeze5_10_15_20_25_0\n# of experiments: 5\nMean: 0.93252\nSTD: 0.00428217234590109\n====================\nDataset: JAK1\nSettings: not_ZINC_pretrained_JAK1_ScaffoldSplitter_0.8_0.1_0.1_embed300_CrossEntropyLoss_bs256_secondpretrain_freeze5_10_15_20_25_1\n# of experiments: 5\nMean: 0.94162\nSTD: 0.013652362432927147\n====================\nDataset: JAK1\nSettings: ZINC_pretrained_JAK1_ScaffoldSplitter_0.8_0.1_0.1_embed300_CrossEntropyLoss_bs256_nosecondpretrain_freeze5_10_15_20_25_0\n# of experiments: 5\nMean: 0.94808\nSTD: 0.00568436452033119\n====================\nDataset: JAK1\nSettings: ZINC_pretrained_JAK1_ScaffoldSplitter_0.8_0.1_0.1_embed300_CrossEntropyLoss_bs256_secondpretrain_freeze5_10_15_20_25_1\n# of experiments: 5\nMean: 0.94062\nSTD: 0.007633282387020688\n====================\nDataset: JAK2\nSettings: not_ZINC_pretrained_JAK2_ScaffoldSplitter_0.8_0.1_0.1_embed300_CrossEntropyLoss_bs256_nosecondpretrain_freeze5_10_15_20_25_0\n# of experiments: 5\nMean: 0.86848\nSTD: 0.01575775999309549\n====================\nDataset: JAK2\nSettings: not_ZINC_pretrained_JAK2_ScaffoldSplitter_0.8_0.1_0.1_embed300_CrossEntropyLoss_bs256_secondpretrain_freeze5_10_15_20_25_1\n# of experiments: 5\nMean: 0.89306\nSTD: 0.006934551175094181\n====================\nDataset: JAK2\nSettings: ZINC_pretrained_JAK2_ScaffoldSplitter_0.8_0.1_0.1_embed300_CrossEntropyLoss_bs256_nosecondpretrain_freeze5_10_15_20_25_0\n# of experiments: 5\nMean: 0.89552\nSTD: 0.005819106460617447\n====================\nDataset: JAK2\nSettings: ZINC_pretrained_JAK2_ScaffoldSplitter_0.8_0.1_0.1_embed300_CrossEntropyLoss_bs256_secondpretrain_freeze5_10_15_20_25_1\n# of experiments: 5\nMean: 0.8931\nSTD: 0.00586642991946552\n====================\nDataset: JAK3\nSettings: not_ZINC_pretrained_JAK3_ScaffoldSplitter_0.8_0.1_0.1_embed300_CrossEntropyLoss_bs256_nosecondpretrain_freeze5_10_15_20_25_0\n# of experiments: 5\nMean: 0.84906\nSTD: 0.01922883251786236\n====================\nDataset: JAK3\nSettings: not_ZINC_pretrained_JAK3_ScaffoldSplitter_0.8_0.1_0.1_embed300_CrossEntropyLoss_bs256_secondpretrain_freeze5_10_15_20_25_1\n# of experiments: 5\nMean: 0.82436\nSTD: 0.013236804750391974\n====================\nDataset: JAK3\nSettings: ZINC_pretrained_JAK3_ScaffoldSplitter_0.8_0.1_0.1_embed300_CrossEntropyLoss_bs256_nosecondpretrain_freeze5_10_15_20_25_0\n# of experiments: 5\nMean: 0.88638\nSTD: 0.011793939121430152\n====================\nDataset: JAK3\nSettings: ZINC_pretrained_JAK3_ScaffoldSplitter_0.8_0.1_0.1_embed300_CrossEntropyLoss_bs256_secondpretrain_freeze5_10_15_20_25_1\n# of experiments: 5\nMean: 0.86216\nSTD: 0.00844203766871481\n====================\nDataset: Sider\nSettings: not_ZINC_pretrained_Sider_ScaffoldSplitter_0.8_0.1_0.1_embed300_MaskedBCEWithLogitsLoss_bs256_nosecondpretrain_freeze5_10_15_20_25_0\n# of experiments: 5\nMean: 0.60378\nSTD: 0.01318700117539996\n====================\nDataset: Sider\nSettings: not_ZINC_pretrained_Sider_ScaffoldSplitter_0.8_0.1_0.1_embed300_MaskedBCEWithLogitsLoss_bs256_secondpretrain_freeze5_10_15_20_25_1\n# of experiments: 5\nMean: 0.6108399999999999\nSTD: 0.006885709839951164\n====================\nDataset: Sider\nSettings: ZINC_pretrained_Sider_ScaffoldSplitter_0.8_0.1_0.1_embed300_MaskedBCEWithLogitsLoss_bs256_nosecondpretrain_freeze5_10_15_20_25_0\n# of experiments: 5\nMean: 0.5608\nSTD: 0.045773573161814664\n====================\nDataset: Sider\nSettings: ZINC_pretrained_Sider_ScaffoldSplitter_0.8_0.1_0.1_embed300_MaskedBCEWithLogitsLoss_bs256_secondpretrain_freeze5_10_15_20_25_1\n# of experiments: 5\nMean: 0.62602\nSTD: 0.010846750665521886\n====================\n"
    }
   ],
   "source": [
    "for dataset in os.scandir(os.path.join(log_path, results_path)):\n",
    "    for settings in os.scandir(dataset.path):\n",
    "        roc = list()\n",
    "        for random_idx in os.scandir(settings.path):\n",
    "            if random_idx.is_file():\n",
    "                continue\n",
    "            with open(os.path.join(random_idx.path, \"classifier_metrics.txt\"), \"r\") as f:\n",
    "                roc.append(float(f.readlines()[-1].split()[3]))\n",
    "        print(f\"Dataset: {dataset.name}\")\n",
    "        print(f\"Settings: {settings.name}\")\n",
    "        print(f\"# of experiments: {len(roc)}\")\n",
    "        print(f\"Mean: {statistics.mean(roc)}\")\n",
    "        print(f\"STD: {statistics.stdev(roc)}\")\n",
    "        print(\"=\"*20)"
   ]
  },
  {
   "cell_type": "code",
   "execution_count": 28,
   "metadata": {},
   "outputs": [
    {
     "data": {
      "text/plain": [
       "[0.7786, 0.7821, 0.7929, 0.8125, 0.825]"
      ]
     },
     "execution_count": 28,
     "metadata": {},
     "output_type": "execute_result"
    }
   ],
   "source": [
    "bests"
   ]
  },
  {
   "cell_type": "code",
   "execution_count": 29,
   "metadata": {},
   "outputs": [
    {
     "data": {
      "text/plain": [
       "0.79822"
      ]
     },
     "execution_count": 29,
     "metadata": {},
     "output_type": "execute_result"
    }
   ],
   "source": [
    "statistics.mean(bests)"
   ]
  },
  {
   "cell_type": "code",
   "execution_count": 8,
   "metadata": {},
   "outputs": [
    {
     "data": {
      "text/plain": [
       "0.04616134746733464"
      ]
     },
     "execution_count": 8,
     "metadata": {},
     "output_type": "execute_result"
    }
   ],
   "source": [
    "statistics.stdev(bests)"
   ]
  },
  {
   "cell_type": "code",
   "execution_count": null,
   "metadata": {},
   "outputs": [],
   "source": []
  }
 ],
 "metadata": {
  "kernelspec": {
   "display_name": "Python 3",
   "language": "python",
   "name": "python3"
  },
  "language_info": {
   "codemirror_mode": {
    "name": "ipython",
    "version": 3
   },
   "file_extension": ".py",
   "mimetype": "text/x-python",
   "name": "python",
   "nbconvert_exporter": "python",
   "pygments_lexer": "ipython3",
   "version": "3.8.5-final"
  }
 },
 "nbformat": 4,
 "nbformat_minor": 4
}
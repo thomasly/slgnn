{
 "cells": [
  {
   "cell_type": "code",
   "execution_count": 1,
   "metadata": {},
   "outputs": [],
   "source": [
    "import os\n",
    "import statistics"
   ]
  },
  {
   "cell_type": "code",
   "execution_count": 10,
   "metadata": {},
   "outputs": [],
   "source": [
    "log_path = os.path.join(os.path.pardir, \"logs\")\n",
    "results_path = \"20200929_130809\""
   ]
  },
  {
   "cell_type": "code",
   "execution_count": 11,
   "metadata": {
    "tags": []
   },
   "outputs": [
    {
     "output_type": "stream",
     "name": "stdout",
     "text": "Dataset: Sider\nSettings: not_ZINC_pretrained_Sider_ScaffoldSplitter_0.8_0.1_0.1_embed300_MaskedBCEWithLogitsLoss_bs256_nosecondpretrain_freeze5_10_15_20_25_0\n# of experiments: 5\nMean: 0.59718\nSTD: 0.01683603278685333\n====================\nDataset: Sider\nSettings: not_ZINC_pretrained_Sider_ScaffoldSplitter_0.8_0.1_0.1_embed300_MaskedBCEWithLogitsLoss_bs256_secondpretrain_freeze5_10_15_20_25_1\n# of experiments: 5\nMean: 0.61306\nSTD: 0.010810550402269057\n====================\nDataset: Sider\nSettings: ZINC_pretrained_Sider_ScaffoldSplitter_0.8_0.1_0.1_embed300_MaskedBCEWithLogitsLoss_bs256_nosecondpretrain_freeze5_10_15_20_25_0\n# of experiments: 5\nMean: 0.57174\nSTD: 0.03236553722711858\n====================\nDataset: Sider\nSettings: ZINC_pretrained_Sider_ScaffoldSplitter_0.8_0.1_0.1_embed300_MaskedBCEWithLogitsLoss_bs256_secondpretrain_freeze5_10_15_20_25_1\n# of experiments: 5\nMean: 0.6216\nSTD: 0.012490996757665086\n====================\n"
    }
   ],
   "source": [
    "for dataset in os.scandir(os.path.join(log_path, results_path)):\n",
    "    for settings in os.scandir(dataset.path):\n",
    "        roc = list()\n",
    "        for random_idx in os.scandir(settings.path):\n",
    "            if random_idx.is_file():\n",
    "                continue\n",
    "            with open(os.path.join(random_idx.path, \"classifier_metrics.txt\"), \"r\") as f:\n",
    "                roc.append(float(f.readlines()[-1].split()[3]))\n",
    "        print(f\"Dataset: {dataset.name}\")\n",
    "        print(f\"Settings: {settings.name}\")\n",
    "        print(f\"# of experiments: {len(roc)}\")\n",
    "        print(f\"Mean: {statistics.mean(roc)}\")\n",
    "        print(f\"STD: {statistics.stdev(roc)}\")\n",
    "        print(\"=\"*20)"
   ]
  },
  {
   "cell_type": "code",
   "execution_count": 28,
   "metadata": {},
   "outputs": [
    {
     "data": {
      "text/plain": [
       "[0.7786, 0.7821, 0.7929, 0.8125, 0.825]"
      ]
     },
     "execution_count": 28,
     "metadata": {},
     "output_type": "execute_result"
    }
   ],
   "source": [
    "bests"
   ]
  },
  {
   "cell_type": "code",
   "execution_count": 29,
   "metadata": {},
   "outputs": [
    {
     "data": {
      "text/plain": [
       "0.79822"
      ]
     },
     "execution_count": 29,
     "metadata": {},
     "output_type": "execute_result"
    }
   ],
   "source": [
    "statistics.mean(bests)"
   ]
  },
  {
   "cell_type": "code",
   "execution_count": 8,
   "metadata": {},
   "outputs": [
    {
     "data": {
      "text/plain": [
       "0.04616134746733464"
      ]
     },
     "execution_count": 8,
     "metadata": {},
     "output_type": "execute_result"
    }
   ],
   "source": [
    "statistics.stdev(bests)"
   ]
  },
  {
   "cell_type": "code",
   "execution_count": null,
   "metadata": {},
   "outputs": [],
   "source": []
  }
 ],
 "metadata": {
  "kernelspec": {
   "display_name": "Python 3",
   "language": "python",
   "name": "python3"
  },
  "language_info": {
   "codemirror_mode": {
    "name": "ipython",
    "version": 3
   },
   "file_extension": ".py",
   "mimetype": "text/x-python",
   "name": "python",
   "nbconvert_exporter": "python",
   "pygments_lexer": "ipython3",
   "version": "3.8.5-final"
  }
 },
 "nbformat": 4,
 "nbformat_minor": 4
}
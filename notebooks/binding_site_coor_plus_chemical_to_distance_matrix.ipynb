{
 "cells": [
  {
   "cell_type": "markdown",
   "metadata": {},
   "source": [
    "## Predict chemcical distance matrix with chemical graphs -> GINFP and the coordinates of protein binding site atoms"
   ]
  },
  {
   "cell_type": "code",
   "execution_count": 1,
   "metadata": {},
   "outputs": [],
   "source": [
    "%load_ext autoreload\n",
    "%autoreload 2"
   ]
  },
  {
   "cell_type": "code",
   "execution_count": 40,
   "metadata": {},
   "outputs": [],
   "source": [
    "import sys\n",
    "\n",
    "sys.path.append(\"..\")\n",
    "import os\n",
    "import tarfile\n",
    "\n",
    "import pandas as pd\n",
    "from torch_geometric.data import Data, InMemoryDataset, Batch\n",
    "from chem_reader.chemreader.readers import PDB\n",
    "from tqdm.notebook import tqdm\n",
    "from rdkit.Chem.Draw.MolDrawing import MolDrawing, DrawingOptions\n",
    "from rdkit.Chem.Draw import IPythonConsole\n",
    "\n",
    "from slgnn.data_processing.pdbds_ligands_dataset import (\n",
    "    PDBLigands,\n",
    "    ThreeDimensionOneHot,\n",
    "    PDBBsAndSub,\n",
    "    PDBSubstrates,\n",
    "    PDBProteins\n",
    ")"
   ]
  },
  {
   "cell_type": "markdown",
   "metadata": {},
   "source": [
    "### Table lists the ligand pdb file and its corresponding proteining binding site pdb file"
   ]
  },
  {
   "cell_type": "code",
   "execution_count": 3,
   "metadata": {},
   "outputs": [],
   "source": [
    "coresponding_table = pd.read_csv(os.path.join(\"..\", \"data\", \"PDB_sub\", \"nometal-pdbtoligand.txt\"), sep=\"\\t\")"
   ]
  },
  {
   "cell_type": "code",
   "execution_count": 4,
   "metadata": {},
   "outputs": [
    {
     "data": {
      "text/html": [
       "<div>\n",
       "<style scoped>\n",
       "    .dataframe tbody tr th:only-of-type {\n",
       "        vertical-align: middle;\n",
       "    }\n",
       "\n",
       "    .dataframe tbody tr th {\n",
       "        vertical-align: top;\n",
       "    }\n",
       "\n",
       "    .dataframe thead th {\n",
       "        text-align: right;\n",
       "    }\n",
       "</style>\n",
       "<table border=\"1\" class=\"dataframe\">\n",
       "  <thead>\n",
       "    <tr style=\"text-align: right;\">\n",
       "      <th></th>\n",
       "      <th>pdbid_chainid</th>\n",
       "      <th>ligand_pdb_file</th>\n",
       "      <th>binding_site_coodinate_file</th>\n",
       "    </tr>\n",
       "  </thead>\n",
       "  <tbody>\n",
       "    <tr>\n",
       "      <th>0</th>\n",
       "      <td>2lvzA.pdb</td>\n",
       "      <td>2lvz_LVZ_A_1.pdb</td>\n",
       "      <td>2lvzA_BS01_LVZ.pdb</td>\n",
       "    </tr>\n",
       "    <tr>\n",
       "      <th>1</th>\n",
       "      <td>2lvzA.pdb</td>\n",
       "      <td>2lvz_SGN_A_1.pdb</td>\n",
       "      <td>2lvzA_BS02_SGN.pdb</td>\n",
       "    </tr>\n",
       "    <tr>\n",
       "      <th>2</th>\n",
       "      <td>2lwiA.pdb</td>\n",
       "      <td>2lwi_GNP_A_1.pdb</td>\n",
       "      <td>2lwiA_BS01_GNP.pdb</td>\n",
       "    </tr>\n",
       "    <tr>\n",
       "      <th>3</th>\n",
       "      <td>2lwiA.pdb</td>\n",
       "      <td>2lwi_KOB_A_1.pdb</td>\n",
       "      <td>2lwiA_BS02_KOB.pdb</td>\n",
       "    </tr>\n",
       "    <tr>\n",
       "      <th>4</th>\n",
       "      <td>2m0zA.pdb</td>\n",
       "      <td>2m0z_33B_A_1.pdb</td>\n",
       "      <td>2m0zA_BS01_33B.pdb</td>\n",
       "    </tr>\n",
       "  </tbody>\n",
       "</table>\n",
       "</div>"
      ],
      "text/plain": [
       "  pdbid_chainid   ligand_pdb_file binding_site_coodinate_file\n",
       "0     2lvzA.pdb  2lvz_LVZ_A_1.pdb          2lvzA_BS01_LVZ.pdb\n",
       "1     2lvzA.pdb  2lvz_SGN_A_1.pdb          2lvzA_BS02_SGN.pdb\n",
       "2     2lwiA.pdb  2lwi_GNP_A_1.pdb          2lwiA_BS01_GNP.pdb\n",
       "3     2lwiA.pdb  2lwi_KOB_A_1.pdb          2lwiA_BS02_KOB.pdb\n",
       "4     2m0zA.pdb  2m0z_33B_A_1.pdb          2m0zA_BS01_33B.pdb"
      ]
     },
     "execution_count": 4,
     "metadata": {},
     "output_type": "execute_result"
    }
   ],
   "source": [
    "coresponding_table.head()"
   ]
  },
  {
   "cell_type": "code",
   "execution_count": 9,
   "metadata": {},
   "outputs": [],
   "source": [
    "# Paths to the ligands and protein binding sites\n",
    "ligands_root = os.path.join(\"..\", \"data\", \"PDB_sub\", \"chemicals\", \"ligand\")\n",
    "proteins_root = os.path.join(\"..\", \"data\", \"PDB_sub\", \"protein_binding_pockets\", \"bs-pdbs\")\n",
    "subs_file = os.path.join(\"..\", \"data\", \"PDB_sub\", \"chemicals\", \"ligand_ordered.tar.gz\")"
   ]
  },
  {
   "cell_type": "code",
   "execution_count": 3,
   "metadata": {},
   "outputs": [
    {
     "name": "stderr",
     "output_type": "stream",
     "text": [
      "0it [00:00, ?it/s]"
     ]
    },
    {
     "name": "stdout",
     "output_type": "stream",
     "text": [
      "Processing...\n"
     ]
    },
    {
     "name": "stderr",
     "output_type": "stream",
     "text": [
      "54253it [12:16, 76.28it/s] "
     ]
    },
    {
     "name": "stdout",
     "output_type": "stream",
     "text": [
      "Fail to get the coordinates of the atoms.\n"
     ]
    },
    {
     "name": "stderr",
     "output_type": "stream",
     "text": [
      "78629it [17:36, 74.41it/s] \n"
     ]
    },
    {
     "name": "stdout",
     "output_type": "stream",
     "text": [
      "Done!\n"
     ]
    }
   ],
   "source": [
    "ligands = PDBSubstrates(root=os.path.join(\"..\", \"data\", \"PDB_sub\"), verbose=True)"
   ]
  },
  {
   "cell_type": "code",
   "execution_count": 4,
   "metadata": {},
   "outputs": [
    {
     "data": {
      "text/plain": [
       "Data(edge_index=[2, 66], x=[31, 6], y=[70, 70])"
      ]
     },
     "execution_count": 4,
     "metadata": {},
     "output_type": "execute_result"
    }
   ],
   "source": [
    "ligands[0]"
   ]
  },
  {
   "cell_type": "code",
   "execution_count": 5,
   "metadata": {},
   "outputs": [],
   "source": [
    "proteins = PDBProteins(root=os.path.join(\"..\", \"data\", \"PDB_sub\"))"
   ]
  },
  {
   "cell_type": "code",
   "execution_count": 6,
   "metadata": {},
   "outputs": [
    {
     "data": {
      "text/plain": [
       "PDBProteins(78629)"
      ]
     },
     "execution_count": 6,
     "metadata": {},
     "output_type": "execute_result"
    }
   ],
   "source": [
    "proteins"
   ]
  },
  {
   "cell_type": "code",
   "execution_count": 47,
   "metadata": {},
   "outputs": [
    {
     "data": {
      "text/plain": [
       "tensor([[129.1660, 196.8200, 181.3280,   1.0000,   1.0000,   0.0000,   4.0000,\n",
       "           0.0000,   0.0000],\n",
       "        [129.4020, 198.2220, 181.0150,   0.0000,   3.0000,   0.0000,   4.0000,\n",
       "           0.0000,   2.0000],\n",
       "        [130.0770, 198.3500, 179.6520,   0.0000,   2.0000,   0.0000,   3.0000,\n",
       "           0.0000,   0.0000],\n",
       "        [129.8650, 199.3270, 178.9320,   2.0000,   1.0000,   0.0000,   3.0000,\n",
       "           0.0000,   0.0000],\n",
       "        [130.2610, 198.8800, 182.0950,   0.0000,   2.0000,   0.0000,   4.0000,\n",
       "           0.0000,   0.0000],\n",
       "        [130.5660, 200.3200, 181.8270,   0.0000,   3.0000,   0.0000,   3.0000,\n",
       "           1.0000,   0.0000],\n",
       "        [131.4900, 200.7200, 180.8860,   1.0000,   2.0000,   0.0000,   3.0000,\n",
       "           1.0000,   0.0000],\n",
       "        [130.0730, 201.4540, 182.3770,   0.0000,   2.0000,   0.0000,   3.0000,\n",
       "           1.0000,   0.0000],\n",
       "        [131.5500, 202.0390, 180.8650,   0.0000,   2.0000,   0.0000,   3.0000,\n",
       "           1.0000,   0.0000],\n",
       "        [130.7000, 202.5090, 181.7600,   1.0000,   2.0000,   0.0000,   3.0000,\n",
       "           1.0000,   0.0000],\n",
       "        [129.0750, 200.5430, 176.0370,   1.0000,   1.0000,   0.0000,   4.0000,\n",
       "           0.0000,   0.0000],\n",
       "        [129.8450, 201.5660, 175.3400,   0.0000,   3.0000,   0.0000,   4.0000,\n",
       "           0.0000,   2.0000],\n",
       "        [130.0710, 201.1560, 173.8890,   0.0000,   2.0000,   0.0000,   3.0000,\n",
       "           0.0000,   0.0000],\n",
       "        [129.5210, 201.7590, 172.9690,   2.0000,   1.0000,   0.0000,   3.0000,\n",
       "           0.0000,   0.0000],\n",
       "        [131.1860, 201.8140, 176.0420,   0.0000,   2.0000,   0.0000,   4.0000,\n",
       "           0.0000,   0.0000],\n",
       "        [132.0690, 202.8690, 175.3740,   0.0000,   2.0000,   0.0000,   4.0000,\n",
       "           0.0000,   0.0000],\n",
       "        [132.9050, 202.3160, 174.2290,   0.0000,   3.0000,   0.0000,   3.0000,\n",
       "           0.0000,   0.0000],\n",
       "        [133.1530, 201.0920, 174.2070,   2.0000,   1.0000,   0.0000,   3.0000,\n",
       "           0.0000,   0.0000],\n",
       "        [133.3110, 203.1030, 173.3480,   2.0000,   1.0000,   0.0000,   3.0000,\n",
       "           0.0000,   0.0000],\n",
       "        [129.3170, 205.0170, 185.8870,   1.0000,   2.0000,   0.0000,   4.0000,\n",
       "           0.0000,   0.0000],\n",
       "        [129.3670, 204.8110, 184.4330,   0.0000,   3.0000,   0.0000,   4.0000,\n",
       "           0.0000,   2.0000],\n",
       "        [128.3280, 203.8120, 183.9260,   0.0000,   2.0000,   0.0000,   3.0000,\n",
       "           0.0000,   0.0000],\n",
       "        [127.6500, 204.1030, 182.9400,   2.0000,   1.0000,   0.0000,   3.0000,\n",
       "           0.0000,   0.0000],\n",
       "        [130.7920, 204.2860, 184.2010,   0.0000,   2.0000,   0.0000,   4.0000,\n",
       "           0.0000,   0.0000],\n",
       "        [131.2810, 203.8540, 185.5460,   0.0000,   2.0000,   0.0000,   4.0000,\n",
       "           0.0000,   0.0000],\n",
       "        [130.6280, 204.7840, 186.5100,   0.0000,   2.0000,   0.0000,   4.0000,\n",
       "           0.0000,   0.0000],\n",
       "        [125.2780, 205.1910, 182.1160,   1.0000,   1.0000,   0.0000,   4.0000,\n",
       "           0.0000,   0.0000],\n",
       "        [125.0790, 204.5810, 180.8060,   0.0000,   3.0000,   0.0000,   4.0000,\n",
       "           0.0000,   2.0000],\n",
       "        [123.6040, 204.3020, 180.5140,   0.0000,   2.0000,   0.0000,   3.0000,\n",
       "           0.0000,   0.0000],\n",
       "        [123.1330, 204.5130, 179.3950,   2.0000,   1.0000,   0.0000,   3.0000,\n",
       "           0.0000,   0.0000],\n",
       "        [125.8840, 203.2870, 180.6910,   0.0000,   2.0000,   0.0000,   4.0000,\n",
       "           0.0000,   0.0000],\n",
       "        [125.8790, 202.6990, 179.2940,   0.0000,   2.0000,   0.0000,   4.0000,\n",
       "           0.0000,   0.0000],\n",
       "        [126.4710, 203.6730, 178.2850,   0.0000,   2.0000,   0.0000,   4.0000,\n",
       "           0.0000,   0.0000],\n",
       "        [127.9120, 203.8440, 178.4550,   1.0000,   2.0000,   0.0000,   3.0000,\n",
       "           0.0000,   0.0000],\n",
       "        [128.6600, 204.6560, 177.7140,   0.0000,   3.0000,   0.0000,   3.0000,\n",
       "           0.0000,   0.0000],\n",
       "        [129.9630, 204.7470, 177.9350,   1.0000,   1.0000,   0.0000,   3.0000,\n",
       "           0.0000,   0.0000],\n",
       "        [128.1040, 205.3770, 176.7500,   1.0000,   1.0000,   0.0000,   3.0000,\n",
       "           0.0000,   0.0000],\n",
       "        [125.9380, 212.8120, 178.3440,   1.0000,   1.0000,   0.0000,   4.0000,\n",
       "           0.0000,   0.0000],\n",
       "        [125.2880, 211.6790, 177.6940,   0.0000,   3.0000,   0.0000,   4.0000,\n",
       "           0.0000,   2.0000],\n",
       "        [123.7820, 211.7130, 177.9310,   0.0000,   2.0000,   0.0000,   3.0000,\n",
       "           0.0000,   0.0000],\n",
       "        [123.0050, 211.1600, 177.1520,   2.0000,   1.0000,   0.0000,   3.0000,\n",
       "           0.0000,   0.0000],\n",
       "        [125.8720, 210.3610, 178.2050,   0.0000,   2.0000,   0.0000,   4.0000,\n",
       "           0.0000,   0.0000],\n",
       "        [125.1180, 209.1230, 177.7470,   0.0000,   2.0000,   0.0000,   4.0000,\n",
       "           0.0000,   0.0000],\n",
       "        [125.7340, 207.8620, 178.3270,   0.0000,   2.0000,   0.0000,   4.0000,\n",
       "           0.0000,   0.0000],\n",
       "        [127.1700, 207.8050, 178.0780,   1.0000,   2.0000,   0.0000,   3.0000,\n",
       "           0.0000,   0.0000],\n",
       "        [128.0920, 208.2240, 178.9390,   0.0000,   3.0000,   0.0000,   3.0000,\n",
       "           0.0000,   0.0000],\n",
       "        [127.7240, 208.7250, 180.1100,   1.0000,   1.0000,   0.0000,   3.0000,\n",
       "           0.0000,   0.0000],\n",
       "        [129.3780, 208.1410, 178.6320,   1.0000,   1.0000,   0.0000,   3.0000,\n",
       "           0.0000,   0.0000]])"
      ]
     },
     "execution_count": 47,
     "metadata": {},
     "output_type": "execute_result"
    }
   ],
   "source": [
    "proteins[0].x"
   ]
  },
  {
   "cell_type": "code",
   "execution_count": 17,
   "metadata": {},
   "outputs": [],
   "source": [
    "pros = os.scandir(proteins_root)"
   ]
  },
  {
   "cell_type": "code",
   "execution_count": 28,
   "metadata": {},
   "outputs": [
    {
     "data": {
      "image/png": "[encoded data removed]",
      "text/plain": [
       "<rdkit.Chem.rdchem.Mol at 0x7fd48af2c620>"
      ]
     },
     "execution_count": 28,
     "metadata": {},
     "output_type": "execute_result"
    }
   ],
   "source": [
    "pdb = PDB(next(pros).path)\n",
    "pdb.rdkit_mol"
   ]
  },
  {
   "cell_type": "code",
   "execution_count": 38,
   "metadata": {},
   "outputs": [],
   "source": [
    "DrawingOptions.coordScale=1.0"
   ]
  },
  {
   "cell_type": "code",
   "execution_count": 37,
   "metadata": {},
   "outputs": [
    {
     "data": {
      "image/png": "[encoded data removed]",
      "text/plain": [
       "<rdkit.Chem.rdchem.Mol at 0x7fd48af2c620>"
      ]
     },
     "execution_count": 37,
     "metadata": {},
     "output_type": "execute_result"
    }
   ],
   "source": [
    "pdb.rdkit_mol"
   ]
  },
  {
   "cell_type": "code",
   "execution_count": 42,
   "metadata": {},
   "outputs": [],
   "source": [
    "batch = Batch.from_data_list([proteins[0], proteins[1]])"
   ]
  },
  {
   "cell_type": "code",
   "execution_count": 44,
   "metadata": {},
   "outputs": [
    {
     "data": {
      "text/plain": [
       "[Data(edge_index=[2, 90], x=[48, 9]), Data(edge_index=[2, 260], x=[137, 9])]"
      ]
     },
     "execution_count": 44,
     "metadata": {},
     "output_type": "execute_result"
    }
   ],
   "source": [
    "batch.to_data_list()"
   ]
  },
  {
   "cell_type": "code",
   "execution_count": 45,
   "metadata": {},
   "outputs": [
    {
     "data": {
      "text/plain": [
       "Data(edge_index=[2, 90], x=[48, 9])"
      ]
     },
     "execution_count": 45,
     "metadata": {},
     "output_type": "execute_result"
    }
   ],
   "source": [
    "proteins[0]"
   ]
  },
  {
   "cell_type": "code",
   "execution_count": 46,
   "metadata": {},
   "outputs": [
    {
     "data": {
      "text/plain": [
       "Data(edge_index=[2, 260], x=[137, 9])"
      ]
     },
     "execution_count": 46,
     "metadata": {},
     "output_type": "execute_result"
    }
   ],
   "source": [
    "proteins[1]"
   ]
  },
  {
   "cell_type": "code",
   "execution_count": null,
   "metadata": {},
   "outputs": [],
   "source": []
  }
 ],
 "metadata": {
  "kernelspec": {
   "display_name": "Python 3",
   "language": "python",
   "name": "python3"
  },
  "language_info": {
   "codemirror_mode": {
    "name": "ipython",
    "version": 3
   },
   "file_extension": ".py",
   "mimetype": "text/x-python",
   "name": "python",
   "nbconvert_exporter": "python",
   "pygments_lexer": "ipython3",
   "version": "3.7.7"
  }
 },
 "nbformat": 4,
 "nbformat_minor": 4
}

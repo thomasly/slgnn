{
 "cells": [
  {
   "cell_type": "code",
   "execution_count": 14,
   "metadata": {},
   "outputs": [],
   "source": [
    "import os\n",
    "import random\n",
    "import pickle as pk"
   ]
  },
  {
   "cell_type": "code",
   "execution_count": 28,
   "metadata": {},
   "outputs": [],
   "source": [
    "root = r\"D:\\Documents\\repos\\slgnn\\data\\JAK\""
   ]
  },
  {
   "cell_type": "code",
   "execution_count": 21,
   "metadata": {
    "tags": []
   },
   "outputs": [],
   "source": [
    "j1_clu = pk.load(open(r\"D:\\Documents\\repos\\slgnn\\data\\JAK\\filtered_JAK1_clusters.pk\", \"rb\"))\n",
    "samples = list()\n",
    "for group in j1_clu.values():\n",
    "    for cluster in group:\n",
    "        samples.append(random.sample(cluster, 1)[0].__dict__[\"smiles_str\"])\n",
    "with open(os.path.join(root, \"JAK1_sampled_from_clusters.txt\"), \"w\") as f:\n",
    "    f.write(\"\\n\".join(samples))"
   ]
  },
  {
   "cell_type": "code",
   "execution_count": 30,
   "metadata": {},
   "outputs": [],
   "source": [
    "j2_clu = pk.load(open(r\"D:\\Documents\\repos\\slgnn\\data\\JAK\\filtered_JAK2_clusters.pk\", \"rb\"))\n",
    "samples = list()\n",
    "for group in j2_clu.values():\n",
    "    for cluster in group:\n",
    "        samples.append(random.sample(cluster, 1)[0].__dict__[\"smiles_str\"])\n",
    "with open(os.path.join(root, \"JAK2_sampled_from_clusters.txt\"), \"w\") as f:\n",
    "    f.write(\"\\n\".join(samples))"
   ]
  },
  {
   "cell_type": "code",
   "execution_count": 31,
   "metadata": {},
   "outputs": [],
   "source": [
    "j3_clu = pk.load(open(r\"D:\\Documents\\repos\\slgnn\\data\\JAK\\filtered_JAK3_clusters.pk\", \"rb\"))\n",
    "samples = list()\n",
    "for group in j3_clu.values():\n",
    "    for cluster in group:\n",
    "        samples.append(random.sample(cluster, 1)[0].__dict__[\"smiles_str\"])\n",
    "with open(os.path.join(root, \"JAK3_sampled_from_clusters.txt\"), \"w\") as f:\n",
    "    f.write(\"\\n\".join(samples))"
   ]
  },
  {
   "cell_type": "code",
   "execution_count": null,
   "metadata": {},
   "outputs": [],
   "source": []
  }
 ],
 "metadata": {
  "language_info": {
   "codemirror_mode": {
    "name": "ipython",
    "version": 3
   },
   "file_extension": ".py",
   "mimetype": "text/x-python",
   "name": "python",
   "nbconvert_exporter": "python",
   "pygments_lexer": "ipython3",
   "version": 3
  },
  "orig_nbformat": 2,
  "kernelspec": {
   "name": "python_defaultSpec_1593701264244",
   "display_name": "Python 3.6.10 64-bit"
  }
 },
 "nbformat": 4,
 "nbformat_minor": 2
}
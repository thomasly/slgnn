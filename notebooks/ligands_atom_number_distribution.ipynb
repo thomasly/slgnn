{
 "cells": [
  {
   "cell_type": "code",
   "execution_count": 41,
   "metadata": {},
   "outputs": [],
   "source": [
    "import os\n",
    "\n",
    "import matplotlib.pyplot as plt\n",
    "from tqdm.notebook import tqdm\n",
    "from rdkit import Chem\n",
    "from rdkit import RDLogger"
   ]
  },
  {
   "cell_type": "code",
   "execution_count": 42,
   "metadata": {},
   "outputs": [],
   "source": [
    "lg = RDLogger.logger()\n",
    "lg.setLevel(RDLogger.CRITICAL)"
   ]
  },
  {
   "cell_type": "code",
   "execution_count": 3,
   "metadata": {},
   "outputs": [],
   "source": [
    "data_path = os.path.join(\"..\", \"data\", \"ligand\")"
   ]
  },
  {
   "cell_type": "code",
   "execution_count": 16,
   "metadata": {},
   "outputs": [
    {
     "data": {
      "application/vnd.jupyter.widget-view+json": {
       "model_id": "bbcdce421a0d44ac92cf0a1ad9886bd0",
       "version_major": 2,
       "version_minor": 0
      },
      "text/plain": [
       "HBox(children=(HTML(value='Scanning'), FloatProgress(value=0.0, max=236583.0), HTML(value='')))"
      ]
     },
     "metadata": {},
     "output_type": "display_data"
    },
    {
     "name": "stdout",
     "output_type": "stream",
     "text": [
      "\n"
     ]
    }
   ],
   "source": [
    "distribution = [0] * 10\n",
    "largest = 0\n",
    "for pdbf in tqdm(list(os.scandir(data_path)), desc=\"Scanning\"):\n",
    "    if not pdbf.name.endswith(\".pdb\"):\n",
    "        continue\n",
    "    with open(pdbf.path, \"r\") as inf:\n",
    "        counter = 0\n",
    "        lines = inf.readlines()\n",
    "        for line in lines:\n",
    "            if \"HETATM\" in line:\n",
    "                counter += 1\n",
    "    if counter == 1:\n",
    "        distribution[0] += 1\n",
    "    elif counter == 2:\n",
    "        distribution[1] += 1\n",
    "    elif counter == 3:\n",
    "        distribution[2] += 1\n",
    "    elif counter == 4:\n",
    "        distribution[3] += 1\n",
    "    elif counter == 5:\n",
    "        distribution[4] += 1\n",
    "    elif 5 < counter < 25:\n",
    "        distribution[5] += 1\n",
    "    elif 25 <= counter < 50:\n",
    "        distribution[6] += 1\n",
    "    elif 50 <= counter < 150:\n",
    "        distribution[7] += 1\n",
    "    elif 150 <= counter <= 300:\n",
    "        distribution[8] += 1\n",
    "    else:\n",
    "        distribution[9] += 1\n",
    "        \n",
    "    if counter > largest:\n",
    "        largest = counter"
   ]
  },
  {
   "cell_type": "code",
   "execution_count": 27,
   "metadata": {},
   "outputs": [
    {
     "data": {
      "image/png": "[encoded data removed]",
      "text/plain": [
       "<Figure size 720x360 with 1 Axes>"
      ]
     },
     "metadata": {
      "needs_background": "light"
     },
     "output_type": "display_data"
    }
   ],
   "source": [
    "plt.subplots(1, 1, figsize=(10, 5))\n",
    "_ = plt.bar([\"1\", \"2\", \"3\", \"4\", \"5\", \"5-24\", \"25-49\", \"50-149\", \"150-300\", \"300+\"], distribution)\n",
    "plt.xlabel(\"# atoms\")\n",
    "plt.ylabel(\"Counts\")\n",
    "plt.savefig(\"ligand_distribution.png\", dpi=150)"
   ]
  },
  {
   "cell_type": "code",
   "execution_count": 18,
   "metadata": {},
   "outputs": [
    {
     "data": {
      "text/plain": [
       "[75271, 806, 755, 2727, 2446, 55350, 59150, 27977, 5257, 6844]"
      ]
     },
     "execution_count": 18,
     "metadata": {},
     "output_type": "execute_result"
    }
   ],
   "source": [
    "distribution"
   ]
  },
  {
   "cell_type": "code",
   "execution_count": 19,
   "metadata": {},
   "outputs": [
    {
     "data": {
      "text/plain": [
       "86569"
      ]
     },
     "execution_count": 19,
     "metadata": {},
     "output_type": "execute_result"
    }
   ],
   "source": [
    "largest"
   ]
  },
  {
   "cell_type": "code",
   "execution_count": 43,
   "metadata": {},
   "outputs": [
    {
     "data": {
      "application/vnd.jupyter.widget-view+json": {
       "model_id": "8a0b4e619ba4466296edeef1d36968f8",
       "version_major": 2,
       "version_minor": 0
      },
      "text/plain": [
       "HBox(children=(HTML(value='Scanning'), FloatProgress(value=0.0, max=236583.0), HTML(value='')))"
      ]
     },
     "metadata": {},
     "output_type": "display_data"
    },
    {
     "name": "stdout",
     "output_type": "stream",
     "text": [
      "\n"
     ]
    }
   ],
   "source": [
    "ghose_distribution = [0] * 3\n",
    "for pdbf in tqdm(list(os.scandir(data_path)), desc=\"Scanning\"):\n",
    "    if not pdbf.name.endswith(\".pdb\"):\n",
    "        continue\n",
    "    with open(pdbf.path, \"r\") as inf:\n",
    "        counter = 0\n",
    "        lines = inf.readlines()\n",
    "        for line in lines:\n",
    "            if \"HETATM\" in line:\n",
    "                counter += 1\n",
    "    if counter < 4 or counter > 300:\n",
    "        continue\n",
    "    elif Chem.MolFromPDBFile(pdbf.path) is None:\n",
    "        continue\n",
    "    elif 4 <= counter < 20:\n",
    "        ghose_distribution[0] += 1\n",
    "    elif 20 <= counter <= 70:\n",
    "        ghose_distribution[1] += 1\n",
    "    else:\n",
    "        ghose_distribution[2] += 1"
   ]
  },
  {
   "cell_type": "code",
   "execution_count": 44,
   "metadata": {},
   "outputs": [
    {
     "data": {
      "image/png": "[encoded data removed]",
      "text/plain": [
       "<Figure size 432x288 with 1 Axes>"
      ]
     },
     "metadata": {
      "needs_background": "light"
     },
     "output_type": "display_data"
    }
   ],
   "source": [
    "plt.subplots(1, 1)\n",
    "_ = plt.bar([\"4-19\", \"20-70\", \"70-300\"], ghose_distribution)\n",
    "plt.xlabel(\"# atoms\")\n",
    "plt.ylabel(\"Counts\")\n",
    "plt.savefig(\"ghose_filtered_ligand_distribution.png\", dpi=150)"
   ]
  },
  {
   "cell_type": "code",
   "execution_count": 46,
   "metadata": {},
   "outputs": [
    {
     "data": {
      "text/plain": [
       "[45248, 79769, 13863]"
      ]
     },
     "execution_count": 46,
     "metadata": {},
     "output_type": "execute_result"
    }
   ],
   "source": [
    "ghose_distribution"
   ]
  },
  {
   "cell_type": "code",
   "execution_count": null,
   "metadata": {},
   "outputs": [],
   "source": []
  }
 ],
 "metadata": {
  "kernelspec": {
   "display_name": "Python 3",
   "language": "python",
   "name": "python3"
  },
  "language_info": {
   "codemirror_mode": {
    "name": "ipython",
    "version": 3
   },
   "file_extension": ".py",
   "mimetype": "text/x-python",
   "name": "python",
   "nbconvert_exporter": "python",
   "pygments_lexer": "ipython3",
   "version": "3.7.7"
  }
 },
 "nbformat": 4,
 "nbformat_minor": 4
}

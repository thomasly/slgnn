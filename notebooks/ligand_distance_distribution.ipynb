{
 "cells": [
  {
   "cell_type": "code",
   "execution_count": 22,
   "metadata": {},
   "outputs": [],
   "source": [
    "from collections import defaultdict\n",
    "\n",
    "import torch\n",
    "import seaborn as sns\n",
    "import numpy as np\n",
    "import numpy.ma as ma\n",
    "import matplotlib\n",
    "import matplotlib.pyplot as plt"
   ]
  },
  {
   "cell_type": "code",
   "execution_count": 2,
   "metadata": {},
   "outputs": [],
   "source": [
    "plt.ioff()"
   ]
  },
  {
   "cell_type": "code",
   "execution_count": 3,
   "metadata": {},
   "outputs": [],
   "source": [
    "dataset = torch.load(\"../data/pfam/graphs/data.pt\")"
   ]
  },
  {
   "cell_type": "code",
   "execution_count": 4,
   "metadata": {},
   "outputs": [],
   "source": [
    "distances = ma.array(dataset[0].y.view(-1,).numpy())"
   ]
  },
  {
   "cell_type": "code",
   "execution_count": 5,
   "metadata": {},
   "outputs": [],
   "source": [
    "distances.mask = dataset[0].y.view(-1,).numpy() == -1"
   ]
  },
  {
   "cell_type": "code",
   "execution_count": 26,
   "metadata": {},
   "outputs": [
    {
     "name": "stderr",
     "output_type": "stream",
     "text": [
      "/raid/home/yangliu/miniconda3/envs/py37/lib/python3.7/site-packages/ipykernel_launcher.py:3: UserWarning: Warning: converting a masked element to nan.\n",
      "  This is separate from the ipykernel package so we can avoid doing imports until\n"
     ]
    }
   ],
   "source": [
    "bins = defaultdict(lambda: 0)\n",
    "for val in distances:\n",
    "    if not float(val) is np.nan:\n",
    "        bins[round(val)] += 1"
   ]
  },
  {
   "cell_type": "code",
   "execution_count": 27,
   "metadata": {},
   "outputs": [
    {
     "data": {
      "text/plain": [
       "defaultdict(<function __main__.<lambda>()>,\n",
       "            {0: 2646710,\n",
       "             13: 2424424,\n",
       "             9: 6510820,\n",
       "             7: 9170450,\n",
       "             11: 4303804,\n",
       "             10: 5329062,\n",
       "             4: 10362584,\n",
       "             8: 7857388,\n",
       "             2: 7647782,\n",
       "             3: 7795796,\n",
       "             12: 3214200,\n",
       "             1: 3758322,\n",
       "             6: 9856950,\n",
       "             5: 10536230,\n",
       "             14: 1823758,\n",
       "             16: 1069546,\n",
       "             15: 1394574,\n",
       "             18: 559230,\n",
       "             17: 792704,\n",
       "             20: 293918,\n",
       "             19: 400754,\n",
       "             21: 211046,\n",
       "             22: 142986,\n",
       "             23: 95434,\n",
       "             25: 42702,\n",
       "             24: 62700,\n",
       "             26: 28508,\n",
       "             27: 18872,\n",
       "             32: 3658,\n",
       "             30: 6698,\n",
       "             35: 1696,\n",
       "             36: 854,\n",
       "             34: 2452,\n",
       "             28: 12644,\n",
       "             29: 8752,\n",
       "             33: 2860,\n",
       "             31: 4714,\n",
       "             37: 346,\n",
       "             38: 256,\n",
       "             41: 124,\n",
       "             39: 192,\n",
       "             40: 154,\n",
       "             51: 272,\n",
       "             50: 184,\n",
       "             44: 72,\n",
       "             47: 122,\n",
       "             45: 104,\n",
       "             48: 152,\n",
       "             49: 146,\n",
       "             52: 206,\n",
       "             46: 142,\n",
       "             53: 172,\n",
       "             59: 64,\n",
       "             60: 52,\n",
       "             57: 112,\n",
       "             55: 118,\n",
       "             54: 130,\n",
       "             58: 68,\n",
       "             56: 118,\n",
       "             43: 98,\n",
       "             42: 92,\n",
       "             64: 46,\n",
       "             67: 34,\n",
       "             70: 28,\n",
       "             74: 30,\n",
       "             77: 38,\n",
       "             79: 26,\n",
       "             81: 16,\n",
       "             83: 16,\n",
       "             85: 22,\n",
       "             86: 16,\n",
       "             90: 16,\n",
       "             88: 10,\n",
       "             84: 20,\n",
       "             73: 20,\n",
       "             68: 32,\n",
       "             66: 40,\n",
       "             61: 36,\n",
       "             62: 46,\n",
       "             65: 38,\n",
       "             69: 34,\n",
       "             72: 34,\n",
       "             82: 26,\n",
       "             87: 18,\n",
       "             92: 22,\n",
       "             89: 16,\n",
       "             78: 24,\n",
       "             75: 30,\n",
       "             71: 32,\n",
       "             80: 24,\n",
       "             91: 18,\n",
       "             76: 26,\n",
       "             63: 42,\n",
       "             93: 18,\n",
       "             94: 12,\n",
       "             96: 14,\n",
       "             97: 18,\n",
       "             95: 24,\n",
       "             99: 20,\n",
       "             101: 18,\n",
       "             98: 14,\n",
       "             102: 16,\n",
       "             103: 6,\n",
       "             100: 12,\n",
       "             104: 14,\n",
       "             105: 6,\n",
       "             108: 6,\n",
       "             106: 2,\n",
       "             109: 4,\n",
       "             107: 4})"
      ]
     },
     "execution_count": 27,
     "metadata": {},
     "output_type": "execute_result"
    }
   ],
   "source": [
    "bins"
   ]
  },
  {
   "cell_type": "code",
   "execution_count": 37,
   "metadata": {},
   "outputs": [],
   "source": [
    "bin_list = [0] * (max(bins.keys()) + 1)"
   ]
  },
  {
   "cell_type": "code",
   "execution_count": 39,
   "metadata": {},
   "outputs": [],
   "source": [
    "for k, v in bins.items():\n",
    "    bin_list[k] = v"
   ]
  },
  {
   "cell_type": "code",
   "execution_count": 67,
   "metadata": {},
   "outputs": [
    {
     "data": {
      "image/png": "[encoded data removed]",
      "text/plain": [
       "<Figure size 1440x720 with 1 Axes>"
      ]
     },
     "metadata": {
      "needs_background": "light"
     },
     "output_type": "display_data"
    }
   ],
   "source": [
    "plt.figure(figsize=(20,10))\n",
    "plt.bar(list(range(len(bin_list))),list(map(lambda x: round(x/1000), bin_list)), width=1, linewidth=1, edgecolor=\"black\")\n",
    "plt.xlim([-1, 40])\n",
    "plt.xlabel(\"Distance (Å)\")\n",
    "plt.ylabel(\"Count (K)\")\n",
    "plt.show()"
   ]
  },
  {
   "cell_type": "code",
   "execution_count": 6,
   "metadata": {},
   "outputs": [
    {
     "data": {
      "text/plain": [
       "[(0.0, 40.0)]"
      ]
     },
     "execution_count": 6,
     "metadata": {},
     "output_type": "execute_result"
    }
   ],
   "source": [
    "ax = sns.histplot(data=distances, bins=64)\n",
    "ax.set(xlim=(0, 40))"
   ]
  },
  {
   "cell_type": "code",
   "execution_count": 10,
   "metadata": {},
   "outputs": [
    {
     "data": {
      "text/plain": [
       "[(0.0, 10000.0)]"
      ]
     },
     "execution_count": 10,
     "metadata": {},
     "output_type": "execute_result"
    }
   ],
   "source": [
    "ax.set(ylim=(0, 10000))"
   ]
  },
  {
   "cell_type": "code",
   "execution_count": 13,
   "metadata": {},
   "outputs": [],
   "source": [
    "plt.draw()"
   ]
  },
  {
   "cell_type": "code",
   "execution_count": 68,
   "metadata": {},
   "outputs": [
    {
     "data": {
      "text/plain": [
       "110"
      ]
     },
     "execution_count": 68,
     "metadata": {},
     "output_type": "execute_result"
    }
   ],
   "source": [
    "len(bin_list)"
   ]
  },
  {
   "cell_type": "code",
   "execution_count": null,
   "metadata": {},
   "outputs": [],
   "source": []
  }
 ],
 "metadata": {
  "kernelspec": {
   "display_name": "Python 3",
   "language": "python",
   "name": "python3"
  },
  "language_info": {
   "codemirror_mode": {
    "name": "ipython",
    "version": 3
   },
   "file_extension": ".py",
   "mimetype": "text/x-python",
   "name": "python",
   "nbconvert_exporter": "python",
   "pygments_lexer": "ipython3",
   "version": "3.7.7"
  }
 },
 "nbformat": 4,
 "nbformat_minor": 4
}

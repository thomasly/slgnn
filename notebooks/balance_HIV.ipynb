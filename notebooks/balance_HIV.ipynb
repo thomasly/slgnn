{
 "cells": [
  {
   "cell_type": "code",
   "execution_count": 4,
   "metadata": {},
   "outputs": [],
   "source": [
    "import pandas as pd\n",
    "from collections import Counter"
   ]
  },
  {
   "cell_type": "code",
   "execution_count": 7,
   "metadata": {},
   "outputs": [
    {
     "output_type": "execute_result",
     "data": {
      "text/plain": "                                              smiles activity  HIV_active\n0  CCC1=[O+][Cu-3]2([O+]=C(CC)C1)[O+]=C(CC)CC(CC)...       CI           0\n1  C(=Cc1ccccc1)C1=[O+][Cu-3]2([O+]=C(C=Cc3ccccc3...       CI           0\n2                   CC(=O)N1c2ccccc2Sc2c1ccc1ccccc21       CI           0\n3    Nc1ccc(C=Cc2ccc(N)cc2S(=O)(=O)O)c(S(=O)(=O)O)c1       CI           0\n4                             O=S(=O)(O)CCS(=O)(=O)O       CI           0",
      "text/html": "<div>\n<style scoped>\n    .dataframe tbody tr th:only-of-type {\n        vertical-align: middle;\n    }\n\n    .dataframe tbody tr th {\n        vertical-align: top;\n    }\n\n    .dataframe thead th {\n        text-align: right;\n    }\n</style>\n<table border=\"1\" class=\"dataframe\">\n  <thead>\n    <tr style=\"text-align: right;\">\n      <th></th>\n      <th>smiles</th>\n      <th>activity</th>\n      <th>HIV_active</th>\n    </tr>\n  </thead>\n  <tbody>\n    <tr>\n      <th>0</th>\n      <td>CCC1=[O+][Cu-3]2([O+]=C(CC)C1)[O+]=C(CC)CC(CC)...</td>\n      <td>CI</td>\n      <td>0</td>\n    </tr>\n    <tr>\n      <th>1</th>\n      <td>C(=Cc1ccccc1)C1=[O+][Cu-3]2([O+]=C(C=Cc3ccccc3...</td>\n      <td>CI</td>\n      <td>0</td>\n    </tr>\n    <tr>\n      <th>2</th>\n      <td>CC(=O)N1c2ccccc2Sc2c1ccc1ccccc21</td>\n      <td>CI</td>\n      <td>0</td>\n    </tr>\n    <tr>\n      <th>3</th>\n      <td>Nc1ccc(C=Cc2ccc(N)cc2S(=O)(=O)O)c(S(=O)(=O)O)c1</td>\n      <td>CI</td>\n      <td>0</td>\n    </tr>\n    <tr>\n      <th>4</th>\n      <td>O=S(=O)(O)CCS(=O)(=O)O</td>\n      <td>CI</td>\n      <td>0</td>\n    </tr>\n  </tbody>\n</table>\n</div>"
     },
     "metadata": {},
     "execution_count": 7
    }
   ],
   "source": [
    "df = pd.read_csv(\"../data/DeepChem/HIV/raw/hiv.csv\")\n",
    "df.head()"
   ]
  },
  {
   "cell_type": "code",
   "execution_count": 10,
   "metadata": {},
   "outputs": [
    {
     "output_type": "stream",
     "name": "stdout",
     "text": "Counter({0: 39684, 1: 1443})\n"
    }
   ],
   "source": [
    "c_ori = Counter(df[\"HIV_active\"])\n",
    "print(c_ori)"
   ]
  },
  {
   "cell_type": "code",
   "execution_count": 12,
   "metadata": {},
   "outputs": [],
   "source": [
    "bal_df = df.loc[df[\"HIV_active\"]==1]\n",
    "bal_df = bal_df.append(df.loc[df[\"HIV_active\"]==0].sample(c_ori[1]*2))\n",
    "bal_df.sort_index(inplace=True)"
   ]
  },
  {
   "cell_type": "code",
   "execution_count": 14,
   "metadata": {},
   "outputs": [
    {
     "output_type": "execute_result",
     "data": {
      "text/plain": "0    2886\n1    1443\nName: HIV_active, dtype: int64"
     },
     "metadata": {},
     "execution_count": 14
    }
   ],
   "source": [
    "bal_df[\"HIV_active\"].value_counts()"
   ]
  },
  {
   "cell_type": "code",
   "execution_count": 15,
   "metadata": {},
   "outputs": [],
   "source": [
    "import os\n",
    "os.makedirs(\"../data/DeepChem/HIVBalanced/raw\")"
   ]
  },
  {
   "cell_type": "code",
   "execution_count": 16,
   "metadata": {},
   "outputs": [],
   "source": [
    "bal_df.to_csv(\"../data/DeepChem/HIVBalanced/raw/hiv_balanced.csv\")"
   ]
  },
  {
   "cell_type": "code",
   "execution_count": null,
   "metadata": {},
   "outputs": [],
   "source": []
  }
 ],
 "metadata": {
  "language_info": {
   "codemirror_mode": {
    "name": "ipython",
    "version": 3
   },
   "file_extension": ".py",
   "mimetype": "text/x-python",
   "name": "python",
   "nbconvert_exporter": "python",
   "pygments_lexer": "ipython3",
   "version": "3.6.10-final"
  },
  "orig_nbformat": 2,
  "kernelspec": {
   "name": "python361064bitpytorchconda8caf37ff959b48d19abf0e5dbf63b277",
   "display_name": "Python 3.6.10 64-bit ('pytorch': conda)"
  }
 },
 "nbformat": 4,
 "nbformat_minor": 2
}
{
 "cells": [
  {
   "cell_type": "code",
   "execution_count": 1,
   "metadata": {},
   "outputs": [],
   "source": [
    "import os\n",
    "from shutil import copy2\n",
    "from tqdm import tqdm"
   ]
  },
  {
   "cell_type": "code",
   "execution_count": 2,
   "metadata": {},
   "outputs": [],
   "source": [
    "root = os.path.join(\"..\", \"data\", \"JAK\", \"graphs\")\n",
    "filenames = []\n",
    "for i in [1, 2, 3]:\n",
    "    filenames.append(f\"JAK{i}_train\")\n",
    "    filenames.append(f\"JAK{i}_test\")\n",
    "    filenames.append(f\"JAK{i}\")"
   ]
  },
  {
   "cell_type": "code",
   "execution_count": 3,
   "metadata": {},
   "outputs": [
    {
     "output_type": "execute_result",
     "data": {
      "text/plain": "['JAK1_train',\n 'JAK1_test',\n 'JAK1',\n 'JAK2_train',\n 'JAK2_test',\n 'JAK2',\n 'JAK3_train',\n 'JAK3_test',\n 'JAK3']"
     },
     "metadata": {},
     "execution_count": 3
    }
   ],
   "source": [
    "filenames"
   ]
  },
  {
   "cell_type": "code",
   "execution_count": 4,
   "metadata": {},
   "outputs": [],
   "source": [
    "for fn in filenames:\n",
    "    labelfile = fn+\"_graph_labels.txt\"\n",
    "    copy2(os.path.join(root, fn, \"raw\", labelfile), os.path.join(root, fn, labelfile))"
   ]
  },
  {
   "cell_type": "code",
   "execution_count": 5,
   "metadata": {},
   "outputs": [
    {
     "output_type": "stream",
     "name": "stderr",
     "text": "0%|          | 0/9 [00:00<?, ?it/s]\n100%|██████████| 3313/3313 [00:00<00:00, 662553.24it/s]\n\n100%|██████████| 390/390 [00:00<?, ?it/s]\n\n100%|██████████| 3717/3717 [00:00<00:00, 530875.74it/s]\n\n100%|██████████| 5201/5201 [00:00<00:00, 577808.31it/s]\n\n100%|██████████| 636/636 [00:00<00:00, 636046.10it/s]\n\n100%|██████████| 5853/5853 [00:00<00:00, 487640.02it/s]\n\n100%|██████████| 3149/3149 [00:00<00:00, 629575.45it/s]\n\n100%|██████████| 350/350 [00:00<00:00, 349858.53it/s]\n 89%|████████▉ | 8/9 [00:00<00:00, 79.19it/s]\n100%|██████████| 3520/3520 [00:00<00:00, 586382.96it/s]\n100%|██████████| 9/9 [00:00<00:00, 76.25it/s]\n"
    }
   ],
   "source": [
    "for fn in tqdm(filenames):\n",
    "    labelfile = fn+\"_graph_labels.txt\"\n",
    "    inf = open(os.path.join(root, fn, labelfile), \"r\")\n",
    "    outf = open(os.path.join(root, fn, \"raw\", labelfile), \"w\")\n",
    "    for line in tqdm(inf.readlines()):\n",
    "        if int(line) == -1:\n",
    "            outf.write(\"0\\n\")\n",
    "        else:\n",
    "            outf.write(line)\n",
    "    inf.close()\n",
    "    outf.close()"
   ]
  },
  {
   "cell_type": "code",
   "execution_count": null,
   "metadata": {},
   "outputs": [],
   "source": []
  }
 ],
 "metadata": {
  "language_info": {
   "codemirror_mode": {
    "name": "ipython",
    "version": 3
   },
   "file_extension": ".py",
   "mimetype": "text/x-python",
   "name": "python",
   "nbconvert_exporter": "python",
   "pygments_lexer": "ipython3",
   "version": "3.6.10-final"
  },
  "orig_nbformat": 2,
  "kernelspec": {
   "name": "python361064bitpytorchconda8caf37ff959b48d19abf0e5dbf63b277",
   "display_name": "Python 3.6.10 64-bit ('pytorch': conda)"
  }
 },
 "nbformat": 4,
 "nbformat_minor": 2
}
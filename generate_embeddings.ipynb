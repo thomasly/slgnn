{
 "cells": [
  {
   "cell_type": "code",
   "execution_count": 36,
   "source": [
    "import pandas as pd\n",
    "import numpy as np\n",
    "import torch\n",
    "from torch_geometric.data import DataLoader\n",
    "from torch_geometric.nn import global_mean_pool\n",
    "from rdkit.Chem import AllChem\n",
    "\n",
    "from contextSub.model import GNN\n",
    "from contextSub.loader import MoleculeDataset\n",
    "from contextSub.splitters import scaffold_split, scaffold_split_from_smiles\n",
    "from contextSub.dataloader import DataLoaderPooling\n"
   ],
   "outputs": [],
   "metadata": {}
  },
  {
   "cell_type": "code",
   "execution_count": 2,
   "source": [
    "contextpred_model = GNN(\n",
    "    num_layer=5,\n",
    "    emb_dim=300,\n",
    "    JK=\"last\",\n",
    "    drop_ratio=0.4,\n",
    "    gnn_type=\"gin\",\n",
    "    partial_charge=False,\n",
    "    input_mlp=False,\n",
    ")"
   ],
   "outputs": [],
   "metadata": {}
  },
  {
   "cell_type": "code",
   "execution_count": 3,
   "source": [
    "contextpred_model.load_state_dict(torch.load(\"contextSub/trained_models/finetuned/contextPred/gnn.pth\"))"
   ],
   "outputs": [
    {
     "output_type": "execute_result",
     "data": {
      "text/plain": [
       "<All keys matched successfully>"
      ]
     },
     "metadata": {},
     "execution_count": 3
    }
   ],
   "metadata": {}
  },
  {
   "cell_type": "code",
   "execution_count": 4,
   "source": [
    "dataset = MoleculeDataset(\n",
    "    root=\"contextSub/dataset/lightbbb\",\n",
    "    dataset=\"lightbbb\",\n",
    "    partial_charge=False,\n",
    "    substruct_input=False,\n",
    "    pattern_path=None,\n",
    "    context=False,\n",
    "    hops=None,\n",
    "    pooling_indicator=False\n",
    ")"
   ],
   "outputs": [],
   "metadata": {}
  },
  {
   "cell_type": "code",
   "execution_count": 5,
   "source": [
    "smiles_list = pd.read_csv(\n",
    "    \"contextSub/dataset/lightbbb/processed/smiles.csv\",\n",
    "    header=None,\n",
    ")[0].tolist()\n",
    "train_dataset, valid_dataset, test_dataset = scaffold_split(\n",
    "    dataset,\n",
    "    smiles_list,\n",
    "    null_value=0,\n",
    "    frac_train=0.8,\n",
    "    frac_valid=0.1,\n",
    "    frac_test=0.1,\n",
    ")"
   ],
   "outputs": [],
   "metadata": {}
  },
  {
   "cell_type": "code",
   "execution_count": 43,
   "source": [
    "batch_size = 32\n",
    "num_workers = 4\n",
    "train_loader = DataLoader(\n",
    "        train_dataset,\n",
    "        batch_size=batch_size,\n",
    "        shuffle=False,\n",
    "        num_workers=num_workers,\n",
    "    )\n",
    "val_loader = DataLoader(\n",
    "    valid_dataset,\n",
    "    batch_size=batch_size,\n",
    "    shuffle=False,\n",
    "    num_workers=num_workers,\n",
    ")\n",
    "test_loader = DataLoader(\n",
    "    test_dataset,\n",
    "    batch_size=batch_size,\n",
    "    shuffle=False,\n",
    "    num_workers=num_workers,\n",
    ")"
   ],
   "outputs": [],
   "metadata": {}
  },
  {
   "cell_type": "code",
   "execution_count": 44,
   "source": [
    "labels = []\n",
    "contextpred_model.eval()\n",
    "graph_embs = []\n",
    "with torch.no_grad():\n",
    "    for batch in train_loader:\n",
    "        node_embs = contextpred_model(batch)\n",
    "        graph_embs.append(global_mean_pool(node_embs, batch.batch))\n",
    "        labels.append(batch.y)"
   ],
   "outputs": [],
   "metadata": {}
  },
  {
   "cell_type": "code",
   "execution_count": 45,
   "source": [
    "graph_embs = torch.cat(graph_embs, axis=0)"
   ],
   "outputs": [],
   "metadata": {}
  },
  {
   "cell_type": "code",
   "execution_count": 46,
   "source": [
    "train_graph_embs = graph_embs.numpy()"
   ],
   "outputs": [],
   "metadata": {}
  },
  {
   "cell_type": "code",
   "execution_count": 47,
   "source": [
    "val_graph_embs = []\n",
    "with torch.no_grad():\n",
    "    for batch in val_loader:\n",
    "        node_embs = contextpred_model(batch)\n",
    "        val_graph_embs.append(global_mean_pool(node_embs, batch.batch))\n",
    "        labels.append(batch.y)\n",
    "val_graph_embs = torch.cat(val_graph_embs, axis=0).numpy()"
   ],
   "outputs": [],
   "metadata": {}
  },
  {
   "cell_type": "code",
   "execution_count": 48,
   "source": [
    "test_graph_embs = []\n",
    "with torch.no_grad():\n",
    "    for batch in test_loader:\n",
    "        node_embs = contextpred_model(batch)\n",
    "        test_graph_embs.append(global_mean_pool(node_embs, batch.batch))\n",
    "        labels.append(batch.y)\n",
    "test_graph_embs = torch.cat(test_graph_embs, axis=0).numpy()"
   ],
   "outputs": [],
   "metadata": {}
  },
  {
   "cell_type": "code",
   "execution_count": 49,
   "source": [
    "val_graph_embs.shape"
   ],
   "outputs": [
    {
     "output_type": "execute_result",
     "data": {
      "text/plain": [
       "(714, 300)"
      ]
     },
     "metadata": {},
     "execution_count": 49
    }
   ],
   "metadata": {}
  },
  {
   "cell_type": "code",
   "execution_count": 50,
   "source": [
    "test_graph_embs.shape"
   ],
   "outputs": [
    {
     "output_type": "execute_result",
     "data": {
      "text/plain": [
       "(715, 300)"
      ]
     },
     "metadata": {},
     "execution_count": 50
    }
   ],
   "metadata": {}
  },
  {
   "cell_type": "code",
   "execution_count": 51,
   "source": [
    "train_graph_embs.shape"
   ],
   "outputs": [
    {
     "output_type": "execute_result",
     "data": {
      "text/plain": [
       "(5712, 300)"
      ]
     },
     "metadata": {},
     "execution_count": 51
    }
   ],
   "metadata": {}
  },
  {
   "cell_type": "code",
   "execution_count": 52,
   "source": [
    "embeddings = []\n",
    "for emb in np.concatenate([train_graph_embs, val_graph_embs, test_graph_embs], axis=0):\n",
    "    embeddings.append(\",\".join(map(str, emb)))"
   ],
   "outputs": [],
   "metadata": {}
  },
  {
   "cell_type": "code",
   "execution_count": 53,
   "source": [
    "df = pd.DataFrame()\n",
    "df[\"embeddings\"] = embeddings\n",
    "df[\"split\"] = [\"train\"] * train_graph_embs.shape[0] + [\"validation\"] * val_graph_embs.shape[0] + [\"test\"] * test_graph_embs.shape[0]"
   ],
   "outputs": [],
   "metadata": {}
  },
  {
   "cell_type": "code",
   "execution_count": 56,
   "source": [
    "df.head()"
   ],
   "outputs": [
    {
     "output_type": "execute_result",
     "data": {
      "text/plain": [
       "                                          embeddings  split\n",
       "0  -0.24097337,0.13866656,-0.020489423,0.5635318,...  train\n",
       "1  -0.12967293,-0.042312548,0.055031244,0.2166339...  train\n",
       "2  -0.24756524,0.084039055,-0.06386699,0.25360867...  train\n",
       "3  -0.10989679,-0.029275743,0.10355943,0.36867473...  train\n",
       "4  -0.08101643,-0.018708985,-2.1436466e-05,0.2513...  train"
      ],
      "text/html": [
       "<div>\n",
       "<style scoped>\n",
       "    .dataframe tbody tr th:only-of-type {\n",
       "        vertical-align: middle;\n",
       "    }\n",
       "\n",
       "    .dataframe tbody tr th {\n",
       "        vertical-align: top;\n",
       "    }\n",
       "\n",
       "    .dataframe thead th {\n",
       "        text-align: right;\n",
       "    }\n",
       "</style>\n",
       "<table border=\"1\" class=\"dataframe\">\n",
       "  <thead>\n",
       "    <tr style=\"text-align: right;\">\n",
       "      <th></th>\n",
       "      <th>embeddings</th>\n",
       "      <th>split</th>\n",
       "    </tr>\n",
       "  </thead>\n",
       "  <tbody>\n",
       "    <tr>\n",
       "      <th>0</th>\n",
       "      <td>-0.24097337,0.13866656,-0.020489423,0.5635318,...</td>\n",
       "      <td>train</td>\n",
       "    </tr>\n",
       "    <tr>\n",
       "      <th>1</th>\n",
       "      <td>-0.12967293,-0.042312548,0.055031244,0.2166339...</td>\n",
       "      <td>train</td>\n",
       "    </tr>\n",
       "    <tr>\n",
       "      <th>2</th>\n",
       "      <td>-0.24756524,0.084039055,-0.06386699,0.25360867...</td>\n",
       "      <td>train</td>\n",
       "    </tr>\n",
       "    <tr>\n",
       "      <th>3</th>\n",
       "      <td>-0.10989679,-0.029275743,0.10355943,0.36867473...</td>\n",
       "      <td>train</td>\n",
       "    </tr>\n",
       "    <tr>\n",
       "      <th>4</th>\n",
       "      <td>-0.08101643,-0.018708985,-2.1436466e-05,0.2513...</td>\n",
       "      <td>train</td>\n",
       "    </tr>\n",
       "  </tbody>\n",
       "</table>\n",
       "</div>"
      ]
     },
     "metadata": {},
     "execution_count": 56
    }
   ],
   "metadata": {}
  },
  {
   "cell_type": "code",
   "execution_count": 58,
   "source": [
    "labels = torch.cat(labels, axis=0)"
   ],
   "outputs": [],
   "metadata": {}
  },
  {
   "cell_type": "code",
   "execution_count": 60,
   "source": [
    "labels.size()"
   ],
   "outputs": [
    {
     "output_type": "execute_result",
     "data": {
      "text/plain": [
       "torch.Size([7141])"
      ]
     },
     "metadata": {},
     "execution_count": 60
    }
   ],
   "metadata": {}
  },
  {
   "cell_type": "code",
   "execution_count": 66,
   "source": [
    "labels[-10:]"
   ],
   "outputs": [
    {
     "output_type": "execute_result",
     "data": {
      "text/plain": [
       "tensor([-1,  1,  1,  1,  1,  1,  1, -1,  1, -1])"
      ]
     },
     "metadata": {},
     "execution_count": 66
    }
   ],
   "metadata": {}
  },
  {
   "cell_type": "code",
   "execution_count": 61,
   "source": [
    "df[\"labels\"] = labels.numpy()"
   ],
   "outputs": [],
   "metadata": {}
  },
  {
   "cell_type": "code",
   "execution_count": 68,
   "source": [
    "df.to_csv(\"contextSub/dataset/lightbbb_contextpred_embeddings.csv\")"
   ],
   "outputs": [],
   "metadata": {}
  },
  {
   "cell_type": "code",
   "execution_count": 2,
   "source": [
    "contextsub_model = GNN(\n",
    "    num_layer=5,\n",
    "    emb_dim=300,\n",
    "    JK=\"last\",\n",
    "    drop_ratio=0.4,\n",
    "    gnn_type=\"gin\",\n",
    "    partial_charge=True,\n",
    ")\n",
    "contextsub_model.load_state_dict(torch.load(\"contextSub/trained_models/contextSub_chembl_partialCharge_noNorm_filteredPattern_epoch300.pth\"))"
   ],
   "outputs": [
    {
     "output_type": "execute_result",
     "data": {
      "text/plain": [
       "<All keys matched successfully>"
      ]
     },
     "metadata": {},
     "execution_count": 2
    }
   ],
   "metadata": {}
  },
  {
   "cell_type": "code",
   "execution_count": 3,
   "source": [
    "def separate_indicators(emb_indicator):\n",
    "    \"\"\" From emb_indicator, compute the indicators for the substructures only and\n",
    "    the indices for the molecule level embeddings.\n",
    "    \"\"\"\n",
    "    emb_indicator = emb_indicator.squeeze()\n",
    "    _, counts = np.unique(emb_indicator.cpu().numpy(), return_counts=True)\n",
    "    mol_indices = [0]\n",
    "    for count in counts[:-1]:\n",
    "        mol_indices.append(mol_indices[-1] + count)\n",
    "    emb_indicator[mol_indices] = emb_indicator[-1] + 1\n",
    "    return emb_indicator, mol_indices"
   ],
   "outputs": [],
   "metadata": {}
  },
  {
   "cell_type": "code",
   "execution_count": 4,
   "source": [
    "pattern_path = os.path.join(\n",
    "        \"contextSub\", \"resources\", \"pubchemFPKeys_to_SMARTSpattern_filtered.csv\"\n",
    "    )\n",
    "dataset = MoleculeDataset(\n",
    "    \"contextSub/dataset/lightbbb\",\n",
    "    dataset=\"lightbbb\",\n",
    "    partial_charge=True,\n",
    "    substruct_input=True,\n",
    "    pattern_path=pattern_path,\n",
    "    context=True,\n",
    "    hops=5,\n",
    "    pooling_indicator=True,\n",
    ")"
   ],
   "outputs": [],
   "metadata": {}
  },
  {
   "cell_type": "code",
   "execution_count": 6,
   "source": [
    "smiles_list = pd.read_csv(\n",
    "    \"contextSub/dataset/lightbbb/processed/smiles.csv\",\n",
    "    header=None,\n",
    ")[0].tolist()\n",
    "train_dataset, valid_dataset, test_dataset = scaffold_split(\n",
    "    dataset,\n",
    "    smiles_list,\n",
    "    null_value=0,\n",
    "    frac_train=0.8,\n",
    "    frac_valid=0.1,\n",
    "    frac_test=0.1,\n",
    ")"
   ],
   "outputs": [],
   "metadata": {}
  },
  {
   "cell_type": "code",
   "execution_count": 7,
   "source": [
    "batch_size = 32\n",
    "num_workers = 4\n",
    "train_loader = DataLoaderPooling(\n",
    "        train_dataset,\n",
    "        batch_size=batch_size,\n",
    "        shuffle=False,\n",
    "        num_workers=num_workers,\n",
    "    )\n",
    "val_loader = DataLoaderPooling(\n",
    "    valid_dataset,\n",
    "    batch_size=batch_size,\n",
    "    shuffle=False,\n",
    "    num_workers=num_workers,\n",
    ")\n",
    "test_loader = DataLoaderPooling(\n",
    "    test_dataset,\n",
    "    batch_size=batch_size,\n",
    "    shuffle=False,\n",
    "    num_workers=num_workers,\n",
    ")"
   ],
   "outputs": [],
   "metadata": {}
  },
  {
   "cell_type": "code",
   "execution_count": 30,
   "source": [
    "labels = []\n",
    "contextsub_model.eval()\n",
    "train_graph_embs = []\n",
    "device = torch.device(\"cuda:0\")\n",
    "contextsub_model.to(device)\n",
    "contextsub_model.eval()\n",
    "with torch.no_grad():\n",
    "    for batch in train_loader:\n",
    "        batch = batch.to(device)\n",
    "        node_embs = contextsub_model(batch)\n",
    "        \n",
    "        mask = batch.mask.to(torch.bool).squeeze()\n",
    "        emb_repr = global_mean_pool(\n",
    "            node_embs[mask], batch.pooling_indicator[mask].squeeze(),\n",
    "        )\n",
    "        \n",
    "        sub_indi, mol_indi = separate_indicators(batch.emb_indicator)\n",
    "        sub_pooled = global_mean_pool(emb_repr, sub_indi)[:-1]\n",
    "        mol_pooled = emb_repr[mol_indi]\n",
    "        pooled = torch.cat([sub_pooled, mol_pooled], dim=1)\n",
    "            \n",
    "        train_graph_embs.append(pooled)\n",
    "        labels.append(batch.y)"
   ],
   "outputs": [],
   "metadata": {}
  },
  {
   "cell_type": "code",
   "execution_count": 31,
   "source": [
    "val_graph_embs = []\n",
    "with torch.no_grad():\n",
    "    for batch in val_loader:\n",
    "        batch = batch.to(device)\n",
    "        node_embs = contextsub_model(batch)\n",
    "        \n",
    "        mask = batch.mask.to(torch.bool).squeeze()\n",
    "        emb_repr = global_mean_pool(\n",
    "            node_embs[mask], batch.pooling_indicator[mask].squeeze(),\n",
    "        )\n",
    "        \n",
    "        sub_indi, mol_indi = separate_indicators(batch.emb_indicator)\n",
    "        sub_pooled = global_mean_pool(emb_repr, sub_indi)[:-1]\n",
    "        mol_pooled = emb_repr[mol_indi]\n",
    "        pooled = torch.cat([sub_pooled, mol_pooled], dim=1)\n",
    "            \n",
    "        val_graph_embs.append(pooled)\n",
    "        labels.append(batch.y)"
   ],
   "outputs": [],
   "metadata": {}
  },
  {
   "cell_type": "code",
   "execution_count": 32,
   "source": [
    "test_graph_embs = []\n",
    "with torch.no_grad():\n",
    "    for batch in test_loader:\n",
    "        batch = batch.to(device)\n",
    "        node_embs = contextsub_model(batch)\n",
    "        \n",
    "        mask = batch.mask.to(torch.bool).squeeze()\n",
    "        emb_repr = global_mean_pool(\n",
    "            node_embs[mask], batch.pooling_indicator[mask].squeeze(),\n",
    "        )\n",
    "        \n",
    "        sub_indi, mol_indi = separate_indicators(batch.emb_indicator)\n",
    "        sub_pooled = global_mean_pool(emb_repr, sub_indi)[:-1]\n",
    "        mol_pooled = emb_repr[mol_indi]\n",
    "        pooled = torch.cat([sub_pooled, mol_pooled], dim=1)\n",
    "            \n",
    "        test_graph_embs.append(pooled)\n",
    "        labels.append(batch.y)"
   ],
   "outputs": [],
   "metadata": {}
  },
  {
   "cell_type": "code",
   "execution_count": 33,
   "source": [
    "train_graph_embs = torch.cat(train_graph_embs, axis=0).cpu().numpy()"
   ],
   "outputs": [],
   "metadata": {}
  },
  {
   "cell_type": "code",
   "execution_count": 34,
   "source": [
    "train_graph_embs.shape"
   ],
   "outputs": [
    {
     "output_type": "execute_result",
     "data": {
      "text/plain": [
       "(5712, 600)"
      ]
     },
     "metadata": {},
     "execution_count": 34
    }
   ],
   "metadata": {}
  },
  {
   "cell_type": "code",
   "execution_count": 35,
   "source": [
    "val_graph_embs = torch.cat(val_graph_embs, axis=0).cpu().numpy()\n",
    "test_graph_embs = torch.cat(test_graph_embs, axis=0).cpu().numpy()"
   ],
   "outputs": [],
   "metadata": {}
  },
  {
   "cell_type": "code",
   "execution_count": 36,
   "source": [
    "print(val_graph_embs.shape)\n",
    "print(test_graph_embs.shape)"
   ],
   "outputs": [
    {
     "output_type": "stream",
     "name": "stdout",
     "text": [
      "(714, 600)\n",
      "(715, 600)\n"
     ]
    }
   ],
   "metadata": {}
  },
  {
   "cell_type": "code",
   "execution_count": 37,
   "source": [
    "embeddings = []\n",
    "for emb in np.concatenate([train_graph_embs, val_graph_embs, test_graph_embs], axis=0):\n",
    "    embeddings.append(\",\".join(map(str, emb)))"
   ],
   "outputs": [],
   "metadata": {}
  },
  {
   "cell_type": "code",
   "execution_count": 38,
   "source": [
    "df = pd.DataFrame()\n",
    "df[\"embeddings\"] = embeddings\n",
    "df[\"split\"] = [\"train\"] * train_graph_embs.shape[0] + [\"validation\"] * val_graph_embs.shape[0] + [\"test\"] * test_graph_embs.shape[0]"
   ],
   "outputs": [],
   "metadata": {}
  },
  {
   "cell_type": "code",
   "execution_count": 39,
   "source": [
    "labels = torch.cat(labels, axis=0).cpu().numpy()"
   ],
   "outputs": [],
   "metadata": {}
  },
  {
   "cell_type": "code",
   "execution_count": 40,
   "source": [
    "df[\"labels\"] = labels"
   ],
   "outputs": [],
   "metadata": {}
  },
  {
   "cell_type": "code",
   "execution_count": 41,
   "source": [
    "df.tail()"
   ],
   "outputs": [
    {
     "output_type": "execute_result",
     "data": {
      "text/plain": [
       "                                             embeddings split  labels\n",
       "7136  -0.030503618,0.0069729984,-0.17820397,-0.08808...  test       1\n",
       "7137  -0.106497735,0.070397,-0.1499533,-0.07778076,0...  test       1\n",
       "7138  -0.07903514,-0.034927227,-0.10666142,-0.077492...  test      -1\n",
       "7139  -0.0074477945,-0.060378015,-0.1882684,-0.06364...  test       1\n",
       "7140  -0.10663857,-0.09706559,-0.18169187,-0.0753999...  test      -1"
      ],
      "text/html": [
       "<div>\n",
       "<style scoped>\n",
       "    .dataframe tbody tr th:only-of-type {\n",
       "        vertical-align: middle;\n",
       "    }\n",
       "\n",
       "    .dataframe tbody tr th {\n",
       "        vertical-align: top;\n",
       "    }\n",
       "\n",
       "    .dataframe thead th {\n",
       "        text-align: right;\n",
       "    }\n",
       "</style>\n",
       "<table border=\"1\" class=\"dataframe\">\n",
       "  <thead>\n",
       "    <tr style=\"text-align: right;\">\n",
       "      <th></th>\n",
       "      <th>embeddings</th>\n",
       "      <th>split</th>\n",
       "      <th>labels</th>\n",
       "    </tr>\n",
       "  </thead>\n",
       "  <tbody>\n",
       "    <tr>\n",
       "      <th>7136</th>\n",
       "      <td>-0.030503618,0.0069729984,-0.17820397,-0.08808...</td>\n",
       "      <td>test</td>\n",
       "      <td>1</td>\n",
       "    </tr>\n",
       "    <tr>\n",
       "      <th>7137</th>\n",
       "      <td>-0.106497735,0.070397,-0.1499533,-0.07778076,0...</td>\n",
       "      <td>test</td>\n",
       "      <td>1</td>\n",
       "    </tr>\n",
       "    <tr>\n",
       "      <th>7138</th>\n",
       "      <td>-0.07903514,-0.034927227,-0.10666142,-0.077492...</td>\n",
       "      <td>test</td>\n",
       "      <td>-1</td>\n",
       "    </tr>\n",
       "    <tr>\n",
       "      <th>7139</th>\n",
       "      <td>-0.0074477945,-0.060378015,-0.1882684,-0.06364...</td>\n",
       "      <td>test</td>\n",
       "      <td>1</td>\n",
       "    </tr>\n",
       "    <tr>\n",
       "      <th>7140</th>\n",
       "      <td>-0.10663857,-0.09706559,-0.18169187,-0.0753999...</td>\n",
       "      <td>test</td>\n",
       "      <td>-1</td>\n",
       "    </tr>\n",
       "  </tbody>\n",
       "</table>\n",
       "</div>"
      ]
     },
     "metadata": {},
     "execution_count": 41
    }
   ],
   "metadata": {}
  },
  {
   "cell_type": "code",
   "execution_count": 42,
   "source": [
    "len(embeddings[0].split(\",\"))"
   ],
   "outputs": [
    {
     "output_type": "execute_result",
     "data": {
      "text/plain": [
       "600"
      ]
     },
     "metadata": {},
     "execution_count": 42
    }
   ],
   "metadata": {}
  },
  {
   "cell_type": "code",
   "execution_count": 43,
   "source": [
    "df.to_csv(\"contextSub/dataset/lightbbb_contextsub_embeddings.csv\")"
   ],
   "outputs": [],
   "metadata": {}
  },
  {
   "cell_type": "markdown",
   "source": [
    "## Add splitting indicators to descriptor and label file"
   ],
   "metadata": {}
  },
  {
   "cell_type": "code",
   "execution_count": 4,
   "source": [
    "smiles_list = pd.read_csv(\n",
    "    \"contextSub/dataset/lightbbb/processed/smiles.csv\",\n",
    "    header=None,\n",
    ")[0].tolist()"
   ],
   "outputs": [],
   "metadata": {}
  },
  {
   "cell_type": "code",
   "execution_count": 6,
   "source": [
    "train_smi, val_smi, test_smi = scaffold_split_from_smiles(smiles_list)"
   ],
   "outputs": [],
   "metadata": {}
  },
  {
   "cell_type": "code",
   "execution_count": 11,
   "source": [
    "descriptors = pd.read_csv(\"contextSub/dataset/lightbbb/datasetNormalizedDescrs.csv\")\n",
    "labels = pd.read_csv(\"contextSub/dataset/lightbbb/raw/y_test_indices.csv\")"
   ],
   "outputs": [],
   "metadata": {}
  },
  {
   "cell_type": "code",
   "execution_count": 35,
   "source": [
    "labels.head()"
   ],
   "outputs": [
    {
     "output_type": "execute_result",
     "data": {
      "text/plain": [
       "                                              smiles  logBB  BBclass  split\n",
       "0    c1cc(F)ccc1Cn(c(c23)cccc2)c(n3)[C@@H]4CCCN(C)C4   0.43        1     NA\n",
       "1  CC1CCN(CC1)C(=O)c(c2)ccc3n(CC=C)c(c4c23)CCN(C4...  -0.13        0     NA\n",
       "2                                             ClCCCl  -0.14        1  train\n",
       "3                      c1cccc(c1C23C)C(N3)Cc4c2cccc4   1.11        1     NA\n",
       "4                                            CC(=O)C  -0.15        0     NA"
      ],
      "text/html": [
       "<div>\n",
       "<style scoped>\n",
       "    .dataframe tbody tr th:only-of-type {\n",
       "        vertical-align: middle;\n",
       "    }\n",
       "\n",
       "    .dataframe tbody tr th {\n",
       "        vertical-align: top;\n",
       "    }\n",
       "\n",
       "    .dataframe thead th {\n",
       "        text-align: right;\n",
       "    }\n",
       "</style>\n",
       "<table border=\"1\" class=\"dataframe\">\n",
       "  <thead>\n",
       "    <tr style=\"text-align: right;\">\n",
       "      <th></th>\n",
       "      <th>smiles</th>\n",
       "      <th>logBB</th>\n",
       "      <th>BBclass</th>\n",
       "      <th>split</th>\n",
       "    </tr>\n",
       "  </thead>\n",
       "  <tbody>\n",
       "    <tr>\n",
       "      <th>0</th>\n",
       "      <td>c1cc(F)ccc1Cn(c(c23)cccc2)c(n3)[C@@H]4CCCN(C)C4</td>\n",
       "      <td>0.43</td>\n",
       "      <td>1</td>\n",
       "      <td>NA</td>\n",
       "    </tr>\n",
       "    <tr>\n",
       "      <th>1</th>\n",
       "      <td>CC1CCN(CC1)C(=O)c(c2)ccc3n(CC=C)c(c4c23)CCN(C4...</td>\n",
       "      <td>-0.13</td>\n",
       "      <td>0</td>\n",
       "      <td>NA</td>\n",
       "    </tr>\n",
       "    <tr>\n",
       "      <th>2</th>\n",
       "      <td>ClCCCl</td>\n",
       "      <td>-0.14</td>\n",
       "      <td>1</td>\n",
       "      <td>train</td>\n",
       "    </tr>\n",
       "    <tr>\n",
       "      <th>3</th>\n",
       "      <td>c1cccc(c1C23C)C(N3)Cc4c2cccc4</td>\n",
       "      <td>1.11</td>\n",
       "      <td>1</td>\n",
       "      <td>NA</td>\n",
       "    </tr>\n",
       "    <tr>\n",
       "      <th>4</th>\n",
       "      <td>CC(=O)C</td>\n",
       "      <td>-0.15</td>\n",
       "      <td>0</td>\n",
       "      <td>NA</td>\n",
       "    </tr>\n",
       "  </tbody>\n",
       "</table>\n",
       "</div>"
      ]
     },
     "metadata": {},
     "execution_count": 35
    }
   ],
   "metadata": {}
  },
  {
   "cell_type": "code",
   "execution_count": 38,
   "source": [
    "processed_smiles = []\n",
    "for smi in labels[\"smiles\"]:\n",
    "    mol = AllChem.MolFromSmiles(smi)\n",
    "    if mol is None:\n",
    "        processed_smiles.append(None)\n",
    "    else:\n",
    "        processed_smiles.append(AllChem.MolToSmiles(mol))"
   ],
   "outputs": [],
   "metadata": {}
  },
  {
   "cell_type": "code",
   "execution_count": 57,
   "source": [
    "processed_smiles_np = np.array(processed_smiles)"
   ],
   "outputs": [],
   "metadata": {}
  },
  {
   "cell_type": "code",
   "execution_count": 58,
   "source": [
    "for idx in train_smi:\n",
    "    labels.loc[processed_smiles_np == smiles_list[idx], \"split\"] = \"train\""
   ],
   "outputs": [],
   "metadata": {}
  },
  {
   "cell_type": "code",
   "execution_count": 59,
   "source": [
    "for idx in val_smi:\n",
    "    labels.loc[processed_smiles_np == smiles_list[idx], \"split\"] = \"validation\"\n",
    "for idx in test_smi:\n",
    "    labels.loc[processed_smiles_np == smiles_list[idx], \"split\"] = \"test\""
   ],
   "outputs": [],
   "metadata": {}
  },
  {
   "cell_type": "code",
   "execution_count": 60,
   "source": [
    "labels.loc[labels.split != \"NA\"].shape"
   ],
   "outputs": [
    {
     "output_type": "execute_result",
     "data": {
      "text/plain": [
       "(7141, 4)"
      ]
     },
     "metadata": {},
     "execution_count": 60
    }
   ],
   "metadata": {}
  },
  {
   "cell_type": "code",
   "execution_count": 67,
   "source": [
    "labels.loc[labels.split == \"train\"].shape"
   ],
   "outputs": [
    {
     "output_type": "execute_result",
     "data": {
      "text/plain": [
       "(5712, 4)"
      ]
     },
     "metadata": {},
     "execution_count": 67
    }
   ],
   "metadata": {}
  },
  {
   "cell_type": "code",
   "execution_count": 68,
   "source": [
    "labels.loc[labels.split == \"validation\"].shape"
   ],
   "outputs": [
    {
     "output_type": "execute_result",
     "data": {
      "text/plain": [
       "(714, 4)"
      ]
     },
     "metadata": {},
     "execution_count": 68
    }
   ],
   "metadata": {}
  },
  {
   "cell_type": "code",
   "execution_count": 69,
   "source": [
    "labels.loc[labels.split == \"test\"].shape"
   ],
   "outputs": [
    {
     "output_type": "execute_result",
     "data": {
      "text/plain": [
       "(715, 4)"
      ]
     },
     "metadata": {},
     "execution_count": 69
    }
   ],
   "metadata": {}
  },
  {
   "cell_type": "code",
   "execution_count": 63,
   "source": [
    "labels.to_csv(\"contextSub/dataset/splitted_y_test_indices.csv\")"
   ],
   "outputs": [],
   "metadata": {}
  },
  {
   "cell_type": "code",
   "execution_count": null,
   "source": [],
   "outputs": [],
   "metadata": {}
  },
  {
   "cell_type": "code",
   "execution_count": null,
   "source": [],
   "outputs": [],
   "metadata": {}
  }
 ],
 "metadata": {
  "orig_nbformat": 4,
  "language_info": {
   "name": "python"
  }
 },
 "nbformat": 4,
 "nbformat_minor": 2
}
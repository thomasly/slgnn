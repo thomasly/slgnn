{
 "cells": [
  {
   "cell_type": "code",
   "execution_count": 3,
   "metadata": {},
   "outputs": [],
   "source": [
    "import os\n",
    "import gzip\n",
    "\n",
    "from rdkit.Chem import ForwardSDMolSupplier, MolToSmiles, TDTMolSupplier\n",
    "from chemreader.readers import Smiles\n",
    "from chemreader.writers import GraphWriter"
   ]
  },
  {
   "cell_type": "code",
   "execution_count": 6,
   "metadata": {},
   "outputs": [],
   "source": [
    "def determine_file_format(path):\n",
    "    filename_components = os.path.basename(path).split(\".\")\n",
    "    format_ =  filename_components[-1]\n",
    "    if format_ in [\"gz\", \"gzip\"]:\n",
    "        format_ = filename_components[-2]\n",
    "    return format_\n",
    "\n",
    "\n",
    "def save_decoys(path):\n",
    "    format_ = determine_file_format(path)\n",
    "    smiles = list()\n",
    "    if format_ == \"sdf\":\n",
    "        mols = ForwardSDMolSupplier(gzip.open(path))\n",
    "        for mol in mols:\n",
    "            if mol is not None:\n",
    "                smiles.append(MolToSmiles(mol))\n",
    "    elif format_ == \"smi\": \n",
    "        with gzip.open(path) as f:\n",
    "            line = f.readline().decode()\n",
    "            while line:\n",
    "                smiles.append(line.split()[0])\n",
    "                line = f.readline().decode()\n",
    "    smiles = [Smiles(s) for s in set(smiles)]\n",
    "    writer = GraphWriter(smiles)\n",
    "    prefix = os.path.basename(path).split(\".\")[0]\n",
    "    save_path = os.path.join(os.path.dirname(path), \"graphs\", \"decoys\")\n",
    "    writer.write(save_path, prefix=prefix)"
   ]
  },
  {
   "cell_type": "code",
   "execution_count": 7,
   "metadata": {},
   "outputs": [],
   "source": [
    "path = \"../../data/JAK/JAK1_decoys.smi.gz\"\n",
    "save_decoys(path)"
   ]
  },
  {
   "cell_type": "code",
   "execution_count": 8,
   "metadata": {},
   "outputs": [],
   "source": [
    "path = '../../data/JAK/JAK2_decoys.sdf.gz'\n",
    "save_decoys(path)"
   ]
  },
  {
   "cell_type": "code",
   "execution_count": null,
   "metadata": {},
   "outputs": [],
   "source": [
    "path = '../../data/JAK/JAK3_decoys.smi.gz'\n",
    "save_decoys(path)"
   ]
  }
 ],
 "metadata": {
  "kernelspec": {
   "display_name": "'Python Interactive'",
   "name": "ca2090ec-da29-42da-892a-0ca00f0c5f30"
  },
  "language_info": {
   "name": "",
   "version": "3.6.9-final"
  }
 },
 "nbformat": 4,
 "nbformat_minor": 4
}
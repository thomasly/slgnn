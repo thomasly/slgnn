{
 "cells": [
  {
   "cell_type": "code",
   "execution_count": 6,
   "metadata": {},
   "outputs": [],
   "source": [
    "import gzip\n",
    "\n",
    "from rdkit.Chem import ForwardSDMolSupplier, MolToSmiles"
   ]
  },
  {
   "cell_type": "code",
   "execution_count": 7,
   "metadata": {},
   "outputs": [],
   "source": [
    "suppl = ForwardSDMolSupplier(gzip.open('../data/JAK/JAK2_decoys.sdf.gz'))\n",
    "smiles = list()\n",
    "for mol in suppl:\n",
    "  if mol is not None:\n",
    "      smiles.append(MolToSmiles(mol))"
   ]
  },
  {
   "cell_type": "code",
   "execution_count": 8,
   "metadata": {},
   "outputs": [
    {
     "output_type": "execute_result",
     "data": {
      "text/plain": "6590"
     },
     "metadata": {},
     "execution_count": 8
    }
   ],
   "source": [
    "len(smiles)"
   ]
  },
  {
   "cell_type": "code",
   "execution_count": 9,
   "metadata": {},
   "outputs": [],
   "source": [
    "from chemreader.readers import Smiles\n",
    "from chemreader.writers import GraphWriter"
   ]
  },
  {
   "cell_type": "code",
   "execution_count": 10,
   "metadata": {},
   "outputs": [],
   "source": [
    "smiles = [Smiles(s) for s in smiles]"
   ]
  },
  {
   "cell_type": "code",
   "execution_count": 11,
   "metadata": {},
   "outputs": [],
   "source": [
    "writer = GraphWriter(smiles)\n",
    "writer.write(\"../data/JAK/graphs/decoys\", prefix=\"JAK2\")"
   ]
  },
  {
   "cell_type": "code",
   "execution_count": null,
   "metadata": {},
   "outputs": [],
   "source": []
  }
 ],
 "metadata": {
  "kernelspec": {
   "display_name": "'Python Interactive'",
   "name": "ca2090ec-da29-42da-892a-0ca00f0c5f30"
  },
  "language_info": {
   "name": "",
   "version": "3.6.9-final"
  }
 },
 "nbformat": 4,
 "nbformat_minor": 4
}
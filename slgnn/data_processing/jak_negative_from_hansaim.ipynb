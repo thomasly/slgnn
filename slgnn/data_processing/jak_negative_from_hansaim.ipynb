{
 "cells": [
  {
   "cell_type": "code",
   "execution_count": 1,
   "metadata": {},
   "outputs": [],
   "source": [
    "%load_ext autoreload"
   ]
  },
  {
   "cell_type": "code",
   "execution_count": 2,
   "metadata": {},
   "outputs": [],
   "source": [
    "import json\n",
    "import gzip\n",
    "\n",
    "import pandas as pd"
   ]
  },
  {
   "cell_type": "markdown",
   "metadata": {},
   "source": [
    "### InChiKey to SMILES dictionary"
   ]
  },
  {
   "cell_type": "code",
   "execution_count": 3,
   "metadata": {},
   "outputs": [],
   "source": [
    "save_path = \"../../data/Hansaim/integrated_InChiKey2SMILES.json.gz\"\n",
    "try:\n",
    "    with gzip.open(save_path) as f:\n",
    "        k2s = json.load(f)\n",
    "except FileNotFoundError:\n",
    "    path = \"../../data/Hansaim/integrated_InChiKey2Index.json.gz\"\n",
    "    with gzip.open(path) as f:\n",
    "        k2i = json.load(f)\n",
    "    path = \"../../data/Hansaim/integrated_Index2SMILES.json.gz\"\n",
    "    with gzip.open(path) as f:\n",
    "        i2s = json.load(f)\n",
    "\n",
    "    k2s = dict()\n",
    "    for key, value in k2i.items():\n",
    "        k2s[key] = i2s[str(value)]\n",
    "    with gzip.open(save_path, \"wb\") as f:\n",
    "        k2s_json = json.dumps(k2s)\n",
    "        f.write(k2s_json.encode())"
   ]
  },
  {
   "cell_type": "markdown",
   "metadata": {},
   "source": [
    "### Test the dictionary"
   ]
  },
  {
   "cell_type": "code",
   "execution_count": 4,
   "metadata": {},
   "outputs": [
    {
     "name": "stdout",
     "output_type": "stream",
     "text": [
      "AAAAEENPAALFRN-UHFFFAOYSA-N COc1cc(C(C)C)c(Oc2cnc(NCCS(=O)(=O)C)nc2N)cc1I\n",
      "AAAAEENPAALFRN-UHFFFAOYSA-N\n",
      "========================================\n",
      "AAAAKTROWFNLEP-UHFFFAOYSA-N CC1CNC(=O)c2[nH]c3ccc(cc3c12)C(=O)N(C)C\n",
      "AAAAKTROWFNLEP-UHFFFAOYSA-N\n",
      "========================================\n",
      "AAAATQFUBIBQIS-IRXDYDNUSA-N CC(=O)NC[C@@H]1OC(=O)N2[C@H]1Cc3cc(ccc23)c4cccnc4\n",
      "AAAATQFUBIBQIS-IRXDYDNUSA-N\n",
      "========================================\n"
     ]
    }
   ],
   "source": [
    "from rdkit import Chem\n",
    "for i in range(3):\n",
    "    print(list(k2s.keys())[i], k2s[list(k2s.keys())[i]])\n",
    "    mol = Chem.MolFromSmiles(k2s[list(k2s.keys())[i]])\n",
    "    print(Chem.inchi.MolToInchiKey(mol))\n",
    "    print(\"=\"*40)"
   ]
  },
  {
   "cell_type": "markdown",
   "metadata": {},
   "source": [
    "### Load activity file"
   ]
  },
  {
   "cell_type": "markdown",
   "metadata": {},
   "source": [
    "* pIC50 file"
   ]
  },
  {
   "cell_type": "code",
   "execution_count": 5,
   "metadata": {},
   "outputs": [],
   "source": [
    "picf_path = \"../../data/Hansaim/integrated_pic50.tsv.gz\"\n",
    "pic_act_df = pd.read_csv(picf_path, sep=\"\\t\", index_col=0)"
   ]
  },
  {
   "cell_type": "code",
   "execution_count": 6,
   "metadata": {},
   "outputs": [
    {
     "data": {
      "text/html": [
       "<div>\n",
       "<style scoped>\n",
       "    .dataframe tbody tr th:only-of-type {\n",
       "        vertical-align: middle;\n",
       "    }\n",
       "\n",
       "    .dataframe tbody tr th {\n",
       "        vertical-align: top;\n",
       "    }\n",
       "\n",
       "    .dataframe thead th {\n",
       "        text-align: right;\n",
       "    }\n",
       "</style>\n",
       "<table border=\"1\" class=\"dataframe\">\n",
       "  <thead>\n",
       "    <tr style=\"text-align: right;\">\n",
       "      <th></th>\n",
       "      <th>InChIKey</th>\n",
       "      <th>UniProt</th>\n",
       "      <th>Activity_type</th>\n",
       "      <th>Relation</th>\n",
       "      <th>Activity_value</th>\n",
       "    </tr>\n",
       "  </thead>\n",
       "  <tbody>\n",
       "    <tr>\n",
       "      <th>0</th>\n",
       "      <td>LMSNSIQAWQSERP-UHFFFAOYSA-N</td>\n",
       "      <td>P08908</td>\n",
       "      <td>pIC50</td>\n",
       "      <td>=</td>\n",
       "      <td>7.199971</td>\n",
       "    </tr>\n",
       "    <tr>\n",
       "      <th>1</th>\n",
       "      <td>GKKAQRFMUGUZQS-UHFFFAOYSA-N</td>\n",
       "      <td>P08908</td>\n",
       "      <td>pIC50</td>\n",
       "      <td>=</td>\n",
       "      <td>7.599980</td>\n",
       "    </tr>\n",
       "    <tr>\n",
       "      <th>2</th>\n",
       "      <td>FKWIKKLASAZVLL-UHFFFAOYSA-N</td>\n",
       "      <td>P08908</td>\n",
       "      <td>pIC50</td>\n",
       "      <td>=</td>\n",
       "      <td>7.199971</td>\n",
       "    </tr>\n",
       "    <tr>\n",
       "      <th>3</th>\n",
       "      <td>IIYLGSKFTYDEID-UHFFFAOYSA-N</td>\n",
       "      <td>P08908</td>\n",
       "      <td>pIC50</td>\n",
       "      <td>=</td>\n",
       "      <td>6.299998</td>\n",
       "    </tr>\n",
       "    <tr>\n",
       "      <th>4</th>\n",
       "      <td>YOPSWVMUSWBXTO-UHFFFAOYSA-N</td>\n",
       "      <td>P08908</td>\n",
       "      <td>pIC50</td>\n",
       "      <td>=</td>\n",
       "      <td>6.699992</td>\n",
       "    </tr>\n",
       "  </tbody>\n",
       "</table>\n",
       "</div>"
      ],
      "text/plain": [
       "                      InChIKey UniProt Activity_type Relation  Activity_value\n",
       "0  LMSNSIQAWQSERP-UHFFFAOYSA-N  P08908         pIC50        =        7.199971\n",
       "1  GKKAQRFMUGUZQS-UHFFFAOYSA-N  P08908         pIC50        =        7.599980\n",
       "2  FKWIKKLASAZVLL-UHFFFAOYSA-N  P08908         pIC50        =        7.199971\n",
       "3  IIYLGSKFTYDEID-UHFFFAOYSA-N  P08908         pIC50        =        6.299998\n",
       "4  YOPSWVMUSWBXTO-UHFFFAOYSA-N  P08908         pIC50        =        6.699992"
      ]
     },
     "execution_count": 6,
     "metadata": {},
     "output_type": "execute_result"
    }
   ],
   "source": [
    "pic_act_df.head()"
   ]
  },
  {
   "cell_type": "markdown",
   "metadata": {},
   "source": [
    "* pKd file"
   ]
  },
  {
   "cell_type": "code",
   "execution_count": 7,
   "metadata": {},
   "outputs": [],
   "source": [
    "pkdf_path = \"../../data/Hansaim/integrated_pkd.tsv.gz\"\n",
    "pkd_act_df = pd.read_csv(pkdf_path, sep=\"\\t\", index_col=0)"
   ]
  },
  {
   "cell_type": "code",
   "execution_count": 8,
   "metadata": {},
   "outputs": [
    {
     "data": {
      "text/html": [
       "<div>\n",
       "<style scoped>\n",
       "    .dataframe tbody tr th:only-of-type {\n",
       "        vertical-align: middle;\n",
       "    }\n",
       "\n",
       "    .dataframe tbody tr th {\n",
       "        vertical-align: top;\n",
       "    }\n",
       "\n",
       "    .dataframe thead th {\n",
       "        text-align: right;\n",
       "    }\n",
       "</style>\n",
       "<table border=\"1\" class=\"dataframe\">\n",
       "  <thead>\n",
       "    <tr style=\"text-align: right;\">\n",
       "      <th></th>\n",
       "      <th>InChIKey</th>\n",
       "      <th>UniProt</th>\n",
       "      <th>Activity_type</th>\n",
       "      <th>Relation</th>\n",
       "      <th>Activity_value</th>\n",
       "    </tr>\n",
       "  </thead>\n",
       "  <tbody>\n",
       "    <tr>\n",
       "      <th>0</th>\n",
       "      <td>UHTHHESEBZOYNR-UHFFFAOYSA-N</td>\n",
       "      <td>Q9Y4K4</td>\n",
       "      <td>pKd</td>\n",
       "      <td>=</td>\n",
       "      <td>6.346787</td>\n",
       "    </tr>\n",
       "    <tr>\n",
       "      <th>1</th>\n",
       "      <td>UIARLYUEJFELEN-LROUJFHJSA-N</td>\n",
       "      <td>P0C264</td>\n",
       "      <td>pKd</td>\n",
       "      <td>=</td>\n",
       "      <td>6.920819</td>\n",
       "    </tr>\n",
       "    <tr>\n",
       "      <th>2</th>\n",
       "      <td>GCIKSSRWRFVXBI-UHFFFAOYSA-N</td>\n",
       "      <td>P0C264</td>\n",
       "      <td>pKd</td>\n",
       "      <td>=</td>\n",
       "      <td>6.275724</td>\n",
       "    </tr>\n",
       "    <tr>\n",
       "      <th>3</th>\n",
       "      <td>GCIKSSRWRFVXBI-UHFFFAOYSA-N</td>\n",
       "      <td>P30530</td>\n",
       "      <td>pKd</td>\n",
       "      <td>=</td>\n",
       "      <td>6.677781</td>\n",
       "    </tr>\n",
       "    <tr>\n",
       "      <th>4</th>\n",
       "      <td>JOOXLOJCABQBSG-UHFFFAOYSA-N</td>\n",
       "      <td>P00519(Y253F)-phosphorylated</td>\n",
       "      <td>pKd</td>\n",
       "      <td>=</td>\n",
       "      <td>7.251812</td>\n",
       "    </tr>\n",
       "  </tbody>\n",
       "</table>\n",
       "</div>"
      ],
      "text/plain": [
       "                      InChIKey                       UniProt Activity_type  \\\n",
       "0  UHTHHESEBZOYNR-UHFFFAOYSA-N                        Q9Y4K4           pKd   \n",
       "1  UIARLYUEJFELEN-LROUJFHJSA-N                        P0C264           pKd   \n",
       "2  GCIKSSRWRFVXBI-UHFFFAOYSA-N                        P0C264           pKd   \n",
       "3  GCIKSSRWRFVXBI-UHFFFAOYSA-N                        P30530           pKd   \n",
       "4  JOOXLOJCABQBSG-UHFFFAOYSA-N  P00519(Y253F)-phosphorylated           pKd   \n",
       "\n",
       "  Relation  Activity_value  \n",
       "0        =        6.346787  \n",
       "1        =        6.920819  \n",
       "2        =        6.275724  \n",
       "3        =        6.677781  \n",
       "4        =        7.251812  "
      ]
     },
     "execution_count": 8,
     "metadata": {},
     "output_type": "execute_result"
    }
   ],
   "source": [
    "pkd_act_df.head()"
   ]
  },
  {
   "cell_type": "markdown",
   "metadata": {},
   "source": [
    "* pKi file"
   ]
  },
  {
   "cell_type": "code",
   "execution_count": 9,
   "metadata": {},
   "outputs": [],
   "source": [
    "pkif_path = \"../../data/Hansaim/integrated_pki.tsv.gz\"\n",
    "pki_act_df = pd.read_csv(pkif_path, sep=\"\\t\", index_col=0)"
   ]
  },
  {
   "cell_type": "code",
   "execution_count": 10,
   "metadata": {},
   "outputs": [
    {
     "data": {
      "text/html": [
       "<div>\n",
       "<style scoped>\n",
       "    .dataframe tbody tr th:only-of-type {\n",
       "        vertical-align: middle;\n",
       "    }\n",
       "\n",
       "    .dataframe tbody tr th {\n",
       "        vertical-align: top;\n",
       "    }\n",
       "\n",
       "    .dataframe thead th {\n",
       "        text-align: right;\n",
       "    }\n",
       "</style>\n",
       "<table border=\"1\" class=\"dataframe\">\n",
       "  <thead>\n",
       "    <tr style=\"text-align: right;\">\n",
       "      <th></th>\n",
       "      <th>InChIKey</th>\n",
       "      <th>UniProt</th>\n",
       "      <th>Activity_type</th>\n",
       "      <th>Relation</th>\n",
       "      <th>Activity_value</th>\n",
       "    </tr>\n",
       "  </thead>\n",
       "  <tbody>\n",
       "    <tr>\n",
       "      <th>0</th>\n",
       "      <td>UZWDCWONPYILKI-UHFFFAOYSA-N</td>\n",
       "      <td>Q2M2I8</td>\n",
       "      <td>pKi</td>\n",
       "      <td>=</td>\n",
       "      <td>6.992124</td>\n",
       "    </tr>\n",
       "    <tr>\n",
       "      <th>1</th>\n",
       "      <td>UZWDCWONPYILKI-UHFFFAOYSA-N</td>\n",
       "      <td>Q86TW2</td>\n",
       "      <td>pKi</td>\n",
       "      <td>=</td>\n",
       "      <td>7.400008</td>\n",
       "    </tr>\n",
       "    <tr>\n",
       "      <th>2</th>\n",
       "      <td>UZWDCWONPYILKI-UHFFFAOYSA-N</td>\n",
       "      <td>Q9NSY1</td>\n",
       "      <td>pKi</td>\n",
       "      <td>=</td>\n",
       "      <td>4.251567</td>\n",
       "    </tr>\n",
       "    <tr>\n",
       "      <th>3</th>\n",
       "      <td>UZWDCWONPYILKI-UHFFFAOYSA-N</td>\n",
       "      <td>Q13557</td>\n",
       "      <td>pKi</td>\n",
       "      <td>=</td>\n",
       "      <td>7.711080</td>\n",
       "    </tr>\n",
       "    <tr>\n",
       "      <th>4</th>\n",
       "      <td>UZWDCWONPYILKI-UHFFFAOYSA-N</td>\n",
       "      <td>Q13555</td>\n",
       "      <td>pKi</td>\n",
       "      <td>=</td>\n",
       "      <td>7.747390</td>\n",
       "    </tr>\n",
       "  </tbody>\n",
       "</table>\n",
       "</div>"
      ],
      "text/plain": [
       "                      InChIKey UniProt Activity_type Relation  Activity_value\n",
       "0  UZWDCWONPYILKI-UHFFFAOYSA-N  Q2M2I8           pKi        =        6.992124\n",
       "1  UZWDCWONPYILKI-UHFFFAOYSA-N  Q86TW2           pKi        =        7.400008\n",
       "2  UZWDCWONPYILKI-UHFFFAOYSA-N  Q9NSY1           pKi        =        4.251567\n",
       "3  UZWDCWONPYILKI-UHFFFAOYSA-N  Q13557           pKi        =        7.711080\n",
       "4  UZWDCWONPYILKI-UHFFFAOYSA-N  Q13555           pKi        =        7.747390"
      ]
     },
     "execution_count": 10,
     "metadata": {},
     "output_type": "execute_result"
    }
   ],
   "source": [
    "pki_act_df.head()"
   ]
  },
  {
   "cell_type": "markdown",
   "metadata": {},
   "source": [
    "### Load required UniProt ID list"
   ]
  },
  {
   "cell_type": "code",
   "execution_count": 11,
   "metadata": {},
   "outputs": [
    {
     "data": {
      "text/html": [
       "<div>\n",
       "<style scoped>\n",
       "    .dataframe tbody tr th:only-of-type {\n",
       "        vertical-align: middle;\n",
       "    }\n",
       "\n",
       "    .dataframe tbody tr th {\n",
       "        vertical-align: top;\n",
       "    }\n",
       "\n",
       "    .dataframe thead th {\n",
       "        text-align: right;\n",
       "    }\n",
       "</style>\n",
       "<table border=\"1\" class=\"dataframe\">\n",
       "  <thead>\n",
       "    <tr style=\"text-align: right;\">\n",
       "      <th></th>\n",
       "      <th>0</th>\n",
       "      <th>1</th>\n",
       "      <th>2</th>\n",
       "      <th>3</th>\n",
       "    </tr>\n",
       "  </thead>\n",
       "  <tbody>\n",
       "    <tr>\n",
       "      <th>0</th>\n",
       "      <td>A1Z199</td>\n",
       "      <td>A1Z199_HUMAN</td>\n",
       "      <td>BCR/ABL fusion</td>\n",
       "      <td>BCR/ABL p210 fusion protein</td>\n",
       "    </tr>\n",
       "    <tr>\n",
       "      <th>1</th>\n",
       "      <td>P11274</td>\n",
       "      <td>BCR_HUMAN</td>\n",
       "      <td>BCR</td>\n",
       "      <td>Breakpoint cluster region protein</td>\n",
       "    </tr>\n",
       "    <tr>\n",
       "      <th>2</th>\n",
       "      <td>Q12830</td>\n",
       "      <td>BPTF_HUMAN</td>\n",
       "      <td>BPTF</td>\n",
       "      <td>Nucleosome-remodeling factor subunit BPTF</td>\n",
       "    </tr>\n",
       "    <tr>\n",
       "      <th>3</th>\n",
       "      <td>P08962</td>\n",
       "      <td>CD63_HUMAN</td>\n",
       "      <td>CD63</td>\n",
       "      <td>CD63 antigen</td>\n",
       "    </tr>\n",
       "    <tr>\n",
       "      <th>4</th>\n",
       "      <td>Q9BXF3</td>\n",
       "      <td>CECR2_HUMAN</td>\n",
       "      <td>CECR2</td>\n",
       "      <td>Cat eye syndrome critical region protein 2</td>\n",
       "    </tr>\n",
       "  </tbody>\n",
       "</table>\n",
       "</div>"
      ],
      "text/plain": [
       "        0             1               2  \\\n",
       "0  A1Z199  A1Z199_HUMAN  BCR/ABL fusion   \n",
       "1  P11274     BCR_HUMAN             BCR   \n",
       "2  Q12830    BPTF_HUMAN            BPTF   \n",
       "3  P08962    CD63_HUMAN            CD63   \n",
       "4  Q9BXF3   CECR2_HUMAN           CECR2   \n",
       "\n",
       "                                            3  \n",
       "0                 BCR/ABL p210 fusion protein  \n",
       "1           Breakpoint cluster region protein  \n",
       "2   Nucleosome-remodeling factor subunit BPTF  \n",
       "3                                CD63 antigen  \n",
       "4  Cat eye syndrome critical region protein 2  "
      ]
     },
     "execution_count": 11,
     "metadata": {},
     "output_type": "execute_result"
    }
   ],
   "source": [
    "nega_df = pd.read_csv(\"../../data/Hansaim/JAKs_negatives.csv\", header=None)\n",
    "nega_df.head()"
   ]
  },
  {
   "cell_type": "code",
   "execution_count": 12,
   "metadata": {},
   "outputs": [
    {
     "name": "stdout",
     "output_type": "stream",
     "text": [
      "['A1Z199', 'P11274', 'Q12830', 'P08962', 'Q9BXF3', 'O94907', 'P97772', 'Q9NPC2', 'Q9Y6K9', 'Q9GZQ6', 'Q9Y5X5', 'Q460N5', 'P11103', 'O77746', 'P11541', 'O97554', 'O02768', 'P23907', 'Q9HUN3', 'Q9HBX9', 'Q9P0U3', 'Q9HC62', 'P21675', 'Q9NQB0', 'Q61143']\n"
     ]
    }
   ],
   "source": [
    "nega_list = list(nega_df[0])\n",
    "print(nega_list)"
   ]
  },
  {
   "cell_type": "markdown",
   "metadata": {},
   "source": [
    "### Find active compounds with target in the list"
   ]
  },
  {
   "cell_type": "code",
   "execution_count": 13,
   "metadata": {},
   "outputs": [],
   "source": [
    "active_inchikeys = list()"
   ]
  },
  {
   "cell_type": "markdown",
   "metadata": {},
   "source": [
    "##### pIC50 > 4.0"
   ]
  },
  {
   "cell_type": "code",
   "execution_count": 14,
   "metadata": {},
   "outputs": [],
   "source": [
    "in_list = pic_act_df[\"UniProt\"].str.upper().isin(nega_list)\n",
    "relation = pic_act_df[\"Relation\"].isin([\"=\",\">\",\">=\",\">>\"])\n",
    "lt_ic50 = pic_act_df[\"Activity_value\"] >= 4. \n",
    "active_inchikeys.extend(list(pic_act_df.loc[in_list & relation & lt_ic50][\"InChIKey\"]))"
   ]
  },
  {
   "cell_type": "code",
   "execution_count": 15,
   "metadata": {},
   "outputs": [
    {
     "data": {
      "text/plain": [
       "984"
      ]
     },
     "execution_count": 15,
     "metadata": {},
     "output_type": "execute_result"
    }
   ],
   "source": [
    "len(active_inchikeys)"
   ]
  },
  {
   "cell_type": "markdown",
   "metadata": {},
   "source": [
    "##### pKd > 7.0"
   ]
  },
  {
   "cell_type": "code",
   "execution_count": 16,
   "metadata": {},
   "outputs": [],
   "source": [
    "in_list = pkd_act_df[\"UniProt\"].str.upper().isin(nega_list)\n",
    "relation = pkd_act_df[\"Relation\"].isin([\"=\",\">\",\">=\",\">>\"])\n",
    "lt_pkd = pkd_act_df[\"Activity_value\"] >= 7.\n",
    "active_inchikeys.extend(list(pkd_act_df.loc[in_list & relation & lt_pkd][\"InChIKey\"]))"
   ]
  },
  {
   "cell_type": "code",
   "execution_count": 17,
   "metadata": {},
   "outputs": [
    {
     "data": {
      "text/plain": [
       "1119"
      ]
     },
     "execution_count": 17,
     "metadata": {},
     "output_type": "execute_result"
    }
   ],
   "source": [
    "len(active_inchikeys)"
   ]
  },
  {
   "cell_type": "markdown",
   "metadata": {},
   "source": [
    "##### pKi > 7.0"
   ]
  },
  {
   "cell_type": "code",
   "execution_count": 18,
   "metadata": {},
   "outputs": [],
   "source": [
    "in_list = pki_act_df[\"UniProt\"].str.upper().isin(nega_list)\n",
    "relation = pki_act_df[\"Relation\"].isin([\"=\",\">\",\">=\",\">>\"])\n",
    "lt_pki = pki_act_df[\"Activity_value\"] >= 7.\n",
    "active_inchikeys.extend(list(pki_act_df.loc[in_list & relation & lt_pki][\"InChIKey\"]))"
   ]
  },
  {
   "cell_type": "code",
   "execution_count": 19,
   "metadata": {},
   "outputs": [
    {
     "data": {
      "text/plain": [
       "1224"
      ]
     },
     "execution_count": 19,
     "metadata": {},
     "output_type": "execute_result"
    }
   ],
   "source": [
    "len(active_inchikeys)"
   ]
  },
  {
   "cell_type": "markdown",
   "metadata": {},
   "source": [
    "#### Remove overlapping"
   ]
  },
  {
   "cell_type": "code",
   "execution_count": 20,
   "metadata": {},
   "outputs": [
    {
     "name": "stdout",
     "output_type": "stream",
     "text": [
      "1224 -> 687\n"
     ]
    }
   ],
   "source": [
    "ori_l = len(active_inchikeys)\n",
    "active_inchikeys = set(active_inchikeys)\n",
    "print(ori_l, \"->\", len(active_inchikeys))"
   ]
  },
  {
   "cell_type": "markdown",
   "metadata": {},
   "source": [
    "### Convert InChIKeys to SMILES"
   ]
  },
  {
   "cell_type": "code",
   "execution_count": 21,
   "metadata": {
    "tags": [
     "outputPrepend"
    ]
   },
   "outputs": [
    {
     "name": "stdout",
     "output_type": "stream",
     "text": [
      "662\n"
     ]
    }
   ],
   "source": [
    "active_smiles = list()\n",
    "for k in active_inchikeys:\n",
    "    try:\n",
    "        active_smiles.append(k2s[k])\n",
    "    except KeyError:\n",
    "        continue\n",
    "print(len(active_smiles))"
   ]
  },
  {
   "cell_type": "markdown",
   "metadata": {},
   "source": [
    "### Convert SMILES to graphs"
   ]
  },
  {
   "cell_type": "code",
   "execution_count": 22,
   "metadata": {},
   "outputs": [],
   "source": [
    "from chemreader.writers import GraphWriter\n",
    "from chemreader.readers import Smiles"
   ]
  },
  {
   "cell_type": "code",
   "execution_count": 23,
   "metadata": {},
   "outputs": [],
   "source": [
    "smiles = [Smiles(s, sanitize=True) for s in active_smiles]"
   ]
  },
  {
   "cell_type": "code",
   "execution_count": 24,
   "metadata": {},
   "outputs": [],
   "source": [
    "writer = GraphWriter(smiles)\n",
    "writer.write(\"../../data/JAK/graphs\", prefix=\"JAK_negative_integrated\")"
   ]
  },
  {
   "cell_type": "code",
   "execution_count": 25,
   "metadata": {},
   "outputs": [],
   "source": [
    "with open(\"../../data/Hansaim/JAKs_negative_integrated_SMILES.txt\", \"w\") as f:\n",
    "    for smiles in active_smiles:\n",
    "        f.write(smiles+\"\\n\") "
   ]
  },
  {
   "cell_type": "code",
   "execution_count": 26,
   "metadata": {},
   "outputs": [],
   "source": [
    "with open(\"../../data/Hansaim/JAKs_negative_threshold_4_SMILES.txt\", \"r\") as f:\n",
    "    smiles = f.readlines()"
   ]
  },
  {
   "cell_type": "code",
   "execution_count": 27,
   "metadata": {},
   "outputs": [
    {
     "name": "stdout",
     "output_type": "stream",
     "text": [
      "934 -> 607\n"
     ]
    }
   ],
   "source": [
    "print(len(smiles), \"->\", len(set(smiles)))"
   ]
  }
 ],
 "metadata": {
  "kernelspec": {
   "display_name": "'Python Interactive'",
   "language": "python",
   "name": "ca2090ec-da29-42da-892a-0ca00f0c5f30"
  },
  "language_info": {
   "codemirror_mode": {
    "name": "ipython",
    "version": 3
   },
   "file_extension": ".py",
   "mimetype": "text/x-python",
   "name": "python",
   "nbconvert_exporter": "python",
   "pygments_lexer": "ipython3",
   "version": "3.6.9"
  }
 },
 "nbformat": 4,
 "nbformat_minor": 4
}
